{
 "cells": [
  {
   "cell_type": "markdown",
   "id": "0354dea9",
   "metadata": {},
   "source": [
    "Pandas - built on top of Numpy"
   ]
  },
  {
   "cell_type": "markdown",
   "id": "5ee60dfc",
   "metadata": {},
   "source": [
    "-NumPy is great for numerical arrays,\n",
    "-Pandas builds on top of NumPy to make working with tabular & labeled data easy."
   ]
  },
  {
   "cell_type": "markdown",
   "id": "8e4081b9",
   "metadata": {},
   "source": [
    "Pandas is a Python library designed for data analysis and manipulation — think of it as Excel for Python, but much more powerful and programmable.\n",
    "\n",
    "Main uses of Pandas\n",
    "-Storing data in powerful structures\n",
    "  -Series → 1D labeled data (like a single column in Excel)\n",
    "  -DataFrame → 2D labeled data (like a table in Excel)\n",
    "\n",
    "-Reading and writing data\n",
    "  -Load data from CSV, Excel, SQL, JSON, Parquet, etc.\n",
    "  -Save processed data back to these formats.\n",
    "\n",
    "-Data cleaning & preprocessing\n",
    "  -Handle missing values (NaN)\n",
    "  -Rename columns, filter rows, drop duplicates\n",
    "  -Change data types\n",
    "\n",
    "-Data analysis\n",
    "  -Grouping, aggregations, statistics\n",
    "  -Sorting and filtering\n",
    "  -Merging and joining datasets\n",
    "\n",
    "-Time series operations\n",
    "  -Resampling\n",
    "  -Shifting\n",
    "  -Date-based indexing"
   ]
  },
  {
   "cell_type": "code",
   "execution_count": 53,
   "id": "74567382",
   "metadata": {},
   "outputs": [],
   "source": [
    "import pandas as pd"
   ]
  },
  {
   "cell_type": "code",
   "execution_count": 15,
   "id": "576f1299",
   "metadata": {},
   "outputs": [
    {
     "name": "stdout",
     "output_type": "stream",
     "text": [
      "2.3.1\n"
     ]
    }
   ],
   "source": [
    "print(pd.__version__)"
   ]
  },
  {
   "cell_type": "code",
   "execution_count": 16,
   "id": "aa4705e6",
   "metadata": {},
   "outputs": [],
   "source": [
    "seriesA = pd.Series([2,3,4,5],index=['a','b','c','d'])"
   ]
  },
  {
   "cell_type": "code",
   "execution_count": 17,
   "id": "1512c78f",
   "metadata": {},
   "outputs": [
    {
     "data": {
      "text/plain": [
       "a    2\n",
       "b    3\n",
       "c    4\n",
       "d    5\n",
       "dtype: int64"
      ]
     },
     "execution_count": 17,
     "metadata": {},
     "output_type": "execute_result"
    }
   ],
   "source": [
    "seriesA"
   ]
  },
  {
   "cell_type": "code",
   "execution_count": 18,
   "id": "ddc66c22",
   "metadata": {},
   "outputs": [
    {
     "data": {
      "text/plain": [
       "numpy.ndarray"
      ]
     },
     "execution_count": 18,
     "metadata": {},
     "output_type": "execute_result"
    }
   ],
   "source": [
    "type(seriesA.values)"
   ]
  },
  {
   "cell_type": "code",
   "execution_count": 19,
   "id": "fd8757c6",
   "metadata": {},
   "outputs": [
    {
     "data": {
      "text/plain": [
       "Index(['a', 'b', 'c', 'd'], dtype='object')"
      ]
     },
     "execution_count": 19,
     "metadata": {},
     "output_type": "execute_result"
    }
   ],
   "source": [
    "seriesA.index"
   ]
  },
  {
   "cell_type": "code",
   "execution_count": 20,
   "id": "3efbfe90",
   "metadata": {},
   "outputs": [
    {
     "data": {
      "text/plain": [
       "np.int64(2)"
      ]
     },
     "execution_count": 20,
     "metadata": {},
     "output_type": "execute_result"
    }
   ],
   "source": [
    "seriesA['a']"
   ]
  },
  {
   "cell_type": "code",
   "execution_count": 21,
   "id": "bccbeec7",
   "metadata": {},
   "outputs": [
    {
     "data": {
      "text/plain": [
       "a    2\n",
       "b    3\n",
       "c    4\n",
       "dtype: int64"
      ]
     },
     "execution_count": 21,
     "metadata": {},
     "output_type": "execute_result"
    }
   ],
   "source": [
    "seriesA['a':'c']"
   ]
  },
  {
   "cell_type": "code",
   "execution_count": 22,
   "id": "8b88fced",
   "metadata": {},
   "outputs": [],
   "source": [
    "\"\"\"creating a dictionary\"\"\"\n",
    "grades_dict = {'A':4,'A-':3.5,'B':3.0, 'B-':2.5, 'B':2.0}\n",
    "grades=pd.Series(grades_dict)\n",
    "\n",
    "marks_dict={'A':85, 'A-':80, 'B':75, 'B-':70, 'B':65}\n",
    "marks =pd.Series(marks_dict)"
   ]
  },
  {
   "cell_type": "code",
   "execution_count": 23,
   "id": "69c13350",
   "metadata": {},
   "outputs": [
    {
     "data": {
      "text/plain": [
       "A     4.0\n",
       "A-    3.5\n",
       "B     2.0\n",
       "B-    2.5\n",
       "dtype: float64"
      ]
     },
     "execution_count": 23,
     "metadata": {},
     "output_type": "execute_result"
    }
   ],
   "source": [
    "grades"
   ]
  },
  {
   "cell_type": "code",
   "execution_count": 24,
   "id": "fa79b08d",
   "metadata": {},
   "outputs": [
    {
     "data": {
      "text/plain": [
       "A     85\n",
       "A-    80\n",
       "B     65\n",
       "B-    70\n",
       "dtype: int64"
      ]
     },
     "execution_count": 24,
     "metadata": {},
     "output_type": "execute_result"
    }
   ],
   "source": [
    "marks"
   ]
  },
  {
   "cell_type": "code",
   "execution_count": 25,
   "id": "f71e1f36",
   "metadata": {},
   "outputs": [
    {
     "data": {
      "text/plain": [
       "np.int64(85)"
      ]
     },
     "execution_count": 25,
     "metadata": {},
     "output_type": "execute_result"
    }
   ],
   "source": [
    "marks['A']"
   ]
  },
  {
   "cell_type": "code",
   "execution_count": 26,
   "id": "18d7abf5",
   "metadata": {},
   "outputs": [
    {
     "data": {
      "text/plain": [
       "A     85\n",
       "A-    80\n",
       "dtype: int64"
      ]
     },
     "execution_count": 26,
     "metadata": {},
     "output_type": "execute_result"
    }
   ],
   "source": [
    "marks[0:2] #slicing"
   ]
  },
  {
   "cell_type": "code",
   "execution_count": 27,
   "id": "5ae27588",
   "metadata": {},
   "outputs": [],
   "source": [
    "#generating a dataframe from the defined dictionary and giving the names to the columns\n",
    "marks_dataFrame= pd.DataFrame ({'Marks':marks,'Grades':grades})"
   ]
  },
  {
   "cell_type": "code",
   "execution_count": 28,
   "id": "f9660ca5",
   "metadata": {},
   "outputs": [
    {
     "data": {
      "text/html": [
       "<div>\n",
       "<style scoped>\n",
       "    .dataframe tbody tr th:only-of-type {\n",
       "        vertical-align: middle;\n",
       "    }\n",
       "\n",
       "    .dataframe tbody tr th {\n",
       "        vertical-align: top;\n",
       "    }\n",
       "\n",
       "    .dataframe thead th {\n",
       "        text-align: right;\n",
       "    }\n",
       "</style>\n",
       "<table border=\"1\" class=\"dataframe\">\n",
       "  <thead>\n",
       "    <tr style=\"text-align: right;\">\n",
       "      <th></th>\n",
       "      <th>Marks</th>\n",
       "      <th>Grades</th>\n",
       "    </tr>\n",
       "  </thead>\n",
       "  <tbody>\n",
       "    <tr>\n",
       "      <th>A</th>\n",
       "      <td>85</td>\n",
       "      <td>4.0</td>\n",
       "    </tr>\n",
       "    <tr>\n",
       "      <th>A-</th>\n",
       "      <td>80</td>\n",
       "      <td>3.5</td>\n",
       "    </tr>\n",
       "    <tr>\n",
       "      <th>B</th>\n",
       "      <td>65</td>\n",
       "      <td>2.0</td>\n",
       "    </tr>\n",
       "    <tr>\n",
       "      <th>B-</th>\n",
       "      <td>70</td>\n",
       "      <td>2.5</td>\n",
       "    </tr>\n",
       "  </tbody>\n",
       "</table>\n",
       "</div>"
      ],
      "text/plain": [
       "    Marks  Grades\n",
       "A      85     4.0\n",
       "A-     80     3.5\n",
       "B      65     2.0\n",
       "B-     70     2.5"
      ]
     },
     "execution_count": 28,
     "metadata": {},
     "output_type": "execute_result"
    }
   ],
   "source": [
    "marks_dataFrame"
   ]
  },
  {
   "cell_type": "code",
   "execution_count": 29,
   "id": "8c43d370",
   "metadata": {},
   "outputs": [
    {
     "data": {
      "text/html": [
       "<div>\n",
       "<style scoped>\n",
       "    .dataframe tbody tr th:only-of-type {\n",
       "        vertical-align: middle;\n",
       "    }\n",
       "\n",
       "    .dataframe tbody tr th {\n",
       "        vertical-align: top;\n",
       "    }\n",
       "\n",
       "    .dataframe thead th {\n",
       "        text-align: right;\n",
       "    }\n",
       "</style>\n",
       "<table border=\"1\" class=\"dataframe\">\n",
       "  <thead>\n",
       "    <tr style=\"text-align: right;\">\n",
       "      <th></th>\n",
       "      <th>A</th>\n",
       "      <th>A-</th>\n",
       "      <th>B</th>\n",
       "      <th>B-</th>\n",
       "    </tr>\n",
       "  </thead>\n",
       "  <tbody>\n",
       "    <tr>\n",
       "      <th>Marks</th>\n",
       "      <td>85.0</td>\n",
       "      <td>80.0</td>\n",
       "      <td>65.0</td>\n",
       "      <td>70.0</td>\n",
       "    </tr>\n",
       "    <tr>\n",
       "      <th>Grades</th>\n",
       "      <td>4.0</td>\n",
       "      <td>3.5</td>\n",
       "      <td>2.0</td>\n",
       "      <td>2.5</td>\n",
       "    </tr>\n",
       "  </tbody>\n",
       "</table>\n",
       "</div>"
      ],
      "text/plain": [
       "           A    A-     B    B-\n",
       "Marks   85.0  80.0  65.0  70.0\n",
       "Grades   4.0   3.5   2.0   2.5"
      ]
     },
     "execution_count": 29,
     "metadata": {},
     "output_type": "execute_result"
    }
   ],
   "source": [
    "marks_dataFrame.T"
   ]
  },
  {
   "cell_type": "code",
   "execution_count": 30,
   "id": "768188c0",
   "metadata": {},
   "outputs": [
    {
     "data": {
      "text/plain": [
       "np.float64(65.0)"
      ]
     },
     "execution_count": 30,
     "metadata": {},
     "output_type": "execute_result"
    }
   ],
   "source": [
    "marks_dataFrame.values[2,0] #extract value from 3rd row and 1 column"
   ]
  },
  {
   "cell_type": "code",
   "execution_count": 31,
   "id": "5f273d29",
   "metadata": {},
   "outputs": [
    {
     "data": {
      "text/plain": [
       "Index(['Marks', 'Grades'], dtype='object')"
      ]
     },
     "execution_count": 31,
     "metadata": {},
     "output_type": "execute_result"
    }
   ],
   "source": [
    "marks_dataFrame.columns"
   ]
  },
  {
   "cell_type": "code",
   "execution_count": 32,
   "id": "9daa8bb5",
   "metadata": {},
   "outputs": [
    {
     "data": {
      "text/html": [
       "<div>\n",
       "<style scoped>\n",
       "    .dataframe tbody tr th:only-of-type {\n",
       "        vertical-align: middle;\n",
       "    }\n",
       "\n",
       "    .dataframe tbody tr th {\n",
       "        vertical-align: top;\n",
       "    }\n",
       "\n",
       "    .dataframe thead th {\n",
       "        text-align: right;\n",
       "    }\n",
       "</style>\n",
       "<table border=\"1\" class=\"dataframe\">\n",
       "  <thead>\n",
       "    <tr style=\"text-align: right;\">\n",
       "      <th></th>\n",
       "      <th>Marks</th>\n",
       "      <th>Grades</th>\n",
       "    </tr>\n",
       "  </thead>\n",
       "  <tbody>\n",
       "    <tr>\n",
       "      <th>A</th>\n",
       "      <td>85</td>\n",
       "      <td>4.0</td>\n",
       "    </tr>\n",
       "    <tr>\n",
       "      <th>A-</th>\n",
       "      <td>80</td>\n",
       "      <td>3.5</td>\n",
       "    </tr>\n",
       "    <tr>\n",
       "      <th>B</th>\n",
       "      <td>65</td>\n",
       "      <td>2.0</td>\n",
       "    </tr>\n",
       "    <tr>\n",
       "      <th>B-</th>\n",
       "      <td>70</td>\n",
       "      <td>2.5</td>\n",
       "    </tr>\n",
       "  </tbody>\n",
       "</table>\n",
       "</div>"
      ],
      "text/plain": [
       "    Marks  Grades\n",
       "A      85     4.0\n",
       "A-     80     3.5\n",
       "B      65     2.0\n",
       "B-     70     2.5"
      ]
     },
     "execution_count": 32,
     "metadata": {},
     "output_type": "execute_result"
    }
   ],
   "source": [
    "marks_dataFrame"
   ]
  },
  {
   "cell_type": "code",
   "execution_count": 33,
   "id": "00524bd9",
   "metadata": {},
   "outputs": [
    {
     "data": {
      "text/html": [
       "<div>\n",
       "<style scoped>\n",
       "    .dataframe tbody tr th:only-of-type {\n",
       "        vertical-align: middle;\n",
       "    }\n",
       "\n",
       "    .dataframe tbody tr th {\n",
       "        vertical-align: top;\n",
       "    }\n",
       "\n",
       "    .dataframe thead th {\n",
       "        text-align: right;\n",
       "    }\n",
       "</style>\n",
       "<table border=\"1\" class=\"dataframe\">\n",
       "  <thead>\n",
       "    <tr style=\"text-align: right;\">\n",
       "      <th></th>\n",
       "      <th>Marks</th>\n",
       "      <th>Grades</th>\n",
       "      <th>ScaledMarks</th>\n",
       "    </tr>\n",
       "  </thead>\n",
       "  <tbody>\n",
       "    <tr>\n",
       "      <th>A</th>\n",
       "      <td>85</td>\n",
       "      <td>4.0</td>\n",
       "      <td>94.444444</td>\n",
       "    </tr>\n",
       "    <tr>\n",
       "      <th>A-</th>\n",
       "      <td>80</td>\n",
       "      <td>3.5</td>\n",
       "      <td>88.888889</td>\n",
       "    </tr>\n",
       "    <tr>\n",
       "      <th>B</th>\n",
       "      <td>65</td>\n",
       "      <td>2.0</td>\n",
       "      <td>72.222222</td>\n",
       "    </tr>\n",
       "    <tr>\n",
       "      <th>B-</th>\n",
       "      <td>70</td>\n",
       "      <td>2.5</td>\n",
       "      <td>77.777778</td>\n",
       "    </tr>\n",
       "  </tbody>\n",
       "</table>\n",
       "</div>"
      ],
      "text/plain": [
       "    Marks  Grades  ScaledMarks\n",
       "A      85     4.0    94.444444\n",
       "A-     80     3.5    88.888889\n",
       "B      65     2.0    72.222222\n",
       "B-     70     2.5    77.777778"
      ]
     },
     "execution_count": 33,
     "metadata": {},
     "output_type": "execute_result"
    }
   ],
   "source": [
    "#inserting another column \n",
    "marks_dataFrame[\"ScaledMarks\"] = 100*(marks_dataFrame[\"Marks\"]/90)\n",
    "marks_dataFrame"
   ]
  },
  {
   "cell_type": "code",
   "execution_count": 34,
   "id": "aafe7c4d",
   "metadata": {},
   "outputs": [],
   "source": [
    "del marks_dataFrame['ScaledMarks'] #deleting the column"
   ]
  },
  {
   "cell_type": "code",
   "execution_count": 35,
   "id": "f691c982",
   "metadata": {},
   "outputs": [
    {
     "data": {
      "text/html": [
       "<div>\n",
       "<style scoped>\n",
       "    .dataframe tbody tr th:only-of-type {\n",
       "        vertical-align: middle;\n",
       "    }\n",
       "\n",
       "    .dataframe tbody tr th {\n",
       "        vertical-align: top;\n",
       "    }\n",
       "\n",
       "    .dataframe thead th {\n",
       "        text-align: right;\n",
       "    }\n",
       "</style>\n",
       "<table border=\"1\" class=\"dataframe\">\n",
       "  <thead>\n",
       "    <tr style=\"text-align: right;\">\n",
       "      <th></th>\n",
       "      <th>Marks</th>\n",
       "      <th>Grades</th>\n",
       "    </tr>\n",
       "  </thead>\n",
       "  <tbody>\n",
       "    <tr>\n",
       "      <th>A</th>\n",
       "      <td>85</td>\n",
       "      <td>4.0</td>\n",
       "    </tr>\n",
       "    <tr>\n",
       "      <th>A-</th>\n",
       "      <td>80</td>\n",
       "      <td>3.5</td>\n",
       "    </tr>\n",
       "    <tr>\n",
       "      <th>B</th>\n",
       "      <td>65</td>\n",
       "      <td>2.0</td>\n",
       "    </tr>\n",
       "    <tr>\n",
       "      <th>B-</th>\n",
       "      <td>70</td>\n",
       "      <td>2.5</td>\n",
       "    </tr>\n",
       "  </tbody>\n",
       "</table>\n",
       "</div>"
      ],
      "text/plain": [
       "    Marks  Grades\n",
       "A      85     4.0\n",
       "A-     80     3.5\n",
       "B      65     2.0\n",
       "B-     70     2.5"
      ]
     },
     "execution_count": 35,
     "metadata": {},
     "output_type": "execute_result"
    }
   ],
   "source": [
    "marks_dataFrame"
   ]
  },
  {
   "cell_type": "code",
   "execution_count": 36,
   "id": "473c7002",
   "metadata": {},
   "outputs": [
    {
     "data": {
      "text/html": [
       "<div>\n",
       "<style scoped>\n",
       "    .dataframe tbody tr th:only-of-type {\n",
       "        vertical-align: middle;\n",
       "    }\n",
       "\n",
       "    .dataframe tbody tr th {\n",
       "        vertical-align: top;\n",
       "    }\n",
       "\n",
       "    .dataframe thead th {\n",
       "        text-align: right;\n",
       "    }\n",
       "</style>\n",
       "<table border=\"1\" class=\"dataframe\">\n",
       "  <thead>\n",
       "    <tr style=\"text-align: right;\">\n",
       "      <th></th>\n",
       "      <th>Marks</th>\n",
       "      <th>Grades</th>\n",
       "    </tr>\n",
       "  </thead>\n",
       "  <tbody>\n",
       "    <tr>\n",
       "      <th>A</th>\n",
       "      <td>85</td>\n",
       "      <td>4.0</td>\n",
       "    </tr>\n",
       "    <tr>\n",
       "      <th>A-</th>\n",
       "      <td>80</td>\n",
       "      <td>3.5</td>\n",
       "    </tr>\n",
       "  </tbody>\n",
       "</table>\n",
       "</div>"
      ],
      "text/plain": [
       "    Marks  Grades\n",
       "A      85     4.0\n",
       "A-     80     3.5"
      ]
     },
     "execution_count": 36,
     "metadata": {},
     "output_type": "execute_result"
    }
   ],
   "source": [
    "#masking in pandas\n",
    "grades_greaterthan70 = marks_dataFrame[marks_dataFrame['Marks']>70]\n",
    "grades_greaterthan70"
   ]
  },
  {
   "cell_type": "code",
   "execution_count": 37,
   "id": "251cea6d",
   "metadata": {},
   "outputs": [
    {
     "data": {
      "text/html": [
       "<div>\n",
       "<style scoped>\n",
       "    .dataframe tbody tr th:only-of-type {\n",
       "        vertical-align: middle;\n",
       "    }\n",
       "\n",
       "    .dataframe tbody tr th {\n",
       "        vertical-align: top;\n",
       "    }\n",
       "\n",
       "    .dataframe thead th {\n",
       "        text-align: right;\n",
       "    }\n",
       "</style>\n",
       "<table border=\"1\" class=\"dataframe\">\n",
       "  <thead>\n",
       "    <tr style=\"text-align: right;\">\n",
       "      <th></th>\n",
       "      <th>a</th>\n",
       "      <th>b</th>\n",
       "      <th>c</th>\n",
       "    </tr>\n",
       "  </thead>\n",
       "  <tbody>\n",
       "    <tr>\n",
       "      <th>0</th>\n",
       "      <td>1.0</td>\n",
       "      <td>2</td>\n",
       "      <td>NaN</td>\n",
       "    </tr>\n",
       "    <tr>\n",
       "      <th>1</th>\n",
       "      <td>NaN</td>\n",
       "      <td>-3</td>\n",
       "      <td>9.0</td>\n",
       "    </tr>\n",
       "  </tbody>\n",
       "</table>\n",
       "</div>"
      ],
      "text/plain": [
       "     a  b    c\n",
       "0  1.0  2  NaN\n",
       "1  NaN -3  9.0"
      ]
     },
     "execution_count": 37,
     "metadata": {},
     "output_type": "execute_result"
    }
   ],
   "source": [
    "#creating a list of the dictionary\n",
    "A = pd.DataFrame([{'a':1, 'b':2}, {'b':-3,'c':9}])\n",
    "A\n",
    "#Missing values are denoted by NaN"
   ]
  },
  {
   "cell_type": "code",
   "execution_count": 38,
   "id": "66d11bca",
   "metadata": {},
   "outputs": [
    {
     "data": {
      "text/html": [
       "<div>\n",
       "<style scoped>\n",
       "    .dataframe tbody tr th:only-of-type {\n",
       "        vertical-align: middle;\n",
       "    }\n",
       "\n",
       "    .dataframe tbody tr th {\n",
       "        vertical-align: top;\n",
       "    }\n",
       "\n",
       "    .dataframe thead th {\n",
       "        text-align: right;\n",
       "    }\n",
       "</style>\n",
       "<table border=\"1\" class=\"dataframe\">\n",
       "  <thead>\n",
       "    <tr style=\"text-align: right;\">\n",
       "      <th></th>\n",
       "      <th>a</th>\n",
       "      <th>b</th>\n",
       "      <th>c</th>\n",
       "    </tr>\n",
       "  </thead>\n",
       "  <tbody>\n",
       "    <tr>\n",
       "      <th>0</th>\n",
       "      <td>1.0</td>\n",
       "      <td>2</td>\n",
       "      <td>0.0</td>\n",
       "    </tr>\n",
       "    <tr>\n",
       "      <th>1</th>\n",
       "      <td>0.0</td>\n",
       "      <td>-3</td>\n",
       "      <td>9.0</td>\n",
       "    </tr>\n",
       "  </tbody>\n",
       "</table>\n",
       "</div>"
      ],
      "text/plain": [
       "     a  b    c\n",
       "0  1.0  2  0.0\n",
       "1  0.0 -3  9.0"
      ]
     },
     "execution_count": 38,
     "metadata": {},
     "output_type": "execute_result"
    }
   ],
   "source": [
    "#vacant values can also be filled\n",
    "A.fillna(0)"
   ]
  },
  {
   "cell_type": "code",
   "execution_count": 39,
   "id": "5bfbd440",
   "metadata": {},
   "outputs": [
    {
     "data": {
      "text/plain": [
       "<bound method DataFrame.dropna of      a  b    c\n",
       "0  1.0  2  NaN\n",
       "1  NaN -3  9.0>"
      ]
     },
     "execution_count": 39,
     "metadata": {},
     "output_type": "execute_result"
    }
   ],
   "source": [
    "A.dropna #drops all the records containing missing values"
   ]
  },
  {
   "cell_type": "markdown",
   "id": "bae82799",
   "metadata": {},
   "source": [
    "Pandas(Indexing) - Explicit Index, Implicit Index"
   ]
  },
  {
   "cell_type": "code",
   "execution_count": 40,
   "id": "9d2a2732",
   "metadata": {},
   "outputs": [
    {
     "data": {
      "text/plain": [
       "'implicit or explicit depending on whether you set indices yourself or let pandas handle them\\n    e.g.\\n    s = pd.Series([10, 20, 30])\\n    print(s)\\n0    10\\n1    20\\n2    30\\ndtype: int64\\n\\n    0, 1, 2 → implicit indices'"
      ]
     },
     "execution_count": 40,
     "metadata": {},
     "output_type": "execute_result"
    }
   ],
   "source": [
    "#data[1] #explicit index, use loc instead\n",
    "#data[1:3] #implicit index, use iloc instead\n",
    "\n",
    "\"\"\"implicit or explicit depending on whether you set indices yourself or let pandas handle them\n",
    "    e.g.\n",
    "    s = pd.Series([10, 20, 30])\n",
    "    print(s)\n",
    "0    10\n",
    "1    20\n",
    "2    30\n",
    "dtype: int64\n",
    "\n",
    "    0, 1, 2 → implicit indices\"\"\""
   ]
  },
  {
   "cell_type": "code",
   "execution_count": 41,
   "id": "f7dda57f",
   "metadata": {},
   "outputs": [],
   "source": [
    "A = pd.Series(['a','b','c'], index=[1,3,5])"
   ]
  },
  {
   "cell_type": "code",
   "execution_count": 42,
   "id": "51afcd85",
   "metadata": {},
   "outputs": [
    {
     "data": {
      "text/plain": [
       "'a'"
      ]
     },
     "execution_count": 42,
     "metadata": {},
     "output_type": "execute_result"
    }
   ],
   "source": [
    "A[1]"
   ]
  },
  {
   "cell_type": "code",
   "execution_count": 43,
   "id": "8f01f36f",
   "metadata": {},
   "outputs": [
    {
     "data": {
      "text/plain": [
       "3    b\n",
       "5    c\n",
       "dtype: object"
      ]
     },
     "execution_count": 43,
     "metadata": {},
     "output_type": "execute_result"
    }
   ],
   "source": [
    "A[1:3]"
   ]
  },
  {
   "cell_type": "code",
   "execution_count": 44,
   "id": "937473f2",
   "metadata": {},
   "outputs": [
    {
     "data": {
      "text/plain": [
       "1    a\n",
       "3    b\n",
       "dtype: object"
      ]
     },
     "execution_count": 44,
     "metadata": {},
     "output_type": "execute_result"
    }
   ],
   "source": [
    "A.loc[1:3]"
   ]
  },
  {
   "cell_type": "code",
   "execution_count": 45,
   "id": "3cf9ea41",
   "metadata": {},
   "outputs": [
    {
     "data": {
      "text/plain": [
       "3    b\n",
       "5    c\n",
       "dtype: object"
      ]
     },
     "execution_count": 45,
     "metadata": {},
     "output_type": "execute_result"
    }
   ],
   "source": [
    "A.iloc[1:3]"
   ]
  },
  {
   "cell_type": "code",
   "execution_count": 46,
   "id": "4ceef1b7",
   "metadata": {},
   "outputs": [
    {
     "data": {
      "text/html": [
       "<div>\n",
       "<style scoped>\n",
       "    .dataframe tbody tr th:only-of-type {\n",
       "        vertical-align: middle;\n",
       "    }\n",
       "\n",
       "    .dataframe tbody tr th {\n",
       "        vertical-align: top;\n",
       "    }\n",
       "\n",
       "    .dataframe thead th {\n",
       "        text-align: right;\n",
       "    }\n",
       "</style>\n",
       "<table border=\"1\" class=\"dataframe\">\n",
       "  <thead>\n",
       "    <tr style=\"text-align: right;\">\n",
       "      <th></th>\n",
       "      <th>Marks</th>\n",
       "      <th>Grades</th>\n",
       "    </tr>\n",
       "  </thead>\n",
       "  <tbody>\n",
       "    <tr>\n",
       "      <th>A</th>\n",
       "      <td>85</td>\n",
       "      <td>4.0</td>\n",
       "    </tr>\n",
       "    <tr>\n",
       "      <th>A-</th>\n",
       "      <td>80</td>\n",
       "      <td>3.5</td>\n",
       "    </tr>\n",
       "    <tr>\n",
       "      <th>B</th>\n",
       "      <td>65</td>\n",
       "      <td>2.0</td>\n",
       "    </tr>\n",
       "    <tr>\n",
       "      <th>B-</th>\n",
       "      <td>70</td>\n",
       "      <td>2.5</td>\n",
       "    </tr>\n",
       "  </tbody>\n",
       "</table>\n",
       "</div>"
      ],
      "text/plain": [
       "    Marks  Grades\n",
       "A      85     4.0\n",
       "A-     80     3.5\n",
       "B      65     2.0\n",
       "B-     70     2.5"
      ]
     },
     "execution_count": 46,
     "metadata": {},
     "output_type": "execute_result"
    }
   ],
   "source": [
    "marks_dataFrame"
   ]
  },
  {
   "cell_type": "code",
   "execution_count": 47,
   "id": "3307f47a",
   "metadata": {},
   "outputs": [
    {
     "data": {
      "text/plain": [
       "Marks     65.0\n",
       "Grades     2.0\n",
       "Name: B, dtype: float64"
      ]
     },
     "execution_count": 47,
     "metadata": {},
     "output_type": "execute_result"
    }
   ],
   "source": [
    "marks_dataFrame.iloc[2,:] #returning the implicit index 2 values"
   ]
  },
  {
   "cell_type": "code",
   "execution_count": 48,
   "id": "ea57e729",
   "metadata": {},
   "outputs": [
    {
     "data": {
      "text/html": [
       "<div>\n",
       "<style scoped>\n",
       "    .dataframe tbody tr th:only-of-type {\n",
       "        vertical-align: middle;\n",
       "    }\n",
       "\n",
       "    .dataframe tbody tr th {\n",
       "        vertical-align: top;\n",
       "    }\n",
       "\n",
       "    .dataframe thead th {\n",
       "        text-align: right;\n",
       "    }\n",
       "</style>\n",
       "<table border=\"1\" class=\"dataframe\">\n",
       "  <thead>\n",
       "    <tr style=\"text-align: right;\">\n",
       "      <th></th>\n",
       "      <th>Marks</th>\n",
       "      <th>Grades</th>\n",
       "    </tr>\n",
       "  </thead>\n",
       "  <tbody>\n",
       "    <tr>\n",
       "      <th>B-</th>\n",
       "      <td>70</td>\n",
       "      <td>2.5</td>\n",
       "    </tr>\n",
       "    <tr>\n",
       "      <th>B</th>\n",
       "      <td>65</td>\n",
       "      <td>2.0</td>\n",
       "    </tr>\n",
       "    <tr>\n",
       "      <th>A-</th>\n",
       "      <td>80</td>\n",
       "      <td>3.5</td>\n",
       "    </tr>\n",
       "    <tr>\n",
       "      <th>A</th>\n",
       "      <td>85</td>\n",
       "      <td>4.0</td>\n",
       "    </tr>\n",
       "  </tbody>\n",
       "</table>\n",
       "</div>"
      ],
      "text/plain": [
       "    Marks  Grades\n",
       "B-     70     2.5\n",
       "B      65     2.0\n",
       "A-     80     3.5\n",
       "A      85     4.0"
      ]
     },
     "execution_count": 48,
     "metadata": {},
     "output_type": "execute_result"
    }
   ],
   "source": [
    "marks_dataFrame.iloc[::-1,:] #reversing the order"
   ]
  },
  {
   "cell_type": "markdown",
   "id": "9591c3c1",
   "metadata": {},
   "source": [
    "Pandas(csv files)"
   ]
  },
  {
   "cell_type": "code",
   "execution_count": 56,
   "id": "f9c16eff",
   "metadata": {},
   "outputs": [],
   "source": [
    "import pandas as pd"
   ]
  },
  {
   "cell_type": "markdown",
   "id": "84b64de2",
   "metadata": {},
   "source": [
    "🔹 What is SimpleImputer?\n",
    "\n",
    "It’s a class in scikit-learn that can automatically fill in missing values in your dataset with some strategy (mean, median, most frequent value, or a constant)."
   ]
  },
  {
   "cell_type": "code",
   "execution_count": 65,
   "id": "3f911e65",
   "metadata": {},
   "outputs": [],
   "source": [
    "from sklearn.impute import SimpleImputer #used to handle missing values (NaN/null) in your dataset when working with scikit-learn."
   ]
  },
  {
   "cell_type": "code",
   "execution_count": 58,
   "id": "4a09b6ae",
   "metadata": {},
   "outputs": [],
   "source": [
    "df = pd.read_csv(\"C:/Users/DELL/OneDrive/Pyfiles/data_v7.csv\")"
   ]
  },
  {
   "cell_type": "code",
   "execution_count": null,
   "id": "d0583b7a",
   "metadata": {},
   "outputs": [
    {
     "data": {
      "text/html": [
       "<div>\n",
       "<style scoped>\n",
       "    .dataframe tbody tr th:only-of-type {\n",
       "        vertical-align: middle;\n",
       "    }\n",
       "\n",
       "    .dataframe tbody tr th {\n",
       "        vertical-align: top;\n",
       "    }\n",
       "\n",
       "    .dataframe thead th {\n",
       "        text-align: right;\n",
       "    }\n",
       "</style>\n",
       "<table border=\"1\" class=\"dataframe\">\n",
       "  <thead>\n",
       "    <tr style=\"text-align: right;\">\n",
       "      <th></th>\n",
       "      <th>YearWeekISO</th>\n",
       "      <th>ReportingCountry</th>\n",
       "      <th>Denominator</th>\n",
       "      <th>NumberOfIndivOneDose</th>\n",
       "      <th>Region</th>\n",
       "      <th>TargetGroup</th>\n",
       "      <th>Vaccine</th>\n",
       "      <th>Population</th>\n",
       "    </tr>\n",
       "  </thead>\n",
       "  <tbody>\n",
       "    <tr>\n",
       "      <th>0</th>\n",
       "      <td>2023-09</td>\n",
       "      <td>BE</td>\n",
       "      <td>622545.0</td>\n",
       "      <td>26062.0</td>\n",
       "      <td>NaN</td>\n",
       "      <td>HCW</td>\n",
       "      <td>COMXBB</td>\n",
       "      <td>11742796</td>\n",
       "    </tr>\n",
       "    <tr>\n",
       "      <th>1</th>\n",
       "      <td>2023-12</td>\n",
       "      <td>BE</td>\n",
       "      <td>622545.0</td>\n",
       "      <td>1963.0</td>\n",
       "      <td>NaN</td>\n",
       "      <td>HCW</td>\n",
       "      <td>COMXBB</td>\n",
       "      <td>11742796</td>\n",
       "    </tr>\n",
       "    <tr>\n",
       "      <th>2</th>\n",
       "      <td>2023-11</td>\n",
       "      <td>BE</td>\n",
       "      <td>622545.0</td>\n",
       "      <td>13282.0</td>\n",
       "      <td>NaN</td>\n",
       "      <td>HCW</td>\n",
       "      <td>COMXBB</td>\n",
       "      <td>11742796</td>\n",
       "    </tr>\n",
       "    <tr>\n",
       "      <th>3</th>\n",
       "      <td>2023-10</td>\n",
       "      <td>BE</td>\n",
       "      <td>622545.0</td>\n",
       "      <td>83069.0</td>\n",
       "      <td>NaN</td>\n",
       "      <td>HCW</td>\n",
       "      <td>COMXBB</td>\n",
       "      <td>11742796</td>\n",
       "    </tr>\n",
       "    <tr>\n",
       "      <th>4</th>\n",
       "      <td>2023-09</td>\n",
       "      <td>BE</td>\n",
       "      <td>622545.0</td>\n",
       "      <td>1785.0</td>\n",
       "      <td>NaN</td>\n",
       "      <td>HCW</td>\n",
       "      <td>OTHER</td>\n",
       "      <td>11742796</td>\n",
       "    </tr>\n",
       "    <tr>\n",
       "      <th>5</th>\n",
       "      <td>2024-03</td>\n",
       "      <td>BE</td>\n",
       "      <td>622545.0</td>\n",
       "      <td>16.0</td>\n",
       "      <td>NaN</td>\n",
       "      <td>HCW</td>\n",
       "      <td>COMXBB</td>\n",
       "      <td>11742796</td>\n",
       "    </tr>\n",
       "    <tr>\n",
       "      <th>6</th>\n",
       "      <td>2023-12</td>\n",
       "      <td>BE</td>\n",
       "      <td>622545.0</td>\n",
       "      <td>49.0</td>\n",
       "      <td>NaN</td>\n",
       "      <td>HCW</td>\n",
       "      <td>OTHER</td>\n",
       "      <td>11742796</td>\n",
       "    </tr>\n",
       "    <tr>\n",
       "      <th>7</th>\n",
       "      <td>2024-02</td>\n",
       "      <td>BE</td>\n",
       "      <td>622545.0</td>\n",
       "      <td>66.0</td>\n",
       "      <td>NaN</td>\n",
       "      <td>HCW</td>\n",
       "      <td>COMXBB</td>\n",
       "      <td>11742796</td>\n",
       "    </tr>\n",
       "    <tr>\n",
       "      <th>8</th>\n",
       "      <td>2024-03</td>\n",
       "      <td>BE</td>\n",
       "      <td>622545.0</td>\n",
       "      <td>1.0</td>\n",
       "      <td>NaN</td>\n",
       "      <td>HCW</td>\n",
       "      <td>OTHER</td>\n",
       "      <td>11742796</td>\n",
       "    </tr>\n",
       "    <tr>\n",
       "      <th>9</th>\n",
       "      <td>2023-11</td>\n",
       "      <td>BE</td>\n",
       "      <td>622545.0</td>\n",
       "      <td>392.0</td>\n",
       "      <td>NaN</td>\n",
       "      <td>HCW</td>\n",
       "      <td>OTHER</td>\n",
       "      <td>11742796</td>\n",
       "    </tr>\n",
       "  </tbody>\n",
       "</table>\n",
       "</div>"
      ],
      "text/plain": [
       "  YearWeekISO ReportingCountry  Denominator  NumberOfIndivOneDose Region  \\\n",
       "0     2023-09               BE     622545.0               26062.0    NaN   \n",
       "1     2023-12               BE     622545.0                1963.0    NaN   \n",
       "2     2023-11               BE     622545.0               13282.0    NaN   \n",
       "3     2023-10               BE     622545.0               83069.0    NaN   \n",
       "4     2023-09               BE     622545.0                1785.0    NaN   \n",
       "5     2024-03               BE     622545.0                  16.0    NaN   \n",
       "6     2023-12               BE     622545.0                  49.0    NaN   \n",
       "7     2024-02               BE     622545.0                  66.0    NaN   \n",
       "8     2024-03               BE     622545.0                   1.0    NaN   \n",
       "9     2023-11               BE     622545.0                 392.0    NaN   \n",
       "\n",
       "  TargetGroup Vaccine  Population  \n",
       "0         HCW  COMXBB    11742796  \n",
       "1         HCW  COMXBB    11742796  \n",
       "2         HCW  COMXBB    11742796  \n",
       "3         HCW  COMXBB    11742796  \n",
       "4         HCW   OTHER    11742796  \n",
       "5         HCW  COMXBB    11742796  \n",
       "6         HCW   OTHER    11742796  \n",
       "7         HCW  COMXBB    11742796  \n",
       "8         HCW   OTHER    11742796  \n",
       "9         HCW   OTHER    11742796  "
      ]
     },
     "execution_count": 149,
     "metadata": {},
     "output_type": "execute_result"
    }
   ],
   "source": [
    "df.head(10) #calliing first 6 rows"
   ]
  },
  {
   "cell_type": "code",
   "execution_count": null,
   "id": "d4eda1a9",
   "metadata": {},
   "outputs": [
    {
     "data": {
      "text/plain": [
       "'In pandas, axis tells pandas whether to work across rows or across columns:\\naxis=0 → operate on rows (index axis)\\naxis=1 → operate on columns (column axis)\\n\\ninplace parameter\\ninplace=False (default) → returns a new DataFrame without modifying the original.\\ninplace=True → modifies the existing DataFrame in place (doesn’t return anything).\\n'"
      ]
     },
     "execution_count": 150,
     "metadata": {},
     "output_type": "execute_result"
    }
   ],
   "source": [
    "#deleting the columns\n",
    "df.drop(['YearWeekISO', 'ReportingCountry'], axis=1,inplace=False)\n",
    "\"\"\"In pandas, axis tells pandas whether to work across rows or across columns:\n",
    "axis=0 → operate on rows (index axis)\n",
    "axis=1 → operate on columns (column axis)\n",
    "\n",
    "inplace parameter\n",
    "inplace=False (default) → returns a new DataFrame without modifying the original.\n",
    "inplace=True → modifies the existing DataFrame in place (doesn’t return anything).\n",
    "\"\"\""
   ]
  },
  {
   "cell_type": "code",
   "execution_count": null,
   "id": "745633c0",
   "metadata": {},
   "outputs": [
    {
     "data": {
      "text/html": [
       "<div>\n",
       "<style scoped>\n",
       "    .dataframe tbody tr th:only-of-type {\n",
       "        vertical-align: middle;\n",
       "    }\n",
       "\n",
       "    .dataframe tbody tr th {\n",
       "        vertical-align: top;\n",
       "    }\n",
       "\n",
       "    .dataframe thead th {\n",
       "        text-align: right;\n",
       "    }\n",
       "</style>\n",
       "<table border=\"1\" class=\"dataframe\">\n",
       "  <thead>\n",
       "    <tr style=\"text-align: right;\">\n",
       "      <th></th>\n",
       "      <th>YearWeekISO</th>\n",
       "      <th>ReportingCountry</th>\n",
       "      <th>Denom,</th>\n",
       "      <th>NumberOfIndivOneDose</th>\n",
       "      <th>Reg</th>\n",
       "      <th>TargetGroup</th>\n",
       "      <th>Vaccine</th>\n",
       "      <th>Population</th>\n",
       "    </tr>\n",
       "  </thead>\n",
       "  <tbody>\n",
       "    <tr>\n",
       "      <th>0</th>\n",
       "      <td>2023-09</td>\n",
       "      <td>BE</td>\n",
       "      <td>622545.0</td>\n",
       "      <td>26062.0</td>\n",
       "      <td>NaN</td>\n",
       "      <td>HCW</td>\n",
       "      <td>COMXBB</td>\n",
       "      <td>11742796</td>\n",
       "    </tr>\n",
       "    <tr>\n",
       "      <th>1</th>\n",
       "      <td>2023-12</td>\n",
       "      <td>BE</td>\n",
       "      <td>622545.0</td>\n",
       "      <td>1963.0</td>\n",
       "      <td>NaN</td>\n",
       "      <td>HCW</td>\n",
       "      <td>COMXBB</td>\n",
       "      <td>11742796</td>\n",
       "    </tr>\n",
       "    <tr>\n",
       "      <th>2</th>\n",
       "      <td>2023-11</td>\n",
       "      <td>BE</td>\n",
       "      <td>622545.0</td>\n",
       "      <td>13282.0</td>\n",
       "      <td>NaN</td>\n",
       "      <td>HCW</td>\n",
       "      <td>COMXBB</td>\n",
       "      <td>11742796</td>\n",
       "    </tr>\n",
       "    <tr>\n",
       "      <th>3</th>\n",
       "      <td>2023-10</td>\n",
       "      <td>BE</td>\n",
       "      <td>622545.0</td>\n",
       "      <td>83069.0</td>\n",
       "      <td>NaN</td>\n",
       "      <td>HCW</td>\n",
       "      <td>COMXBB</td>\n",
       "      <td>11742796</td>\n",
       "    </tr>\n",
       "    <tr>\n",
       "      <th>4</th>\n",
       "      <td>2023-09</td>\n",
       "      <td>BE</td>\n",
       "      <td>622545.0</td>\n",
       "      <td>1785.0</td>\n",
       "      <td>NaN</td>\n",
       "      <td>HCW</td>\n",
       "      <td>OTHER</td>\n",
       "      <td>11742796</td>\n",
       "    </tr>\n",
       "    <tr>\n",
       "      <th>...</th>\n",
       "      <td>...</td>\n",
       "      <td>...</td>\n",
       "      <td>...</td>\n",
       "      <td>...</td>\n",
       "      <td>...</td>\n",
       "      <td>...</td>\n",
       "      <td>...</td>\n",
       "      <td>...</td>\n",
       "    </tr>\n",
       "    <tr>\n",
       "      <th>9342</th>\n",
       "      <td>2023-12</td>\n",
       "      <td>SK</td>\n",
       "      <td>NaN</td>\n",
       "      <td>2201.0</td>\n",
       "      <td>NaN</td>\n",
       "      <td>ALL</td>\n",
       "      <td>COMXBB</td>\n",
       "      <td>5428792</td>\n",
       "    </tr>\n",
       "    <tr>\n",
       "      <th>9343</th>\n",
       "      <td>2023-11</td>\n",
       "      <td>SK</td>\n",
       "      <td>NaN</td>\n",
       "      <td>12908.0</td>\n",
       "      <td>NaN</td>\n",
       "      <td>ALL</td>\n",
       "      <td>COMXBB</td>\n",
       "      <td>5428792</td>\n",
       "    </tr>\n",
       "    <tr>\n",
       "      <th>9344</th>\n",
       "      <td>2023-10</td>\n",
       "      <td>SK</td>\n",
       "      <td>NaN</td>\n",
       "      <td>16.0</td>\n",
       "      <td>NaN</td>\n",
       "      <td>ALL</td>\n",
       "      <td>NVXDXBB</td>\n",
       "      <td>5428792</td>\n",
       "    </tr>\n",
       "    <tr>\n",
       "      <th>9345</th>\n",
       "      <td>2023-09</td>\n",
       "      <td>SK</td>\n",
       "      <td>NaN</td>\n",
       "      <td>1327.0</td>\n",
       "      <td>NaN</td>\n",
       "      <td>ALL</td>\n",
       "      <td>COMXBB</td>\n",
       "      <td>5428792</td>\n",
       "    </tr>\n",
       "    <tr>\n",
       "      <th>9346</th>\n",
       "      <td>2023-10</td>\n",
       "      <td>SK</td>\n",
       "      <td>NaN</td>\n",
       "      <td>9887.0</td>\n",
       "      <td>NaN</td>\n",
       "      <td>ALL</td>\n",
       "      <td>COMXBB</td>\n",
       "      <td>5428792</td>\n",
       "    </tr>\n",
       "  </tbody>\n",
       "</table>\n",
       "<p>9347 rows × 8 columns</p>\n",
       "</div>"
      ],
      "text/plain": [
       "     YearWeekISO ReportingCountry    Denom,  NumberOfIndivOneDose  Reg  \\\n",
       "0        2023-09               BE  622545.0               26062.0  NaN   \n",
       "1        2023-12               BE  622545.0                1963.0  NaN   \n",
       "2        2023-11               BE  622545.0               13282.0  NaN   \n",
       "3        2023-10               BE  622545.0               83069.0  NaN   \n",
       "4        2023-09               BE  622545.0                1785.0  NaN   \n",
       "...          ...              ...       ...                   ...  ...   \n",
       "9342     2023-12               SK       NaN                2201.0  NaN   \n",
       "9343     2023-11               SK       NaN               12908.0  NaN   \n",
       "9344     2023-10               SK       NaN                  16.0  NaN   \n",
       "9345     2023-09               SK       NaN                1327.0  NaN   \n",
       "9346     2023-10               SK       NaN                9887.0  NaN   \n",
       "\n",
       "     TargetGroup  Vaccine  Population  \n",
       "0            HCW   COMXBB    11742796  \n",
       "1            HCW   COMXBB    11742796  \n",
       "2            HCW   COMXBB    11742796  \n",
       "3            HCW   COMXBB    11742796  \n",
       "4            HCW    OTHER    11742796  \n",
       "...          ...      ...         ...  \n",
       "9342         ALL   COMXBB     5428792  \n",
       "9343         ALL   COMXBB     5428792  \n",
       "9344         ALL  NVXDXBB     5428792  \n",
       "9345         ALL   COMXBB     5428792  \n",
       "9346         ALL   COMXBB     5428792  \n",
       "\n",
       "[9347 rows x 8 columns]"
      ]
     },
     "execution_count": 151,
     "metadata": {},
     "output_type": "execute_result"
    }
   ],
   "source": [
    "df.rename(columns={'Denominator':'Denom,', 'Region':'Reg'})"
   ]
  },
  {
   "cell_type": "code",
   "execution_count": null,
   "id": "44df276a",
   "metadata": {},
   "outputs": [
    {
     "data": {
      "text/html": [
       "<div>\n",
       "<style scoped>\n",
       "    .dataframe tbody tr th:only-of-type {\n",
       "        vertical-align: middle;\n",
       "    }\n",
       "\n",
       "    .dataframe tbody tr th {\n",
       "        vertical-align: top;\n",
       "    }\n",
       "\n",
       "    .dataframe thead th {\n",
       "        text-align: right;\n",
       "    }\n",
       "</style>\n",
       "<table border=\"1\" class=\"dataframe\">\n",
       "  <thead>\n",
       "    <tr style=\"text-align: right;\">\n",
       "      <th></th>\n",
       "      <th>YearWeekISO</th>\n",
       "      <th>ReportingCountry</th>\n",
       "      <th>Denominator</th>\n",
       "      <th>NumberOfIndivOneDose</th>\n",
       "      <th>Region</th>\n",
       "      <th>TargetGroup</th>\n",
       "      <th>Vaccine</th>\n",
       "      <th>Population</th>\n",
       "    </tr>\n",
       "  </thead>\n",
       "  <tbody>\n",
       "    <tr>\n",
       "      <th>0</th>\n",
       "      <td>2023-09</td>\n",
       "      <td>BE</td>\n",
       "      <td>622545.0</td>\n",
       "      <td>26062.0</td>\n",
       "      <td>NaN</td>\n",
       "      <td>HCW</td>\n",
       "      <td>COMXBB</td>\n",
       "      <td>11742796</td>\n",
       "    </tr>\n",
       "    <tr>\n",
       "      <th>1</th>\n",
       "      <td>2023-12</td>\n",
       "      <td>BE</td>\n",
       "      <td>622545.0</td>\n",
       "      <td>1963.0</td>\n",
       "      <td>NaN</td>\n",
       "      <td>HCW</td>\n",
       "      <td>COMXBB</td>\n",
       "      <td>11742796</td>\n",
       "    </tr>\n",
       "    <tr>\n",
       "      <th>2</th>\n",
       "      <td>2023-11</td>\n",
       "      <td>BE</td>\n",
       "      <td>622545.0</td>\n",
       "      <td>13282.0</td>\n",
       "      <td>NaN</td>\n",
       "      <td>HCW</td>\n",
       "      <td>COMXBB</td>\n",
       "      <td>11742796</td>\n",
       "    </tr>\n",
       "    <tr>\n",
       "      <th>3</th>\n",
       "      <td>2023-10</td>\n",
       "      <td>BE</td>\n",
       "      <td>622545.0</td>\n",
       "      <td>83069.0</td>\n",
       "      <td>NaN</td>\n",
       "      <td>HCW</td>\n",
       "      <td>COMXBB</td>\n",
       "      <td>11742796</td>\n",
       "    </tr>\n",
       "    <tr>\n",
       "      <th>4</th>\n",
       "      <td>2023-09</td>\n",
       "      <td>BE</td>\n",
       "      <td>622545.0</td>\n",
       "      <td>1785.0</td>\n",
       "      <td>NaN</td>\n",
       "      <td>HCW</td>\n",
       "      <td>OTHER</td>\n",
       "      <td>11742796</td>\n",
       "    </tr>\n",
       "  </tbody>\n",
       "</table>\n",
       "</div>"
      ],
      "text/plain": [
       "  YearWeekISO ReportingCountry  Denominator  NumberOfIndivOneDose Region  \\\n",
       "0     2023-09               BE     622545.0               26062.0    NaN   \n",
       "1     2023-12               BE     622545.0                1963.0    NaN   \n",
       "2     2023-11               BE     622545.0               13282.0    NaN   \n",
       "3     2023-10               BE     622545.0               83069.0    NaN   \n",
       "4     2023-09               BE     622545.0                1785.0    NaN   \n",
       "\n",
       "  TargetGroup Vaccine  Population  \n",
       "0         HCW  COMXBB    11742796  \n",
       "1         HCW  COMXBB    11742796  \n",
       "2         HCW  COMXBB    11742796  \n",
       "3         HCW  COMXBB    11742796  \n",
       "4         HCW   OTHER    11742796  "
      ]
     },
     "execution_count": 152,
     "metadata": {},
     "output_type": "execute_result"
    }
   ],
   "source": [
    "df.head()"
   ]
  },
  {
   "cell_type": "code",
   "execution_count": null,
   "id": "a0d689dc",
   "metadata": {},
   "outputs": [
    {
     "data": {
      "text/html": [
       "<div>\n",
       "<style scoped>\n",
       "    .dataframe tbody tr th:only-of-type {\n",
       "        vertical-align: middle;\n",
       "    }\n",
       "\n",
       "    .dataframe tbody tr th {\n",
       "        vertical-align: top;\n",
       "    }\n",
       "\n",
       "    .dataframe thead th {\n",
       "        text-align: right;\n",
       "    }\n",
       "</style>\n",
       "<table border=\"1\" class=\"dataframe\">\n",
       "  <thead>\n",
       "    <tr style=\"text-align: right;\">\n",
       "      <th></th>\n",
       "      <th>YearWeekISO</th>\n",
       "      <th>ReportingCountry</th>\n",
       "      <th>Denominator</th>\n",
       "      <th>NumberOfIndivOneDose</th>\n",
       "      <th>Region</th>\n",
       "      <th>TargetGroup</th>\n",
       "      <th>Vaccine</th>\n",
       "      <th>Population</th>\n",
       "      <th>WeekYear</th>\n",
       "    </tr>\n",
       "  </thead>\n",
       "  <tbody>\n",
       "    <tr>\n",
       "      <th>0</th>\n",
       "      <td>2023-09</td>\n",
       "      <td>BE</td>\n",
       "      <td>622545.0</td>\n",
       "      <td>26062.0</td>\n",
       "      <td>NaN</td>\n",
       "      <td>HCW</td>\n",
       "      <td>COMXBB</td>\n",
       "      <td>11742796</td>\n",
       "      <td>35-2023</td>\n",
       "    </tr>\n",
       "    <tr>\n",
       "      <th>1</th>\n",
       "      <td>2023-12</td>\n",
       "      <td>BE</td>\n",
       "      <td>622545.0</td>\n",
       "      <td>1963.0</td>\n",
       "      <td>NaN</td>\n",
       "      <td>HCW</td>\n",
       "      <td>COMXBB</td>\n",
       "      <td>11742796</td>\n",
       "      <td>48-2023</td>\n",
       "    </tr>\n",
       "    <tr>\n",
       "      <th>2</th>\n",
       "      <td>2023-11</td>\n",
       "      <td>BE</td>\n",
       "      <td>622545.0</td>\n",
       "      <td>13282.0</td>\n",
       "      <td>NaN</td>\n",
       "      <td>HCW</td>\n",
       "      <td>COMXBB</td>\n",
       "      <td>11742796</td>\n",
       "      <td>44-2023</td>\n",
       "    </tr>\n",
       "    <tr>\n",
       "      <th>3</th>\n",
       "      <td>2023-10</td>\n",
       "      <td>BE</td>\n",
       "      <td>622545.0</td>\n",
       "      <td>83069.0</td>\n",
       "      <td>NaN</td>\n",
       "      <td>HCW</td>\n",
       "      <td>COMXBB</td>\n",
       "      <td>11742796</td>\n",
       "      <td>39-2023</td>\n",
       "    </tr>\n",
       "    <tr>\n",
       "      <th>4</th>\n",
       "      <td>2023-09</td>\n",
       "      <td>BE</td>\n",
       "      <td>622545.0</td>\n",
       "      <td>1785.0</td>\n",
       "      <td>NaN</td>\n",
       "      <td>HCW</td>\n",
       "      <td>OTHER</td>\n",
       "      <td>11742796</td>\n",
       "      <td>35-2023</td>\n",
       "    </tr>\n",
       "  </tbody>\n",
       "</table>\n",
       "</div>"
      ],
      "text/plain": [
       "  YearWeekISO ReportingCountry  Denominator  NumberOfIndivOneDose Region  \\\n",
       "0     2023-09               BE     622545.0               26062.0    NaN   \n",
       "1     2023-12               BE     622545.0                1963.0    NaN   \n",
       "2     2023-11               BE     622545.0               13282.0    NaN   \n",
       "3     2023-10               BE     622545.0               83069.0    NaN   \n",
       "4     2023-09               BE     622545.0                1785.0    NaN   \n",
       "\n",
       "  TargetGroup Vaccine  Population WeekYear  \n",
       "0         HCW  COMXBB    11742796  35-2023  \n",
       "1         HCW  COMXBB    11742796  48-2023  \n",
       "2         HCW  COMXBB    11742796  44-2023  \n",
       "3         HCW  COMXBB    11742796  39-2023  \n",
       "4         HCW   OTHER    11742796  35-2023  "
      ]
     },
     "execution_count": 162,
     "metadata": {},
     "output_type": "execute_result"
    }
   ],
   "source": [
    "df['WeekYear'] = pd.to_datetime(df['YearWeekISO']).dt.strftime('%V-%G')\n",
    "#converting the Yearweek to week year format"
   ]
  },
  {
   "cell_type": "code",
   "execution_count": null,
   "id": "4d3e6269",
   "metadata": {},
   "outputs": [
    {
     "data": {
      "text/html": [
       "<div>\n",
       "<style scoped>\n",
       "    .dataframe tbody tr th:only-of-type {\n",
       "        vertical-align: middle;\n",
       "    }\n",
       "\n",
       "    .dataframe tbody tr th {\n",
       "        vertical-align: top;\n",
       "    }\n",
       "\n",
       "    .dataframe thead th {\n",
       "        text-align: right;\n",
       "    }\n",
       "</style>\n",
       "<table border=\"1\" class=\"dataframe\">\n",
       "  <thead>\n",
       "    <tr style=\"text-align: right;\">\n",
       "      <th></th>\n",
       "      <th>YearWeekISO</th>\n",
       "      <th>ReportingCountry</th>\n",
       "      <th>Denominator</th>\n",
       "      <th>NumberOfIndivOneDose</th>\n",
       "      <th>Region</th>\n",
       "      <th>TargetGroup</th>\n",
       "      <th>Vaccine</th>\n",
       "      <th>Population</th>\n",
       "      <th>WeekYear</th>\n",
       "    </tr>\n",
       "  </thead>\n",
       "  <tbody>\n",
       "    <tr>\n",
       "      <th>0</th>\n",
       "      <td>2023-09</td>\n",
       "      <td>BE</td>\n",
       "      <td>622545.0</td>\n",
       "      <td>26062.0</td>\n",
       "      <td>NaN</td>\n",
       "      <td>HCW</td>\n",
       "      <td>COMXBB</td>\n",
       "      <td>11742796</td>\n",
       "      <td>35-2023</td>\n",
       "    </tr>\n",
       "    <tr>\n",
       "      <th>1</th>\n",
       "      <td>2023-12</td>\n",
       "      <td>BE</td>\n",
       "      <td>622545.0</td>\n",
       "      <td>1963.0</td>\n",
       "      <td>NaN</td>\n",
       "      <td>HCW</td>\n",
       "      <td>COMXBB</td>\n",
       "      <td>11742796</td>\n",
       "      <td>48-2023</td>\n",
       "    </tr>\n",
       "    <tr>\n",
       "      <th>2</th>\n",
       "      <td>2023-11</td>\n",
       "      <td>BE</td>\n",
       "      <td>622545.0</td>\n",
       "      <td>13282.0</td>\n",
       "      <td>NaN</td>\n",
       "      <td>HCW</td>\n",
       "      <td>COMXBB</td>\n",
       "      <td>11742796</td>\n",
       "      <td>44-2023</td>\n",
       "    </tr>\n",
       "    <tr>\n",
       "      <th>3</th>\n",
       "      <td>2023-10</td>\n",
       "      <td>BE</td>\n",
       "      <td>622545.0</td>\n",
       "      <td>83069.0</td>\n",
       "      <td>NaN</td>\n",
       "      <td>HCW</td>\n",
       "      <td>COMXBB</td>\n",
       "      <td>11742796</td>\n",
       "      <td>39-2023</td>\n",
       "    </tr>\n",
       "    <tr>\n",
       "      <th>4</th>\n",
       "      <td>2023-09</td>\n",
       "      <td>BE</td>\n",
       "      <td>622545.0</td>\n",
       "      <td>1785.0</td>\n",
       "      <td>NaN</td>\n",
       "      <td>HCW</td>\n",
       "      <td>OTHER</td>\n",
       "      <td>11742796</td>\n",
       "      <td>35-2023</td>\n",
       "    </tr>\n",
       "  </tbody>\n",
       "</table>\n",
       "</div>"
      ],
      "text/plain": [
       "  YearWeekISO ReportingCountry  Denominator  NumberOfIndivOneDose Region  \\\n",
       "0     2023-09               BE     622545.0               26062.0    NaN   \n",
       "1     2023-12               BE     622545.0                1963.0    NaN   \n",
       "2     2023-11               BE     622545.0               13282.0    NaN   \n",
       "3     2023-10               BE     622545.0               83069.0    NaN   \n",
       "4     2023-09               BE     622545.0                1785.0    NaN   \n",
       "\n",
       "  TargetGroup Vaccine  Population WeekYear  \n",
       "0         HCW  COMXBB    11742796  35-2023  \n",
       "1         HCW  COMXBB    11742796  48-2023  \n",
       "2         HCW  COMXBB    11742796  44-2023  \n",
       "3         HCW  COMXBB    11742796  39-2023  \n",
       "4         HCW   OTHER    11742796  35-2023  "
      ]
     },
     "execution_count": 163,
     "metadata": {},
     "output_type": "execute_result"
    }
   ],
   "source": [
    "df.head()"
   ]
  },
  {
   "cell_type": "code",
   "execution_count": null,
   "id": "af0e5533",
   "metadata": {},
   "outputs": [
    {
     "data": {
      "text/html": [
       "<div>\n",
       "<style scoped>\n",
       "    .dataframe tbody tr th:only-of-type {\n",
       "        vertical-align: middle;\n",
       "    }\n",
       "\n",
       "    .dataframe tbody tr th {\n",
       "        vertical-align: top;\n",
       "    }\n",
       "\n",
       "    .dataframe thead th {\n",
       "        text-align: right;\n",
       "    }\n",
       "</style>\n",
       "<table border=\"1\" class=\"dataframe\">\n",
       "  <thead>\n",
       "    <tr style=\"text-align: right;\">\n",
       "      <th></th>\n",
       "      <th>Denominator</th>\n",
       "      <th>NumberOfIndivOneDose</th>\n",
       "      <th>Population</th>\n",
       "    </tr>\n",
       "  </thead>\n",
       "  <tbody>\n",
       "    <tr>\n",
       "      <th>count</th>\n",
       "      <td>2.316000e+03</td>\n",
       "      <td>9.178000e+03</td>\n",
       "      <td>9.347000e+03</td>\n",
       "    </tr>\n",
       "    <tr>\n",
       "      <th>mean</th>\n",
       "      <td>1.961417e+06</td>\n",
       "      <td>1.013884e+04</td>\n",
       "      <td>9.227050e+06</td>\n",
       "    </tr>\n",
       "    <tr>\n",
       "      <th>std</th>\n",
       "      <td>6.002915e+06</td>\n",
       "      <td>9.638045e+04</td>\n",
       "      <td>1.215367e+07</td>\n",
       "    </tr>\n",
       "    <tr>\n",
       "      <th>min</th>\n",
       "      <td>1.831000e+03</td>\n",
       "      <td>0.000000e+00</td>\n",
       "      <td>3.967700e+04</td>\n",
       "    </tr>\n",
       "    <tr>\n",
       "      <th>25%</th>\n",
       "      <td>1.528830e+05</td>\n",
       "      <td>0.000000e+00</td>\n",
       "      <td>5.563970e+06</td>\n",
       "    </tr>\n",
       "    <tr>\n",
       "      <th>50%</th>\n",
       "      <td>4.600880e+05</td>\n",
       "      <td>0.000000e+00</td>\n",
       "      <td>5.563970e+06</td>\n",
       "    </tr>\n",
       "    <tr>\n",
       "      <th>75%</th>\n",
       "      <td>1.238716e+06</td>\n",
       "      <td>3.800000e+01</td>\n",
       "      <td>1.041398e+07</td>\n",
       "    </tr>\n",
       "    <tr>\n",
       "      <th>max</th>\n",
       "      <td>7.010712e+07</td>\n",
       "      <td>3.002831e+06</td>\n",
       "      <td>8.435884e+07</td>\n",
       "    </tr>\n",
       "  </tbody>\n",
       "</table>\n",
       "</div>"
      ],
      "text/plain": [
       "        Denominator  NumberOfIndivOneDose    Population\n",
       "count  2.316000e+03          9.178000e+03  9.347000e+03\n",
       "mean   1.961417e+06          1.013884e+04  9.227050e+06\n",
       "std    6.002915e+06          9.638045e+04  1.215367e+07\n",
       "min    1.831000e+03          0.000000e+00  3.967700e+04\n",
       "25%    1.528830e+05          0.000000e+00  5.563970e+06\n",
       "50%    4.600880e+05          0.000000e+00  5.563970e+06\n",
       "75%    1.238716e+06          3.800000e+01  1.041398e+07\n",
       "max    7.010712e+07          3.002831e+06  8.435884e+07"
      ]
     },
     "execution_count": 164,
     "metadata": {},
     "output_type": "execute_result"
    }
   ],
   "source": [
    "df.describe()"
   ]
  },
  {
   "cell_type": "code",
   "execution_count": 59,
   "id": "da6b1d7f",
   "metadata": {},
   "outputs": [
    {
     "data": {
      "text/plain": [
       "<bound method DataFrame.info of      YearWeekISO ReportingCountry  Denominator  NumberOfIndivOneDose Region  \\\n",
       "0        2023-09               BE     622545.0               26062.0    NaN   \n",
       "1        2023-12               BE     622545.0                1963.0    NaN   \n",
       "2        2023-11               BE     622545.0               13282.0    NaN   \n",
       "3        2023-10               BE     622545.0               83069.0    NaN   \n",
       "4        2023-09               BE     622545.0                1785.0    NaN   \n",
       "...          ...              ...          ...                   ...    ...   \n",
       "9342     2023-12               SK          NaN                2201.0    NaN   \n",
       "9343     2023-11               SK          NaN               12908.0    NaN   \n",
       "9344     2023-10               SK          NaN                  16.0    NaN   \n",
       "9345     2023-09               SK          NaN                1327.0    NaN   \n",
       "9346     2023-10               SK          NaN                9887.0    NaN   \n",
       "\n",
       "     TargetGroup  Vaccine  Population  \n",
       "0            HCW   COMXBB    11742796  \n",
       "1            HCW   COMXBB    11742796  \n",
       "2            HCW   COMXBB    11742796  \n",
       "3            HCW   COMXBB    11742796  \n",
       "4            HCW    OTHER    11742796  \n",
       "...          ...      ...         ...  \n",
       "9342         ALL   COMXBB     5428792  \n",
       "9343         ALL   COMXBB     5428792  \n",
       "9344         ALL  NVXDXBB     5428792  \n",
       "9345         ALL   COMXBB     5428792  \n",
       "9346         ALL   COMXBB     5428792  \n",
       "\n",
       "[9347 rows x 8 columns]>"
      ]
     },
     "execution_count": 59,
     "metadata": {},
     "output_type": "execute_result"
    }
   ],
   "source": [
    "df.info"
   ]
  },
  {
   "cell_type": "code",
   "execution_count": null,
   "id": "a01e5047",
   "metadata": {},
   "outputs": [
    {
     "data": {
      "text/html": [
       "<div>\n",
       "<style scoped>\n",
       "    .dataframe tbody tr th:only-of-type {\n",
       "        vertical-align: middle;\n",
       "    }\n",
       "\n",
       "    .dataframe tbody tr th {\n",
       "        vertical-align: top;\n",
       "    }\n",
       "\n",
       "    .dataframe thead th {\n",
       "        text-align: right;\n",
       "    }\n",
       "</style>\n",
       "<table border=\"1\" class=\"dataframe\">\n",
       "  <thead>\n",
       "    <tr style=\"text-align: right;\">\n",
       "      <th></th>\n",
       "      <th>YearWeekISO</th>\n",
       "      <th>ReportingCountry</th>\n",
       "      <th>Denominator</th>\n",
       "      <th>NumberOfIndivOneDose</th>\n",
       "      <th>Region</th>\n",
       "      <th>TargetGroup</th>\n",
       "      <th>Vaccine</th>\n",
       "      <th>Population</th>\n",
       "      <th>WeekYear</th>\n",
       "    </tr>\n",
       "  </thead>\n",
       "  <tbody>\n",
       "    <tr>\n",
       "      <th>0</th>\n",
       "      <td>2023-09</td>\n",
       "      <td>BE</td>\n",
       "      <td>622545.0</td>\n",
       "      <td>26062.0</td>\n",
       "      <td>NA</td>\n",
       "      <td>HCW</td>\n",
       "      <td>COMXBB</td>\n",
       "      <td>11742796</td>\n",
       "      <td>35-2023</td>\n",
       "    </tr>\n",
       "    <tr>\n",
       "      <th>1</th>\n",
       "      <td>2023-12</td>\n",
       "      <td>BE</td>\n",
       "      <td>622545.0</td>\n",
       "      <td>1963.0</td>\n",
       "      <td>NA</td>\n",
       "      <td>HCW</td>\n",
       "      <td>COMXBB</td>\n",
       "      <td>11742796</td>\n",
       "      <td>48-2023</td>\n",
       "    </tr>\n",
       "    <tr>\n",
       "      <th>2</th>\n",
       "      <td>2023-11</td>\n",
       "      <td>BE</td>\n",
       "      <td>622545.0</td>\n",
       "      <td>13282.0</td>\n",
       "      <td>NA</td>\n",
       "      <td>HCW</td>\n",
       "      <td>COMXBB</td>\n",
       "      <td>11742796</td>\n",
       "      <td>44-2023</td>\n",
       "    </tr>\n",
       "    <tr>\n",
       "      <th>3</th>\n",
       "      <td>2023-10</td>\n",
       "      <td>BE</td>\n",
       "      <td>622545.0</td>\n",
       "      <td>83069.0</td>\n",
       "      <td>NA</td>\n",
       "      <td>HCW</td>\n",
       "      <td>COMXBB</td>\n",
       "      <td>11742796</td>\n",
       "      <td>39-2023</td>\n",
       "    </tr>\n",
       "    <tr>\n",
       "      <th>4</th>\n",
       "      <td>2023-09</td>\n",
       "      <td>BE</td>\n",
       "      <td>622545.0</td>\n",
       "      <td>1785.0</td>\n",
       "      <td>NA</td>\n",
       "      <td>HCW</td>\n",
       "      <td>OTHER</td>\n",
       "      <td>11742796</td>\n",
       "      <td>35-2023</td>\n",
       "    </tr>\n",
       "    <tr>\n",
       "      <th>...</th>\n",
       "      <td>...</td>\n",
       "      <td>...</td>\n",
       "      <td>...</td>\n",
       "      <td>...</td>\n",
       "      <td>...</td>\n",
       "      <td>...</td>\n",
       "      <td>...</td>\n",
       "      <td>...</td>\n",
       "      <td>...</td>\n",
       "    </tr>\n",
       "    <tr>\n",
       "      <th>9342</th>\n",
       "      <td>2023-12</td>\n",
       "      <td>SK</td>\n",
       "      <td>NA</td>\n",
       "      <td>2201.0</td>\n",
       "      <td>NA</td>\n",
       "      <td>ALL</td>\n",
       "      <td>COMXBB</td>\n",
       "      <td>5428792</td>\n",
       "      <td>48-2023</td>\n",
       "    </tr>\n",
       "    <tr>\n",
       "      <th>9343</th>\n",
       "      <td>2023-11</td>\n",
       "      <td>SK</td>\n",
       "      <td>NA</td>\n",
       "      <td>12908.0</td>\n",
       "      <td>NA</td>\n",
       "      <td>ALL</td>\n",
       "      <td>COMXBB</td>\n",
       "      <td>5428792</td>\n",
       "      <td>44-2023</td>\n",
       "    </tr>\n",
       "    <tr>\n",
       "      <th>9344</th>\n",
       "      <td>2023-10</td>\n",
       "      <td>SK</td>\n",
       "      <td>NA</td>\n",
       "      <td>16.0</td>\n",
       "      <td>NA</td>\n",
       "      <td>ALL</td>\n",
       "      <td>NVXDXBB</td>\n",
       "      <td>5428792</td>\n",
       "      <td>39-2023</td>\n",
       "    </tr>\n",
       "    <tr>\n",
       "      <th>9345</th>\n",
       "      <td>2023-09</td>\n",
       "      <td>SK</td>\n",
       "      <td>NA</td>\n",
       "      <td>1327.0</td>\n",
       "      <td>NA</td>\n",
       "      <td>ALL</td>\n",
       "      <td>COMXBB</td>\n",
       "      <td>5428792</td>\n",
       "      <td>35-2023</td>\n",
       "    </tr>\n",
       "    <tr>\n",
       "      <th>9346</th>\n",
       "      <td>2023-10</td>\n",
       "      <td>SK</td>\n",
       "      <td>NA</td>\n",
       "      <td>9887.0</td>\n",
       "      <td>NA</td>\n",
       "      <td>ALL</td>\n",
       "      <td>COMXBB</td>\n",
       "      <td>5428792</td>\n",
       "      <td>39-2023</td>\n",
       "    </tr>\n",
       "  </tbody>\n",
       "</table>\n",
       "<p>9347 rows × 9 columns</p>\n",
       "</div>"
      ],
      "text/plain": [
       "     YearWeekISO ReportingCountry Denominator NumberOfIndivOneDose Region  \\\n",
       "0        2023-09               BE    622545.0              26062.0     NA   \n",
       "1        2023-12               BE    622545.0               1963.0     NA   \n",
       "2        2023-11               BE    622545.0              13282.0     NA   \n",
       "3        2023-10               BE    622545.0              83069.0     NA   \n",
       "4        2023-09               BE    622545.0               1785.0     NA   \n",
       "...          ...              ...         ...                  ...    ...   \n",
       "9342     2023-12               SK          NA               2201.0     NA   \n",
       "9343     2023-11               SK          NA              12908.0     NA   \n",
       "9344     2023-10               SK          NA                 16.0     NA   \n",
       "9345     2023-09               SK          NA               1327.0     NA   \n",
       "9346     2023-10               SK          NA               9887.0     NA   \n",
       "\n",
       "     TargetGroup  Vaccine  Population WeekYear  \n",
       "0            HCW   COMXBB    11742796  35-2023  \n",
       "1            HCW   COMXBB    11742796  48-2023  \n",
       "2            HCW   COMXBB    11742796  44-2023  \n",
       "3            HCW   COMXBB    11742796  39-2023  \n",
       "4            HCW    OTHER    11742796  35-2023  \n",
       "...          ...      ...         ...      ...  \n",
       "9342         ALL   COMXBB     5428792  48-2023  \n",
       "9343         ALL   COMXBB     5428792  44-2023  \n",
       "9344         ALL  NVXDXBB     5428792  39-2023  \n",
       "9345         ALL   COMXBB     5428792  35-2023  \n",
       "9346         ALL   COMXBB     5428792  39-2023  \n",
       "\n",
       "[9347 rows x 9 columns]"
      ]
     },
     "execution_count": 170,
     "metadata": {},
     "output_type": "execute_result"
    }
   ],
   "source": [
    "df.fillna('NA')"
   ]
  },
  {
   "cell_type": "code",
   "execution_count": null,
   "id": "62a8a96e",
   "metadata": {},
   "outputs": [
    {
     "data": {
      "text/plain": [
       "<bound method DataFrame.info of      YearWeekISO ReportingCountry Denominator NumberOfIndivOneDose Region  \\\n",
       "0        2023-09               BE    622545.0              26062.0     NA   \n",
       "1        2023-12               BE    622545.0               1963.0     NA   \n",
       "2        2023-11               BE    622545.0              13282.0     NA   \n",
       "3        2023-10               BE    622545.0              83069.0     NA   \n",
       "4        2023-09               BE    622545.0               1785.0     NA   \n",
       "...          ...              ...         ...                  ...    ...   \n",
       "9342     2023-12               SK          NA               2201.0     NA   \n",
       "9343     2023-11               SK          NA              12908.0     NA   \n",
       "9344     2023-10               SK          NA                 16.0     NA   \n",
       "9345     2023-09               SK          NA               1327.0     NA   \n",
       "9346     2023-10               SK          NA               9887.0     NA   \n",
       "\n",
       "     TargetGroup  Vaccine  Population WeekYear  \n",
       "0            HCW   COMXBB    11742796  35-2023  \n",
       "1            HCW   COMXBB    11742796  48-2023  \n",
       "2            HCW   COMXBB    11742796  44-2023  \n",
       "3            HCW   COMXBB    11742796  39-2023  \n",
       "4            HCW    OTHER    11742796  35-2023  \n",
       "...          ...      ...         ...      ...  \n",
       "9342         ALL   COMXBB     5428792  48-2023  \n",
       "9343         ALL   COMXBB     5428792  44-2023  \n",
       "9344         ALL  NVXDXBB     5428792  39-2023  \n",
       "9345         ALL   COMXBB     5428792  35-2023  \n",
       "9346         ALL   COMXBB     5428792  39-2023  \n",
       "\n",
       "[9347 rows x 9 columns]>"
      ]
     },
     "execution_count": 176,
     "metadata": {},
     "output_type": "execute_result"
    }
   ],
   "source": [
    "df.info"
   ]
  },
  {
   "cell_type": "code",
   "execution_count": null,
   "id": "a2aa35d6",
   "metadata": {},
   "outputs": [
    {
     "data": {
      "text/html": [
       "<div>\n",
       "<style scoped>\n",
       "    .dataframe tbody tr th:only-of-type {\n",
       "        vertical-align: middle;\n",
       "    }\n",
       "\n",
       "    .dataframe tbody tr th {\n",
       "        vertical-align: top;\n",
       "    }\n",
       "\n",
       "    .dataframe thead th {\n",
       "        text-align: right;\n",
       "    }\n",
       "</style>\n",
       "<table border=\"1\" class=\"dataframe\">\n",
       "  <thead>\n",
       "    <tr style=\"text-align: right;\">\n",
       "      <th></th>\n",
       "      <th>YearWeekISO</th>\n",
       "      <th>ReportingCountry</th>\n",
       "      <th>Denominator</th>\n",
       "      <th>NumberOfIndivOneDose</th>\n",
       "      <th>Region</th>\n",
       "      <th>TargetGroup</th>\n",
       "      <th>Vaccine</th>\n",
       "      <th>Population</th>\n",
       "      <th>WeekYear</th>\n",
       "    </tr>\n",
       "  </thead>\n",
       "  <tbody>\n",
       "    <tr>\n",
       "      <th>0</th>\n",
       "      <td>2023-09</td>\n",
       "      <td>BE</td>\n",
       "      <td>622545.0</td>\n",
       "      <td>26062.0</td>\n",
       "      <td>NA</td>\n",
       "      <td>HCW</td>\n",
       "      <td>COMXBB</td>\n",
       "      <td>11742796</td>\n",
       "      <td>35-2023</td>\n",
       "    </tr>\n",
       "    <tr>\n",
       "      <th>1</th>\n",
       "      <td>2023-12</td>\n",
       "      <td>BE</td>\n",
       "      <td>622545.0</td>\n",
       "      <td>1963.0</td>\n",
       "      <td>NA</td>\n",
       "      <td>HCW</td>\n",
       "      <td>COMXBB</td>\n",
       "      <td>11742796</td>\n",
       "      <td>48-2023</td>\n",
       "    </tr>\n",
       "    <tr>\n",
       "      <th>2</th>\n",
       "      <td>2023-11</td>\n",
       "      <td>BE</td>\n",
       "      <td>622545.0</td>\n",
       "      <td>13282.0</td>\n",
       "      <td>NA</td>\n",
       "      <td>HCW</td>\n",
       "      <td>COMXBB</td>\n",
       "      <td>11742796</td>\n",
       "      <td>44-2023</td>\n",
       "    </tr>\n",
       "    <tr>\n",
       "      <th>3</th>\n",
       "      <td>2023-10</td>\n",
       "      <td>BE</td>\n",
       "      <td>622545.0</td>\n",
       "      <td>83069.0</td>\n",
       "      <td>NA</td>\n",
       "      <td>HCW</td>\n",
       "      <td>COMXBB</td>\n",
       "      <td>11742796</td>\n",
       "      <td>39-2023</td>\n",
       "    </tr>\n",
       "    <tr>\n",
       "      <th>4</th>\n",
       "      <td>2023-09</td>\n",
       "      <td>BE</td>\n",
       "      <td>622545.0</td>\n",
       "      <td>1785.0</td>\n",
       "      <td>NA</td>\n",
       "      <td>HCW</td>\n",
       "      <td>OTHER</td>\n",
       "      <td>11742796</td>\n",
       "      <td>35-2023</td>\n",
       "    </tr>\n",
       "    <tr>\n",
       "      <th>5</th>\n",
       "      <td>2024-03</td>\n",
       "      <td>BE</td>\n",
       "      <td>622545.0</td>\n",
       "      <td>16.0</td>\n",
       "      <td>NA</td>\n",
       "      <td>HCW</td>\n",
       "      <td>COMXBB</td>\n",
       "      <td>11742796</td>\n",
       "      <td>09-2024</td>\n",
       "    </tr>\n",
       "    <tr>\n",
       "      <th>6</th>\n",
       "      <td>2023-12</td>\n",
       "      <td>BE</td>\n",
       "      <td>622545.0</td>\n",
       "      <td>49.0</td>\n",
       "      <td>NA</td>\n",
       "      <td>HCW</td>\n",
       "      <td>OTHER</td>\n",
       "      <td>11742796</td>\n",
       "      <td>48-2023</td>\n",
       "    </tr>\n",
       "    <tr>\n",
       "      <th>7</th>\n",
       "      <td>2024-02</td>\n",
       "      <td>BE</td>\n",
       "      <td>622545.0</td>\n",
       "      <td>66.0</td>\n",
       "      <td>NA</td>\n",
       "      <td>HCW</td>\n",
       "      <td>COMXBB</td>\n",
       "      <td>11742796</td>\n",
       "      <td>05-2024</td>\n",
       "    </tr>\n",
       "    <tr>\n",
       "      <th>8</th>\n",
       "      <td>2024-03</td>\n",
       "      <td>BE</td>\n",
       "      <td>622545.0</td>\n",
       "      <td>1.0</td>\n",
       "      <td>NA</td>\n",
       "      <td>HCW</td>\n",
       "      <td>OTHER</td>\n",
       "      <td>11742796</td>\n",
       "      <td>09-2024</td>\n",
       "    </tr>\n",
       "    <tr>\n",
       "      <th>9</th>\n",
       "      <td>2023-11</td>\n",
       "      <td>BE</td>\n",
       "      <td>622545.0</td>\n",
       "      <td>392.0</td>\n",
       "      <td>NA</td>\n",
       "      <td>HCW</td>\n",
       "      <td>OTHER</td>\n",
       "      <td>11742796</td>\n",
       "      <td>44-2023</td>\n",
       "    </tr>\n",
       "    <tr>\n",
       "      <th>10</th>\n",
       "      <td>2024-01</td>\n",
       "      <td>BE</td>\n",
       "      <td>622545.0</td>\n",
       "      <td>304.0</td>\n",
       "      <td>NA</td>\n",
       "      <td>HCW</td>\n",
       "      <td>COMXBB</td>\n",
       "      <td>11742796</td>\n",
       "      <td>01-2024</td>\n",
       "    </tr>\n",
       "    <tr>\n",
       "      <th>11</th>\n",
       "      <td>2024-02</td>\n",
       "      <td>BE</td>\n",
       "      <td>622545.0</td>\n",
       "      <td>4.0</td>\n",
       "      <td>NA</td>\n",
       "      <td>HCW</td>\n",
       "      <td>OTHER</td>\n",
       "      <td>11742796</td>\n",
       "      <td>05-2024</td>\n",
       "    </tr>\n",
       "    <tr>\n",
       "      <th>12</th>\n",
       "      <td>2023-10</td>\n",
       "      <td>BE</td>\n",
       "      <td>622545.0</td>\n",
       "      <td>3652.0</td>\n",
       "      <td>NA</td>\n",
       "      <td>HCW</td>\n",
       "      <td>OTHER</td>\n",
       "      <td>11742796</td>\n",
       "      <td>39-2023</td>\n",
       "    </tr>\n",
       "    <tr>\n",
       "      <th>13</th>\n",
       "      <td>2024-01</td>\n",
       "      <td>BE</td>\n",
       "      <td>622545.0</td>\n",
       "      <td>15.0</td>\n",
       "      <td>NA</td>\n",
       "      <td>HCW</td>\n",
       "      <td>OTHER</td>\n",
       "      <td>11742796</td>\n",
       "      <td>01-2024</td>\n",
       "    </tr>\n",
       "    <tr>\n",
       "      <th>14</th>\n",
       "      <td>2023-09</td>\n",
       "      <td>BE</td>\n",
       "      <td>NA</td>\n",
       "      <td>7343.0</td>\n",
       "      <td>NA</td>\n",
       "      <td>Age60_69</td>\n",
       "      <td>OTHER</td>\n",
       "      <td>11742796</td>\n",
       "      <td>35-2023</td>\n",
       "    </tr>\n",
       "    <tr>\n",
       "      <th>15</th>\n",
       "      <td>2023-09</td>\n",
       "      <td>BE</td>\n",
       "      <td>NA</td>\n",
       "      <td>98654.0</td>\n",
       "      <td>NA</td>\n",
       "      <td>Age60_69</td>\n",
       "      <td>COMXBB</td>\n",
       "      <td>11742796</td>\n",
       "      <td>35-2023</td>\n",
       "    </tr>\n",
       "    <tr>\n",
       "      <th>16</th>\n",
       "      <td>2023-10</td>\n",
       "      <td>BE</td>\n",
       "      <td>NA</td>\n",
       "      <td>17717.0</td>\n",
       "      <td>NA</td>\n",
       "      <td>Age60_69</td>\n",
       "      <td>OTHER</td>\n",
       "      <td>11742796</td>\n",
       "      <td>39-2023</td>\n",
       "    </tr>\n",
       "    <tr>\n",
       "      <th>17</th>\n",
       "      <td>2023-12</td>\n",
       "      <td>BE</td>\n",
       "      <td>NA</td>\n",
       "      <td>12260.0</td>\n",
       "      <td>NA</td>\n",
       "      <td>Age60_69</td>\n",
       "      <td>COMXBB</td>\n",
       "      <td>11742796</td>\n",
       "      <td>48-2023</td>\n",
       "    </tr>\n",
       "    <tr>\n",
       "      <th>18</th>\n",
       "      <td>2023-10</td>\n",
       "      <td>BE</td>\n",
       "      <td>NA</td>\n",
       "      <td>319009.0</td>\n",
       "      <td>NA</td>\n",
       "      <td>Age60_69</td>\n",
       "      <td>COMXBB</td>\n",
       "      <td>11742796</td>\n",
       "      <td>39-2023</td>\n",
       "    </tr>\n",
       "    <tr>\n",
       "      <th>19</th>\n",
       "      <td>2024-01</td>\n",
       "      <td>BE</td>\n",
       "      <td>NA</td>\n",
       "      <td>1826.0</td>\n",
       "      <td>NA</td>\n",
       "      <td>Age60_69</td>\n",
       "      <td>COMXBB</td>\n",
       "      <td>11742796</td>\n",
       "      <td>01-2024</td>\n",
       "    </tr>\n",
       "  </tbody>\n",
       "</table>\n",
       "</div>"
      ],
      "text/plain": [
       "   YearWeekISO ReportingCountry Denominator NumberOfIndivOneDose Region  \\\n",
       "0      2023-09               BE    622545.0              26062.0     NA   \n",
       "1      2023-12               BE    622545.0               1963.0     NA   \n",
       "2      2023-11               BE    622545.0              13282.0     NA   \n",
       "3      2023-10               BE    622545.0              83069.0     NA   \n",
       "4      2023-09               BE    622545.0               1785.0     NA   \n",
       "5      2024-03               BE    622545.0                 16.0     NA   \n",
       "6      2023-12               BE    622545.0                 49.0     NA   \n",
       "7      2024-02               BE    622545.0                 66.0     NA   \n",
       "8      2024-03               BE    622545.0                  1.0     NA   \n",
       "9      2023-11               BE    622545.0                392.0     NA   \n",
       "10     2024-01               BE    622545.0                304.0     NA   \n",
       "11     2024-02               BE    622545.0                  4.0     NA   \n",
       "12     2023-10               BE    622545.0               3652.0     NA   \n",
       "13     2024-01               BE    622545.0                 15.0     NA   \n",
       "14     2023-09               BE          NA               7343.0     NA   \n",
       "15     2023-09               BE          NA              98654.0     NA   \n",
       "16     2023-10               BE          NA              17717.0     NA   \n",
       "17     2023-12               BE          NA              12260.0     NA   \n",
       "18     2023-10               BE          NA             319009.0     NA   \n",
       "19     2024-01               BE          NA               1826.0     NA   \n",
       "\n",
       "   TargetGroup Vaccine  Population WeekYear  \n",
       "0          HCW  COMXBB    11742796  35-2023  \n",
       "1          HCW  COMXBB    11742796  48-2023  \n",
       "2          HCW  COMXBB    11742796  44-2023  \n",
       "3          HCW  COMXBB    11742796  39-2023  \n",
       "4          HCW   OTHER    11742796  35-2023  \n",
       "5          HCW  COMXBB    11742796  09-2024  \n",
       "6          HCW   OTHER    11742796  48-2023  \n",
       "7          HCW  COMXBB    11742796  05-2024  \n",
       "8          HCW   OTHER    11742796  09-2024  \n",
       "9          HCW   OTHER    11742796  44-2023  \n",
       "10         HCW  COMXBB    11742796  01-2024  \n",
       "11         HCW   OTHER    11742796  05-2024  \n",
       "12         HCW   OTHER    11742796  39-2023  \n",
       "13         HCW   OTHER    11742796  01-2024  \n",
       "14    Age60_69   OTHER    11742796  35-2023  \n",
       "15    Age60_69  COMXBB    11742796  35-2023  \n",
       "16    Age60_69   OTHER    11742796  39-2023  \n",
       "17    Age60_69  COMXBB    11742796  48-2023  \n",
       "18    Age60_69  COMXBB    11742796  39-2023  \n",
       "19    Age60_69  COMXBB    11742796  01-2024  "
      ]
     },
     "execution_count": 184,
     "metadata": {},
     "output_type": "execute_result"
    }
   ],
   "source": [
    "df.head(20)"
   ]
  },
  {
   "cell_type": "code",
   "execution_count": 60,
   "id": "c2d42a77",
   "metadata": {},
   "outputs": [],
   "source": [
    "df['NumberOfIndivOneDose'] = pd.to_numeric(df['NumberOfIndivOneDose'], errors='coerce')\n",
    "#convert first into numeric data\n",
    "df2=df.groupby('ReportingCountry')[['NumberOfIndivOneDose', 'Population']].sum().reset_index() \n",
    "#sum() function works for only numeric vaues"
   ]
  },
  {
   "cell_type": "code",
   "execution_count": 61,
   "id": "3130bd91",
   "metadata": {},
   "outputs": [
    {
     "data": {
      "text/html": [
       "<div>\n",
       "<style scoped>\n",
       "    .dataframe tbody tr th:only-of-type {\n",
       "        vertical-align: middle;\n",
       "    }\n",
       "\n",
       "    .dataframe tbody tr th {\n",
       "        vertical-align: top;\n",
       "    }\n",
       "\n",
       "    .dataframe thead th {\n",
       "        text-align: right;\n",
       "    }\n",
       "</style>\n",
       "<table border=\"1\" class=\"dataframe\">\n",
       "  <thead>\n",
       "    <tr style=\"text-align: right;\">\n",
       "      <th></th>\n",
       "      <th>ReportingCountry</th>\n",
       "      <th>NumberOfIndivOneDose</th>\n",
       "      <th>Population</th>\n",
       "    </tr>\n",
       "  </thead>\n",
       "  <tbody>\n",
       "    <tr>\n",
       "      <th>0</th>\n",
       "      <td>BE</td>\n",
       "      <td>4914042.0</td>\n",
       "      <td>986394864</td>\n",
       "    </tr>\n",
       "    <tr>\n",
       "      <th>1</th>\n",
       "      <td>BG</td>\n",
       "      <td>102914.0</td>\n",
       "      <td>348176340</td>\n",
       "    </tr>\n",
       "    <tr>\n",
       "      <th>2</th>\n",
       "      <td>CY</td>\n",
       "      <td>18069.0</td>\n",
       "      <td>103118512</td>\n",
       "    </tr>\n",
       "    <tr>\n",
       "      <th>3</th>\n",
       "      <td>CZ</td>\n",
       "      <td>1044504.0</td>\n",
       "      <td>2403711438</td>\n",
       "    </tr>\n",
       "    <tr>\n",
       "      <th>4</th>\n",
       "      <td>DE</td>\n",
       "      <td>8299759.0</td>\n",
       "      <td>1181023830</td>\n",
       "    </tr>\n",
       "    <tr>\n",
       "      <th>5</th>\n",
       "      <td>DK</td>\n",
       "      <td>2161423.0</td>\n",
       "      <td>207642890</td>\n",
       "    </tr>\n",
       "    <tr>\n",
       "      <th>6</th>\n",
       "      <td>EE</td>\n",
       "      <td>99342.0</td>\n",
       "      <td>47805940</td>\n",
       "    </tr>\n",
       "    <tr>\n",
       "      <th>7</th>\n",
       "      <td>EL</td>\n",
       "      <td>898585.0</td>\n",
       "      <td>3280404330</td>\n",
       "    </tr>\n",
       "    <tr>\n",
       "      <th>8</th>\n",
       "      <td>ES</td>\n",
       "      <td>19104442.0</td>\n",
       "      <td>9520901478</td>\n",
       "    </tr>\n",
       "    <tr>\n",
       "      <th>9</th>\n",
       "      <td>FI</td>\n",
       "      <td>7692767.0</td>\n",
       "      <td>33650890560</td>\n",
       "    </tr>\n",
       "    <tr>\n",
       "      <th>10</th>\n",
       "      <td>FR</td>\n",
       "      <td>15285208.0</td>\n",
       "      <td>14725363032</td>\n",
       "    </tr>\n",
       "    <tr>\n",
       "      <th>11</th>\n",
       "      <td>HU</td>\n",
       "      <td>47449.0</td>\n",
       "      <td>527985920</td>\n",
       "    </tr>\n",
       "    <tr>\n",
       "      <th>12</th>\n",
       "      <td>IE</td>\n",
       "      <td>1369079.0</td>\n",
       "      <td>885594360</td>\n",
       "    </tr>\n",
       "    <tr>\n",
       "      <th>13</th>\n",
       "      <td>IS</td>\n",
       "      <td>60707.0</td>\n",
       "      <td>27143060</td>\n",
       "    </tr>\n",
       "    <tr>\n",
       "      <th>14</th>\n",
       "      <td>IT</td>\n",
       "      <td>1795871.0</td>\n",
       "      <td>1946907633</td>\n",
       "    </tr>\n",
       "    <tr>\n",
       "      <th>15</th>\n",
       "      <td>LI</td>\n",
       "      <td>2023.0</td>\n",
       "      <td>3213837</td>\n",
       "    </tr>\n",
       "    <tr>\n",
       "      <th>16</th>\n",
       "      <td>LT</td>\n",
       "      <td>51898.0</td>\n",
       "      <td>54288301</td>\n",
       "    </tr>\n",
       "    <tr>\n",
       "      <th>17</th>\n",
       "      <td>LU</td>\n",
       "      <td>35282.0</td>\n",
       "      <td>35022877</td>\n",
       "    </tr>\n",
       "    <tr>\n",
       "      <th>18</th>\n",
       "      <td>MT</td>\n",
       "      <td>3125.0</td>\n",
       "      <td>52036896</td>\n",
       "    </tr>\n",
       "    <tr>\n",
       "      <th>19</th>\n",
       "      <td>NL</td>\n",
       "      <td>7672684.0</td>\n",
       "      <td>1246790370</td>\n",
       "    </tr>\n",
       "    <tr>\n",
       "      <th>20</th>\n",
       "      <td>NO</td>\n",
       "      <td>1931254.0</td>\n",
       "      <td>230537328</td>\n",
       "    </tr>\n",
       "    <tr>\n",
       "      <th>21</th>\n",
       "      <td>PL</td>\n",
       "      <td>1287597.0</td>\n",
       "      <td>1837686800</td>\n",
       "    </tr>\n",
       "    <tr>\n",
       "      <th>22</th>\n",
       "      <td>PT</td>\n",
       "      <td>11200269.0</td>\n",
       "      <td>9033336858</td>\n",
       "    </tr>\n",
       "    <tr>\n",
       "      <th>23</th>\n",
       "      <td>RO</td>\n",
       "      <td>1645.0</td>\n",
       "      <td>304872768</td>\n",
       "    </tr>\n",
       "    <tr>\n",
       "      <th>24</th>\n",
       "      <td>SE</td>\n",
       "      <td>7843672.0</td>\n",
       "      <td>3324811696</td>\n",
       "    </tr>\n",
       "    <tr>\n",
       "      <th>25</th>\n",
       "      <td>SI</td>\n",
       "      <td>66623.0</td>\n",
       "      <td>105848600</td>\n",
       "    </tr>\n",
       "    <tr>\n",
       "      <th>26</th>\n",
       "      <td>SK</td>\n",
       "      <td>64057.0</td>\n",
       "      <td>173721344</td>\n",
       "    </tr>\n",
       "  </tbody>\n",
       "</table>\n",
       "</div>"
      ],
      "text/plain": [
       "   ReportingCountry  NumberOfIndivOneDose   Population\n",
       "0                BE             4914042.0    986394864\n",
       "1                BG              102914.0    348176340\n",
       "2                CY               18069.0    103118512\n",
       "3                CZ             1044504.0   2403711438\n",
       "4                DE             8299759.0   1181023830\n",
       "5                DK             2161423.0    207642890\n",
       "6                EE               99342.0     47805940\n",
       "7                EL              898585.0   3280404330\n",
       "8                ES            19104442.0   9520901478\n",
       "9                FI             7692767.0  33650890560\n",
       "10               FR            15285208.0  14725363032\n",
       "11               HU               47449.0    527985920\n",
       "12               IE             1369079.0    885594360\n",
       "13               IS               60707.0     27143060\n",
       "14               IT             1795871.0   1946907633\n",
       "15               LI                2023.0      3213837\n",
       "16               LT               51898.0     54288301\n",
       "17               LU               35282.0     35022877\n",
       "18               MT                3125.0     52036896\n",
       "19               NL             7672684.0   1246790370\n",
       "20               NO             1931254.0    230537328\n",
       "21               PL             1287597.0   1837686800\n",
       "22               PT            11200269.0   9033336858\n",
       "23               RO                1645.0    304872768\n",
       "24               SE             7843672.0   3324811696\n",
       "25               SI               66623.0    105848600\n",
       "26               SK               64057.0    173721344"
      ]
     },
     "execution_count": 61,
     "metadata": {},
     "output_type": "execute_result"
    }
   ],
   "source": [
    "df2"
   ]
  },
  {
   "cell_type": "code",
   "execution_count": 62,
   "id": "92af97a8",
   "metadata": {},
   "outputs": [],
   "source": [
    "df3=df2[df2['NumberOfIndivOneDose']<100000]"
   ]
  },
  {
   "cell_type": "code",
   "execution_count": 63,
   "id": "15627926",
   "metadata": {},
   "outputs": [
    {
     "data": {
      "text/html": [
       "<div>\n",
       "<style scoped>\n",
       "    .dataframe tbody tr th:only-of-type {\n",
       "        vertical-align: middle;\n",
       "    }\n",
       "\n",
       "    .dataframe tbody tr th {\n",
       "        vertical-align: top;\n",
       "    }\n",
       "\n",
       "    .dataframe thead th {\n",
       "        text-align: right;\n",
       "    }\n",
       "</style>\n",
       "<table border=\"1\" class=\"dataframe\">\n",
       "  <thead>\n",
       "    <tr style=\"text-align: right;\">\n",
       "      <th></th>\n",
       "      <th>ReportingCountry</th>\n",
       "      <th>NumberOfIndivOneDose</th>\n",
       "      <th>Population</th>\n",
       "    </tr>\n",
       "  </thead>\n",
       "  <tbody>\n",
       "    <tr>\n",
       "      <th>2</th>\n",
       "      <td>CY</td>\n",
       "      <td>18069.0</td>\n",
       "      <td>103118512</td>\n",
       "    </tr>\n",
       "    <tr>\n",
       "      <th>6</th>\n",
       "      <td>EE</td>\n",
       "      <td>99342.0</td>\n",
       "      <td>47805940</td>\n",
       "    </tr>\n",
       "    <tr>\n",
       "      <th>11</th>\n",
       "      <td>HU</td>\n",
       "      <td>47449.0</td>\n",
       "      <td>527985920</td>\n",
       "    </tr>\n",
       "    <tr>\n",
       "      <th>13</th>\n",
       "      <td>IS</td>\n",
       "      <td>60707.0</td>\n",
       "      <td>27143060</td>\n",
       "    </tr>\n",
       "    <tr>\n",
       "      <th>15</th>\n",
       "      <td>LI</td>\n",
       "      <td>2023.0</td>\n",
       "      <td>3213837</td>\n",
       "    </tr>\n",
       "    <tr>\n",
       "      <th>16</th>\n",
       "      <td>LT</td>\n",
       "      <td>51898.0</td>\n",
       "      <td>54288301</td>\n",
       "    </tr>\n",
       "    <tr>\n",
       "      <th>17</th>\n",
       "      <td>LU</td>\n",
       "      <td>35282.0</td>\n",
       "      <td>35022877</td>\n",
       "    </tr>\n",
       "    <tr>\n",
       "      <th>18</th>\n",
       "      <td>MT</td>\n",
       "      <td>3125.0</td>\n",
       "      <td>52036896</td>\n",
       "    </tr>\n",
       "    <tr>\n",
       "      <th>23</th>\n",
       "      <td>RO</td>\n",
       "      <td>1645.0</td>\n",
       "      <td>304872768</td>\n",
       "    </tr>\n",
       "    <tr>\n",
       "      <th>25</th>\n",
       "      <td>SI</td>\n",
       "      <td>66623.0</td>\n",
       "      <td>105848600</td>\n",
       "    </tr>\n",
       "    <tr>\n",
       "      <th>26</th>\n",
       "      <td>SK</td>\n",
       "      <td>64057.0</td>\n",
       "      <td>173721344</td>\n",
       "    </tr>\n",
       "  </tbody>\n",
       "</table>\n",
       "</div>"
      ],
      "text/plain": [
       "   ReportingCountry  NumberOfIndivOneDose  Population\n",
       "2                CY               18069.0   103118512\n",
       "6                EE               99342.0    47805940\n",
       "11               HU               47449.0   527985920\n",
       "13               IS               60707.0    27143060\n",
       "15               LI                2023.0     3213837\n",
       "16               LT               51898.0    54288301\n",
       "17               LU               35282.0    35022877\n",
       "18               MT                3125.0    52036896\n",
       "23               RO                1645.0   304872768\n",
       "25               SI               66623.0   105848600\n",
       "26               SK               64057.0   173721344"
      ]
     },
     "execution_count": 63,
     "metadata": {},
     "output_type": "execute_result"
    }
   ],
   "source": [
    "df3"
   ]
  },
  {
   "cell_type": "code",
   "execution_count": null,
   "id": "2cbdde7e",
   "metadata": {},
   "outputs": [
    {
     "data": {
      "text/plain": [
       "11"
      ]
     },
     "execution_count": 64,
     "metadata": {},
     "output_type": "execute_result"
    }
   ],
   "source": [
    "countries = df3['ReportingCountry'].unique()\n",
    "#df3['ReportingCountry'] ==> extracts the ReportingCountry column from the dataFrame df3.\n",
    "#.unique(), returns all the unique (non-duplicate) values in that column, as a NumPy array.\n",
    "len(countries)"
   ]
  },
  {
   "cell_type": "code",
   "execution_count": 70,
   "id": "f8aff3af",
   "metadata": {},
   "outputs": [],
   "source": [
    "import numpy as np"
   ]
  },
  {
   "cell_type": "code",
   "execution_count": 68,
   "id": "a6be0d63",
   "metadata": {},
   "outputs": [],
   "source": [
    "import matplotlib.pyplot as plt"
   ]
  },
  {
   "cell_type": "code",
   "execution_count": null,
   "id": "99d28bda",
   "metadata": {},
   "outputs": [
    {
     "data": {
      "image/png": "[encoded data removed]",
      "text/plain": [
       "<Figure size 640x480 with 1 Axes>"
      ]
     },
     "metadata": {},
     "output_type": "display_data"
    },
    {
     "data": {
      "image/png": "[encoded data removed]",
      "text/plain": [
       "<Figure size 640x480 with 1 Axes>"
      ]
     },
     "metadata": {},
     "output_type": "display_data"
    },
    {
     "data": {
      "image/png": "[encoded data removed]",
      "text/plain": [
       "<Figure size 640x480 with 1 Axes>"
      ]
     },
     "metadata": {},
     "output_type": "display_data"
    },
    {
     "data": {
      "image/png": "[encoded data removed]",
      "text/plain": [
       "<Figure size 640x480 with 1 Axes>"
      ]
     },
     "metadata": {},
     "output_type": "display_data"
    },
    {
     "data": {
      "image/png": "[encoded data removed]",
      "text/plain": [
       "<Figure size 640x480 with 1 Axes>"
      ]
     },
     "metadata": {},
     "output_type": "display_data"
    },
    {
     "data": {
      "image/png": "[encoded data removed]",
      "text/plain": [
       "<Figure size 640x480 with 1 Axes>"
      ]
     },
     "metadata": {},
     "output_type": "display_data"
    },
    {
     "data": {
      "image/png": "[encoded data removed]",
      "text/plain": [
       "<Figure size 640x480 with 1 Axes>"
      ]
     },
     "metadata": {},
     "output_type": "display_data"
    },
    {
     "data": {
      "image/png": "[encoded data removed]",
      "text/plain": [
       "<Figure size 640x480 with 1 Axes>"
      ]
     },
     "metadata": {},
     "output_type": "display_data"
    },
    {
     "data": {
      "image/png": "[encoded data removed]",
      "text/plain": [
       "<Figure size 640x480 with 1 Axes>"
      ]
     },
     "metadata": {},
     "output_type": "display_data"
    },
    {
     "data": {
      "image/png": "[encoded data removed]",
      "text/plain": [
       "<Figure size 640x480 with 1 Axes>"
      ]
     },
     "metadata": {},
     "output_type": "display_data"
    },
    {
     "data": {
      "image/png": "[encoded data removed]",
      "text/plain": [
       "<Figure size 640x480 with 1 Axes>"
      ]
     },
     "metadata": {},
     "output_type": "display_data"
    }
   ],
   "source": [
    "for idx in range(0,len(countries)):\n",
    "    C = df3[df3['ReportingCountry']==countries[idx]].reset_index() \n",
    "    #countries[idx] → picks one country from your countries list.\n",
    "    #df3['ReportingCountry']==countries[idx] → creates a boolean mask (True for rows where the country matches, False otherwise).\n",
    "    #df3[...] → selects only the rows where that condition is True, gives you a subset of df3 for just one country\n",
    "    #reset_index() renumbers the index starting from 0 → [0, 1, 2].\n",
    "    plt.scatter(np.arange(0,len(C)), C['NumberOfIndivOneDose'], color='blue', label='Individual Dose')\n",
    "    plt.title(countries[idx])\n",
    "    plt.xlabel('Days since the first Suspect')\n",
    "    plt.ylabel('Individual Doses')\n",
    "    plt.legend()\n",
    "    plt.show()"
   ]
  }
 ],
 "metadata": {
  "kernelspec": {
   "display_name": ".venv",
   "language": "python",
   "name": "python3"
  },
  "language_info": {
   "codemirror_mode": {
    "name": "ipython",
    "version": 3
   },
   "file_extension": ".py",
   "mimetype": "text/x-python",
   "name": "python",
   "nbconvert_exporter": "python",
   "pygments_lexer": "ipython3",
   "version": "3.13.5"
  }
 },
 "nbformat": 4,
 "nbformat_minor": 5
}
