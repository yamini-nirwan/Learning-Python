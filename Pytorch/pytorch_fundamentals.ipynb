{
 "cells": [
  {
   "cell_type": "code",
   "execution_count": 2,
   "id": "734d1a75",
   "metadata": {},
   "outputs": [
    {
     "name": "stdout",
     "output_type": "stream",
     "text": [
      "2.8.0+cpu\n",
      "False\n"
     ]
    }
   ],
   "source": [
    "import pandas as pd\n",
    "import numpy as np\n",
    "import matplotlib.pyplot as plt \n",
    "import torch\n",
    "print(torch.__version__)\n",
    "print(torch.cuda.is_available())  # True if PyTorch can use GPU\n"
   ]
  },
  {
   "cell_type": "markdown",
   "id": "1895fe79",
   "metadata": {},
   "source": [
    "**What is PyTorch?**\n",
    "- most popular research deep learning framework\n",
    "- write fast deep learning code in Python (able to run on a GPU/many GPUs) \n",
    "- Able to access many pre-built deep learning models (Torch Hub/ torchdivisions.models)\n",
    "- whole stack: preprocess data, model data, deploy model in your application/cloud\n",
    "- originally designed and used in-house by Facebook/Meta (now open-source and used by companies such as Tesla, Microsoft, OpenAI)"
   ]
  },
  {
   "cell_type": "markdown",
   "id": "06dc44c2",
   "metadata": {},
   "source": [
    "**Tensors (like NumPy arrays, but with GPU acceleration).**\n",
    "\n",
    "Example: Running physics simulations or mathematical optimization."
   ]
  },
  {
   "cell_type": "markdown",
   "id": "ab1830bb",
   "metadata": {},
   "source": [
    "Creating an empty Tensor"
   ]
  },
  {
   "cell_type": "code",
   "execution_count": 3,
   "id": "20172e21",
   "metadata": {},
   "outputs": [
    {
     "name": "stdout",
     "output_type": "stream",
     "text": [
      "tensor([[0., 0., 0.],\n",
      "        [0., 0., 0.]])\n"
     ]
    }
   ],
   "source": [
    "x = torch.empty(2, 3) # Creates a 2x3 matrix with uninitialized values\n",
    "print(x)"
   ]
  },
  {
   "cell_type": "code",
   "execution_count": 4,
   "id": "391e17c4",
   "metadata": {},
   "outputs": [
    {
     "name": "stdout",
     "output_type": "stream",
     "text": [
      "tensor([[0.5231, 0.0716, 0.0189],\n",
      "        [0.6257, 0.4087, 0.4802]])\n",
      "torch.float32\n",
      "torch.Size([2, 3])\n"
     ]
    }
   ],
   "source": [
    "x = torch.rand(2, 3, dtype=torch.float32) #float32 means 32-bit floating point \n",
    "print(x)\n",
    "print(x.dtype)\n",
    "print(x.size())  # "
   ]
  },
  {
   "cell_type": "code",
   "execution_count": 5,
   "id": "31b5f29b",
   "metadata": {},
   "outputs": [
    {
     "name": "stdout",
     "output_type": "stream",
     "text": [
      "tensor([[0.8675, 0.1567, 0.5525],\n",
      "        [0.4138, 0.3226, 0.4892]])\n",
      "tensor([[0.8618, 0.9419, 0.6889],\n",
      "        [0.4456, 0.3743, 0.6927]])\n",
      "tensor([[1.7293, 1.0986, 1.2414],\n",
      "        [0.8594, 0.6969, 1.1820]])\n",
      "tensor([[1.7293, 1.0986, 1.2414],\n",
      "        [0.8594, 0.6969, 1.1820]])\n"
     ]
    }
   ],
   "source": [
    "x = torch.rand(2, 3)\n",
    "y = torch.rand(2, 3)\n",
    "print(x)\n",
    "print(y)\n",
    "z = x + y\n",
    "z = torch.add(x, y)  # another way to add\n",
    "print(z)\n",
    "\n",
    "y.add_(x)  # in-place addition\n",
    "print(y)\n",
    "\n"
   ]
  },
  {
   "cell_type": "code",
   "execution_count": 6,
   "id": "2ddf5210",
   "metadata": {},
   "outputs": [
    {
     "name": "stdout",
     "output_type": "stream",
     "text": [
      "tensor([[0.1195, 0.5168, 0.4708],\n",
      "        [0.1073, 0.9763, 0.5229]])\n",
      "tensor([[0.3829, 0.3972, 0.8682],\n",
      "        [0.4477, 0.4965, 0.8410]])\n",
      "tensor([[-0.2633,  0.1196, -0.3974],\n",
      "        [-0.3405,  0.4798, -0.3182]])\n"
     ]
    }
   ],
   "source": [
    "x = torch.rand(2, 3)\n",
    "y = torch.rand(2, 3)\n",
    "print(x)\n",
    "print(y)\n",
    "\n",
    "z = x - y\n",
    "z = torch.sub(x, y)  # another way to subtract\n",
    "print(z)"
   ]
  },
  {
   "cell_type": "code",
   "execution_count": 7,
   "id": "76b70d16",
   "metadata": {},
   "outputs": [
    {
     "name": "stdout",
     "output_type": "stream",
     "text": [
      "tensor([[0.0866, 0.4052, 0.2965],\n",
      "        [0.9022, 0.7870, 0.3132]])\n",
      "tensor([[3.3968e-01, 4.0245e-04, 2.6359e-01],\n",
      "        [6.8650e-01, 1.3649e-01, 7.1906e-01]])\n",
      "tensor([[2.9411e-02, 1.6306e-04, 7.8160e-02],\n",
      "        [6.1935e-01, 1.0742e-01, 2.2518e-01]])\n"
     ]
    }
   ],
   "source": [
    "x = torch.rand(2, 3)\n",
    "y = torch.rand(2, 3)\n",
    "print(x)\n",
    "print(y)\n",
    "\n",
    "z = x * y\n",
    "z = torch.mul(x, y)  # another way to multiply\n",
    "print(z)"
   ]
  },
  {
   "cell_type": "code",
   "execution_count": 8,
   "id": "5b4bca2d",
   "metadata": {},
   "outputs": [
    {
     "name": "stdout",
     "output_type": "stream",
     "text": [
      "tensor([[0.9311, 0.2473, 0.6773],\n",
      "        [0.4212, 0.4467, 0.0587]])\n",
      "tensor([[0.0032, 0.6985, 0.3713],\n",
      "        [0.4632, 0.5756, 0.2303]])\n",
      "tensor([[2.9057e+02, 3.5403e-01, 1.8242e+00],\n",
      "        [9.0924e-01, 7.7612e-01, 2.5481e-01]])\n"
     ]
    }
   ],
   "source": [
    "x = torch.rand(2, 3)\n",
    "y = torch.rand(2, 3)\n",
    "print(x)\n",
    "print(y)\n",
    "\n",
    "z = x * y\n",
    "z = torch.div(x, y)\n",
    "print(z)"
   ]
  },
  {
   "cell_type": "code",
   "execution_count": 9,
   "id": "9967bf05",
   "metadata": {},
   "outputs": [
    {
     "name": "stdout",
     "output_type": "stream",
     "text": [
      "tensor([[0.1781, 0.9904, 0.6734],\n",
      "        [0.2512, 0.8607, 0.2760]])\n",
      "tensor([0.9904, 0.8607])\n",
      "tensor([0.2512, 0.8607, 0.2760])\n",
      "0.8606951832771301\n"
     ]
    }
   ],
   "source": [
    "x = torch.rand(2, 3)\n",
    "\n",
    "print(x)\n",
    "print(x[:, 1])  #all rows, column 1\n",
    "print(x[1, :])  #row 1, all columns\n",
    "print(x[1, 1].item())  #get the value as a standard Python number\n"
   ]
  },
  {
   "cell_type": "code",
   "execution_count": 10,
   "id": "0373cab4",
   "metadata": {},
   "outputs": [
    {
     "data": {
      "text/plain": [
       "tensor(7)"
      ]
     },
     "execution_count": 10,
     "metadata": {},
     "output_type": "execute_result"
    }
   ],
   "source": [
    "#scalar tensors\n",
    "scalar = torch.tensor(7)\n",
    "scalar"
   ]
  },
  {
   "cell_type": "code",
   "execution_count": 11,
   "id": "120fb3dc",
   "metadata": {},
   "outputs": [
    {
     "data": {
      "text/plain": [
       "0"
      ]
     },
     "execution_count": 11,
     "metadata": {},
     "output_type": "execute_result"
    }
   ],
   "source": [
    "scalar.ndim"
   ]
  },
  {
   "cell_type": "code",
   "execution_count": 12,
   "id": "3d26afab",
   "metadata": {},
   "outputs": [
    {
     "data": {
      "text/plain": [
       "7"
      ]
     },
     "execution_count": 12,
     "metadata": {},
     "output_type": "execute_result"
    }
   ],
   "source": [
    "#get tensor back as a Python int\n",
    "scalar.item()"
   ]
  },
  {
   "cell_type": "code",
   "execution_count": 13,
   "id": "7af2f03e",
   "metadata": {},
   "outputs": [
    {
     "data": {
      "text/plain": [
       "tensor([7, 7])"
      ]
     },
     "execution_count": 13,
     "metadata": {},
     "output_type": "execute_result"
    }
   ],
   "source": [
    "#vector\n",
    "vector = torch.tensor([7,7])\n",
    "vector"
   ]
  },
  {
   "cell_type": "code",
   "execution_count": 14,
   "id": "791c06e3",
   "metadata": {},
   "outputs": [
    {
     "data": {
      "text/plain": [
       "1"
      ]
     },
     "execution_count": 14,
     "metadata": {},
     "output_type": "execute_result"
    }
   ],
   "source": [
    "vector.ndim"
   ]
  },
  {
   "cell_type": "code",
   "execution_count": 15,
   "id": "42a425a0",
   "metadata": {},
   "outputs": [
    {
     "data": {
      "text/plain": [
       "torch.Size([2])"
      ]
     },
     "execution_count": 15,
     "metadata": {},
     "output_type": "execute_result"
    }
   ],
   "source": [
    "vector.shape #2 elements in vector"
   ]
  },
  {
   "cell_type": "code",
   "execution_count": 16,
   "id": "41ed9274",
   "metadata": {},
   "outputs": [
    {
     "data": {
      "text/plain": [
       "tensor([[1, 2, 3],\n",
       "        [4, 5, 6],\n",
       "        [7, 8, 9]])"
      ]
     },
     "execution_count": 16,
     "metadata": {},
     "output_type": "execute_result"
    }
   ],
   "source": [
    "#Matrix\n",
    "matrix = torch.tensor([[1,2,3],\n",
    "                        [4,5,6],\n",
    "                        [7,8,9]])\n",
    "matrix"
   ]
  },
  {
   "cell_type": "code",
   "execution_count": 17,
   "id": "60e9ffde",
   "metadata": {},
   "outputs": [
    {
     "data": {
      "text/plain": [
       "2"
      ]
     },
     "execution_count": 17,
     "metadata": {},
     "output_type": "execute_result"
    }
   ],
   "source": [
    "matrix.ndim"
   ]
  },
  {
   "cell_type": "code",
   "execution_count": 18,
   "id": "9d26cb58",
   "metadata": {},
   "outputs": [
    {
     "data": {
      "text/plain": [
       "torch.Size([3, 3])"
      ]
     },
     "execution_count": 18,
     "metadata": {},
     "output_type": "execute_result"
    }
   ],
   "source": [
    "matrix.shape #3 number of rows, 3 number of columns"
   ]
  },
  {
   "cell_type": "code",
   "execution_count": 19,
   "id": "21586aed",
   "metadata": {},
   "outputs": [
    {
     "data": {
      "text/plain": [
       "tensor([[[ 1,  2,  3],\n",
       "         [ 4,  5,  6],\n",
       "         [ 7,  8,  9],\n",
       "         [10, 11, 12]],\n",
       "\n",
       "        [[19, 20, 21],\n",
       "         [22, 23, 24],\n",
       "         [25, 26, 27],\n",
       "         [28, 29, 30]]])"
      ]
     },
     "execution_count": 19,
     "metadata": {},
     "output_type": "execute_result"
    }
   ],
   "source": [
    "#Tensor\n",
    "tensor = torch.tensor([[[1,2,3],\n",
    "                        [4,5,6],\n",
    "                        [7,8,9],\n",
    "                        [10,11,12]],\n",
    "                       [[19,20,21],\n",
    "                        [22,23,24],\n",
    "                        [25,26,27],\n",
    "                        [28,29,30]]])\n",
    "tensor   #most of the tensors we don't write by hand like this"
   ]
  },
  {
   "cell_type": "code",
   "execution_count": 20,
   "id": "47cf5332",
   "metadata": {},
   "outputs": [
    {
     "data": {
      "text/plain": [
       "3"
      ]
     },
     "execution_count": 20,
     "metadata": {},
     "output_type": "execute_result"
    }
   ],
   "source": [
    "tensor.ndim #rows, columns and a layer, so total 3 dimensions"
   ]
  },
  {
   "cell_type": "code",
   "execution_count": 21,
   "id": "fa088705",
   "metadata": {},
   "outputs": [
    {
     "data": {
      "text/plain": [
       "torch.Size([2, 4, 3])"
      ]
     },
     "execution_count": 21,
     "metadata": {},
     "output_type": "execute_result"
    }
   ],
   "source": [
    "tensor.shape \n",
    "#2 layers and each matrix has 3 rows and 3 columns \n",
    "#therefore shape shows first the number of layers, then number of rows in the matrix and then the number of elements in each row"
   ]
  },
  {
   "cell_type": "markdown",
   "id": "274b04b6",
   "metadata": {},
   "source": [
    "**Random Tensors**"
   ]
  },
  {
   "cell_type": "markdown",
   "id": "bed28575",
   "metadata": {},
   "source": [
    "Random tensors are important because the way many neural networks learn is that they start with tensors full of random\n",
    "numbers and then adjust those random numbers to better represent the data.\n",
    "\n",
    "'Start with random numbers ==> look at data ==> update random numbers ==> look at data ==> update random numbers"
   ]
  },
  {
   "cell_type": "code",
   "execution_count": 22,
   "id": "6250cd3c",
   "metadata": {},
   "outputs": [
    {
     "data": {
      "text/plain": [
       "tensor([[0.4649, 0.0317, 0.6868, 0.0869],\n",
       "        [0.4290, 0.7781, 0.0937, 0.4382],\n",
       "        [0.5197, 0.9921, 0.1901, 0.2357]])"
      ]
     },
     "execution_count": 22,
     "metadata": {},
     "output_type": "execute_result"
    }
   ],
   "source": [
    "#create a random tensor of size (3,4)\n",
    "random_tensor = torch.rand(3, 4) #creates a tensor of 3 rows and 4 columns with random values between 0 and 1\n",
    "random_tensor"
   ]
  },
  {
   "cell_type": "code",
   "execution_count": 23,
   "id": "76ea65be",
   "metadata": {},
   "outputs": [
    {
     "data": {
      "text/plain": [
       "2"
      ]
     },
     "execution_count": 23,
     "metadata": {},
     "output_type": "execute_result"
    }
   ],
   "source": [
    "random_tensor.ndim"
   ]
  },
  {
   "cell_type": "code",
   "execution_count": 24,
   "id": "e0912759",
   "metadata": {},
   "outputs": [
    {
     "data": {
      "text/plain": [
       "tensor([[[0.6315, 0.4093, 0.3088, 0.7538],\n",
       "         [0.6091, 0.5497, 0.5183, 0.0867],\n",
       "         [0.6829, 0.5301, 0.8629, 0.0866]]])"
      ]
     },
     "execution_count": 24,
     "metadata": {},
     "output_type": "execute_result"
    }
   ],
   "source": [
    "random_tensor = torch.rand(1, 3, 4)\n",
    "random_tensor"
   ]
  },
  {
   "cell_type": "code",
   "execution_count": 25,
   "id": "6f88027e",
   "metadata": {},
   "outputs": [
    {
     "data": {
      "text/plain": [
       "3"
      ]
     },
     "execution_count": 25,
     "metadata": {},
     "output_type": "execute_result"
    }
   ],
   "source": [
    "random_tensor.ndim"
   ]
  },
  {
   "cell_type": "code",
   "execution_count": 26,
   "id": "1725e39a",
   "metadata": {},
   "outputs": [
    {
     "data": {
      "text/plain": [
       "(torch.Size([3, 224, 224]), 3)"
      ]
     },
     "execution_count": 26,
     "metadata": {},
     "output_type": "execute_result"
    }
   ],
   "source": [
    "#create a random tensor with similar shape to an image tensor\n",
    "random_image_size_tensor = torch.rand(size = (3, 224, 224)) #color channels (RGB), height, width\n",
    "random_image_size_tensor.shape, random_image_size_tensor.ndim"
   ]
  },
  {
   "cell_type": "code",
   "execution_count": 27,
   "id": "0154445f",
   "metadata": {},
   "outputs": [
    {
     "data": {
      "text/plain": [
       "tensor([[0., 0., 0., 0.],\n",
       "        [0., 0., 0., 0.],\n",
       "        [0., 0., 0., 0.]])"
      ]
     },
     "execution_count": 27,
     "metadata": {},
     "output_type": "execute_result"
    }
   ],
   "source": [
    "#Create a tensor of all zeros\n",
    "zeros = torch.zeros (size = (3, 4))\n",
    "zeros"
   ]
  },
  {
   "cell_type": "code",
   "execution_count": 28,
   "id": "1f85db8c",
   "metadata": {},
   "outputs": [
    {
     "data": {
      "text/plain": [
       "tensor([[1., 1., 1., 1.],\n",
       "        [1., 1., 1., 1.],\n",
       "        [1., 1., 1., 1.]])"
      ]
     },
     "execution_count": 28,
     "metadata": {},
     "output_type": "execute_result"
    }
   ],
   "source": [
    "#Create a tensor of all ones\n",
    "ones = torch.ones (size = (3, 4))\n",
    "ones"
   ]
  },
  {
   "cell_type": "code",
   "execution_count": 29,
   "id": "dbc08b70",
   "metadata": {},
   "outputs": [
    {
     "data": {
      "text/plain": [
       "torch.float32"
      ]
     },
     "execution_count": 29,
     "metadata": {},
     "output_type": "execute_result"
    }
   ],
   "source": [
    "ones.dtype"
   ]
  },
  {
   "cell_type": "code",
   "execution_count": 33,
   "id": "1a0dfdca",
   "metadata": {},
   "outputs": [
    {
     "data": {
      "text/plain": [
       "tensor([0, 1, 2, 3, 4, 5, 6, 7, 8, 9])"
      ]
     },
     "execution_count": 33,
     "metadata": {},
     "output_type": "execute_result"
    }
   ],
   "source": [
    "#create a range of tensors and tensors-like\n",
    "one_to_ten = torch.arange(0, 10)  #similar to python's range function\n",
    "one_to_ten"
   ]
  },
  {
   "cell_type": "code",
   "execution_count": 34,
   "id": "54e0d070",
   "metadata": {},
   "outputs": [
    {
     "data": {
      "text/plain": [
       "tensor([ 1,  2,  3,  4,  5,  6,  7,  8,  9, 10])"
      ]
     },
     "execution_count": 34,
     "metadata": {},
     "output_type": "execute_result"
    }
   ],
   "source": [
    "one_to_ten = torch.arange(start = 1, end = 11, step = 1 )\n",
    "one_to_ten"
   ]
  },
  {
   "cell_type": "code",
   "execution_count": 37,
   "id": "ac984d8f",
   "metadata": {},
   "outputs": [
    {
     "data": {
      "text/plain": [
       "tensor([0, 0, 0, 0, 0, 0, 0, 0, 0, 0])"
      ]
     },
     "execution_count": 37,
     "metadata": {},
     "output_type": "execute_result"
    }
   ],
   "source": [
    "#creating tensors like\n",
    "ten_zeros = torch.zeros_like(input = one_to_ten)  #creates a tensor of zeros with the same shape as one_to_ten\n",
    "ten_zeros"
   ]
  },
  {
   "cell_type": "markdown",
   "id": "64d6ef4e",
   "metadata": {},
   "source": [
    "**Tensor Datatypes**"
   ]
  },
  {
   "cell_type": "code",
   "execution_count": 57,
   "id": "0f1f09cd",
   "metadata": {},
   "outputs": [
    {
     "data": {
      "text/plain": [
       "tensor([3., 6., 9.])"
      ]
     },
     "execution_count": 57,
     "metadata": {},
     "output_type": "execute_result"
    }
   ],
   "source": [
    "#Float 32 tensor\n",
    "float_32_tensor = torch.tensor([3.0, 6.0, 9.0], \n",
    "                                     dtype = None, #what dtype is this tensor\n",
    "                                     device = None, #what device is this tensor on\n",
    "                                     requires_grad = False) #whether or not to track gradients with this tensor operations\n",
    "float_32_tensor\n",
    "\n",
    "                                     "
   ]
  },
  {
   "cell_type": "markdown",
   "id": "f811803f",
   "metadata": {},
   "source": [
    "**What is meant by 32-bit floatung point, 16-bit floating point and 64-bit floating point?**\n",
    "- 32-bit is sigle precision (default)\n",
    "- 16-bit is half precision\n",
    "- These numbers represent how much detail a single numbers is stored in memory."
   ]
  },
  {
   "cell_type": "markdown",
   "id": "cf398410",
   "metadata": {},
   "source": [
    "**NOTE:** Tensor datatypes is one of the 3 big errors you'll run with Pytorch and deep learning:\n",
    "1. Tensors not right datatypes\n",
    "2. Tensors not right shape\n",
    "3. Tensors not on the right device"
   ]
  },
  {
   "cell_type": "code",
   "execution_count": 49,
   "id": "6902de6e",
   "metadata": {},
   "outputs": [
    {
     "data": {
      "text/plain": [
       "torch.float32"
      ]
     },
     "execution_count": 49,
     "metadata": {},
     "output_type": "execute_result"
    }
   ],
   "source": [
    "float_32_tensor.dtype  "
   ]
  },
  {
   "cell_type": "code",
   "execution_count": 55,
   "id": "401a0ae0",
   "metadata": {},
   "outputs": [
    {
     "data": {
      "text/plain": [
       "tensor([3., 6., 9.], dtype=torch.float16)"
      ]
     },
     "execution_count": 55,
     "metadata": {},
     "output_type": "execute_result"
    }
   ],
   "source": [
    "#convert float32 tensor to float16 tensor (reduced precision, half precision)\n",
    "float_16_tensor = float_32_tensor.type(torch.float16)\n",
    "float_16_tensor"
   ]
  },
  {
   "cell_type": "code",
   "execution_count": null,
   "id": "9de65424",
   "metadata": {},
   "outputs": [
    {
     "data": {
      "text/plain": [
       "tensor([ 9., 36., 81.])"
      ]
     },
     "execution_count": 53,
     "metadata": {},
     "output_type": "execute_result"
    }
   ],
   "source": [
    "float_16_tensor * float_32_tensor"
   ]
  },
  {
   "cell_type": "code",
   "execution_count": null,
   "id": "ed8ea78d",
   "metadata": {},
   "outputs": [
    {
     "data": {
      "text/plain": [
       "tensor([3, 6, 9])"
      ]
     },
     "execution_count": 63,
     "metadata": {},
     "output_type": "execute_result"
    }
   ],
   "source": [
    "int_32_tensor = torch.tensor([3, 6, 9], dtype = torch.long) #long means int64\n",
    "int_32_tensor"
   ]
  },
  {
   "cell_type": "code",
   "execution_count": 64,
   "id": "06b2003d",
   "metadata": {},
   "outputs": [
    {
     "data": {
      "text/plain": [
       "tensor([ 9., 36., 81.])"
      ]
     },
     "execution_count": 64,
     "metadata": {},
     "output_type": "execute_result"
    }
   ],
   "source": [
    "float_32_tensor * int_32_tensor"
   ]
  },
  {
   "cell_type": "markdown",
   "id": "69eb6c07",
   "metadata": {},
   "source": [
    "**Getting Information from Tensors (Tensors attributes)**\n",
    "1. Tensors not right datatypes - to do get datatype from a tensor, can use tensor.dtype\n",
    "2. Tensors not right shape - to get shape from a tensor, can use tensor.shape\n",
    "3. Tensors not on the right device- to get device from a tensor, can use tensor.device"
   ]
  },
  {
   "cell_type": "code",
   "execution_count": 65,
   "id": "492d0451",
   "metadata": {},
   "outputs": [
    {
     "data": {
      "text/plain": [
       "tensor([[0.9911, 0.2969, 0.7358, 0.7270],\n",
       "        [0.7771, 0.3672, 0.6128, 0.9605],\n",
       "        [0.0455, 0.2575, 0.1600, 0.1793]])"
      ]
     },
     "execution_count": 65,
     "metadata": {},
     "output_type": "execute_result"
    }
   ],
   "source": [
    "##create a tensor\n",
    "some_tensor = torch.rand(3, 4)\n",
    "some_tensor"
   ]
  },
  {
   "cell_type": "code",
   "execution_count": 68,
   "id": "d3c9ea12",
   "metadata": {},
   "outputs": [
    {
     "data": {
      "text/plain": [
       "(torch.Size([3, 4]), torch.Size([3, 4]))"
      ]
     },
     "execution_count": 68,
     "metadata": {},
     "output_type": "execute_result"
    }
   ],
   "source": [
    "some_tensor.size (), some_tensor.shape"
   ]
  },
  {
   "cell_type": "code",
   "execution_count": 70,
   "id": "0d9c75bb",
   "metadata": {},
   "outputs": [
    {
     "name": "stdout",
     "output_type": "stream",
     "text": [
      "tensor([[0.9911, 0.2969, 0.7358, 0.7270],\n",
      "        [0.7771, 0.3672, 0.6128, 0.9605],\n",
      "        [0.0455, 0.2575, 0.1600, 0.1793]])\n",
      "Datatype of tensor: torch.float32\n",
      "Shape of tensor: torch.Size([3, 4])\n",
      "Device tensor is stored on: cpu\n"
     ]
    }
   ],
   "source": [
    "##find out the details about some tensor\n",
    "print(some_tensor)\n",
    "print(f\"Datatype of tensor: {some_tensor.dtype}\")\n",
    "print(f\"Shape of tensor: {some_tensor.shape}\")\n",
    "print(f\"Device tensor is stored on: {some_tensor.device}\")"
   ]
  }
 ],
 "metadata": {
  "kernelspec": {
   "display_name": ".venv",
   "language": "python",
   "name": "python3"
  },
  "language_info": {
   "codemirror_mode": {
    "name": "ipython",
    "version": 3
   },
   "file_extension": ".py",
   "mimetype": "text/x-python",
   "name": "python",
   "nbconvert_exporter": "python",
   "pygments_lexer": "ipython3",
   "version": "3.13.9"
  }
 },
 "nbformat": 4,
 "nbformat_minor": 5
}
