{
 "cells": [
  {
   "cell_type": "code",
   "execution_count": 1,
   "id": "734d1a75",
   "metadata": {},
   "outputs": [
    {
     "name": "stdout",
     "output_type": "stream",
     "text": [
      "2.8.0+cpu\n",
      "False\n"
     ]
    }
   ],
   "source": [
    "import torch\n",
    "print(torch.__version__)\n",
    "print(torch.cuda.is_available())  # True if PyTorch can use GPU\n"
   ]
  },
  {
   "cell_type": "markdown",
   "id": "1895fe79",
   "metadata": {},
   "source": [
    "**What is PyTorch?**\n",
    "- most popular research deep learning framework\n",
    "- write fast deep learning code in Python (able to run on a GPU/many GPUs) \n",
    "- Able to access many pre-built deep learning models (Torch Hub/ torchdivisions.models)\n",
    "- whole stack: preprocess data, model data, deploy model in your application/cloud\n",
    "- originally designed and used in-house by Facebook/Meta (now open-source and used by companies such as Tesla, Microsoft, OpenAI)"
   ]
  },
  {
   "cell_type": "markdown",
   "id": "06dc44c2",
   "metadata": {},
   "source": [
    "**Tensors (like NumPy arrays, but with GPU acceleration).**\n",
    "\n",
    "Example: Running physics simulations or mathematical optimization."
   ]
  },
  {
   "cell_type": "markdown",
   "id": "ab1830bb",
   "metadata": {},
   "source": [
    "Creating an empty Tensor"
   ]
  },
  {
   "cell_type": "code",
   "execution_count": 2,
   "id": "20172e21",
   "metadata": {},
   "outputs": [
    {
     "name": "stdout",
     "output_type": "stream",
     "text": [
      "tensor([[0., 0., 0.],\n",
      "        [0., 0., 0.]])\n"
     ]
    }
   ],
   "source": [
    "x = torch.empty(2, 3) # Creates a 2x3 matrix with uninitialized values\n",
    "print(x)"
   ]
  },
  {
   "cell_type": "code",
   "execution_count": 3,
   "id": "391e17c4",
   "metadata": {},
   "outputs": [
    {
     "name": "stdout",
     "output_type": "stream",
     "text": [
      "tensor([[0.9869, 0.8820, 0.8432],\n",
      "        [0.4471, 0.0795, 0.2123]])\n",
      "torch.float32\n",
      "torch.Size([2, 3])\n"
     ]
    }
   ],
   "source": [
    "x = torch.rand(2, 3, dtype=torch.float32) #float32 means 32-bit floating point \n",
    "print(x)\n",
    "print(x.dtype)\n",
    "print(x.size())  # "
   ]
  },
  {
   "cell_type": "code",
   "execution_count": 4,
   "id": "31b5f29b",
   "metadata": {},
   "outputs": [
    {
     "name": "stdout",
     "output_type": "stream",
     "text": [
      "tensor([[0.7523, 0.6466, 0.5609],\n",
      "        [0.9690, 0.6739, 0.4421]])\n",
      "tensor([[0.3866, 0.5990, 0.1351],\n",
      "        [0.3345, 0.6026, 0.7544]])\n",
      "tensor([[1.1389, 1.2456, 0.6960],\n",
      "        [1.3035, 1.2766, 1.1965]])\n",
      "tensor([[1.1389, 1.2456, 0.6960],\n",
      "        [1.3035, 1.2766, 1.1965]])\n"
     ]
    }
   ],
   "source": [
    "x = torch.rand(2, 3)\n",
    "y = torch.rand(2, 3)\n",
    "print(x)\n",
    "print(y)\n",
    "z = x + y\n",
    "z = torch.add(x, y)  # another way to add\n",
    "print(z)\n",
    "\n",
    "y.add_(x)  # in-place addition\n",
    "print(y)\n",
    "\n"
   ]
  },
  {
   "cell_type": "code",
   "execution_count": 5,
   "id": "2ddf5210",
   "metadata": {},
   "outputs": [
    {
     "name": "stdout",
     "output_type": "stream",
     "text": [
      "tensor([[0.0471, 0.0848, 0.9956],\n",
      "        [0.5741, 0.3407, 0.0629]])\n",
      "tensor([[0.8463, 0.0937, 0.5165],\n",
      "        [0.0227, 0.4629, 0.2041]])\n",
      "tensor([[-0.7992, -0.0089,  0.4790],\n",
      "        [ 0.5514, -0.1222, -0.1412]])\n"
     ]
    }
   ],
   "source": [
    "x = torch.rand(2, 3)\n",
    "y = torch.rand(2, 3)\n",
    "print(x)\n",
    "print(y)\n",
    "\n",
    "z = x - y\n",
    "z = torch.sub(x, y)  # another way to subtract\n",
    "print(z)"
   ]
  },
  {
   "cell_type": "code",
   "execution_count": 6,
   "id": "76b70d16",
   "metadata": {},
   "outputs": [
    {
     "name": "stdout",
     "output_type": "stream",
     "text": [
      "tensor([[0.8562, 0.1622, 0.8232],\n",
      "        [0.5972, 0.9564, 0.0378]])\n",
      "tensor([[0.1252, 0.1155, 0.2168],\n",
      "        [0.1858, 0.3170, 0.1645]])\n",
      "tensor([[0.1072, 0.0187, 0.1784],\n",
      "        [0.1110, 0.3032, 0.0062]])\n"
     ]
    }
   ],
   "source": [
    "x = torch.rand(2, 3)\n",
    "y = torch.rand(2, 3)\n",
    "print(x)\n",
    "print(y)\n",
    "\n",
    "z = x * y\n",
    "z = torch.mul(x, y)  # another way to multiply\n",
    "print(z)"
   ]
  },
  {
   "cell_type": "code",
   "execution_count": 7,
   "id": "5b4bca2d",
   "metadata": {},
   "outputs": [
    {
     "name": "stdout",
     "output_type": "stream",
     "text": [
      "tensor([[0.1332, 0.2586, 0.2858],\n",
      "        [0.4407, 0.1731, 0.9366]])\n",
      "tensor([[0.1412, 0.1626, 0.7261],\n",
      "        [0.5317, 0.7395, 0.7979]])\n",
      "tensor([[0.9434, 1.5901, 0.3937],\n",
      "        [0.8289, 0.2340, 1.1737]])\n"
     ]
    }
   ],
   "source": [
    "x = torch.rand(2, 3)\n",
    "y = torch.rand(2, 3)\n",
    "print(x)\n",
    "print(y)\n",
    "\n",
    "z = x * y\n",
    "z = torch.div(x, y)\n",
    "print(z)"
   ]
  },
  {
   "cell_type": "code",
   "execution_count": null,
   "id": "9967bf05",
   "metadata": {},
   "outputs": [
    {
     "name": "stdout",
     "output_type": "stream",
     "text": [
      "tensor([[0.2736, 0.7368, 0.6594],\n",
      "        [0.3983, 0.5495, 0.9184]])\n",
      "tensor([0.7368, 0.5495])\n",
      "tensor([0.3983, 0.5495, 0.9184])\n",
      "0.5494594573974609\n"
     ]
    }
   ],
   "source": [
    "x = torch.rand(2, 3)\n",
    "\n",
    "print(x)\n",
    "print(x[:, 1])  #all rows, column 1\n",
    "print(x[1, :])  #row 1, all columns\n",
    "print(x[1, 1].item())  #get the value as a standard Python number\n"
   ]
  },
  {
   "cell_type": "code",
   "execution_count": null,
   "id": "0373cab4",
   "metadata": {},
   "outputs": [],
   "source": []
  }
 ],
 "metadata": {
  "kernelspec": {
   "display_name": ".venv",
   "language": "python",
   "name": "python3"
  },
  "language_info": {
   "codemirror_mode": {
    "name": "ipython",
    "version": 3
   },
   "file_extension": ".py",
   "mimetype": "text/x-python",
   "name": "python",
   "nbconvert_exporter": "python",
   "pygments_lexer": "ipython3",
   "version": "3.13.7"
  }
 },
 "nbformat": 4,
 "nbformat_minor": 5
}
