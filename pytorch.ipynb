{
 "cells": [
  {
   "cell_type": "code",
   "execution_count": 11,
   "id": "734d1a75",
   "metadata": {},
   "outputs": [
    {
     "name": "stdout",
     "output_type": "stream",
     "text": [
      "2.8.0+cpu\n",
      "False\n"
     ]
    }
   ],
   "source": [
    "import torch\n",
    "print(torch.__version__)\n",
    "print(torch.cuda.is_available())  # True if PyTorch can use GPU\n"
   ]
  },
  {
   "cell_type": "markdown",
   "id": "06dc44c2",
   "metadata": {},
   "source": [
    "Tensors (like NumPy arrays, but with GPU acceleration).\n",
    "\n",
    "Example: Running physics simulations or mathematical optimization."
   ]
  },
  {
   "cell_type": "markdown",
   "id": "ab1830bb",
   "metadata": {},
   "source": [
    "Creating an empty Tensor"
   ]
  },
  {
   "cell_type": "code",
   "execution_count": 17,
   "id": "20172e21",
   "metadata": {},
   "outputs": [
    {
     "name": "stdout",
     "output_type": "stream",
     "text": [
      "tensor([[0., 0., 0.],\n",
      "        [0., 0., 0.]])\n"
     ]
    }
   ],
   "source": [
    "x = torch.empty(2, 3) # Creates a 2x3 matrix with uninitialized values\n",
    "print(x)"
   ]
  },
  {
   "cell_type": "code",
   "execution_count": 24,
   "id": "391e17c4",
   "metadata": {},
   "outputs": [
    {
     "name": "stdout",
     "output_type": "stream",
     "text": [
      "tensor([[0.1128, 0.6813, 0.7987],\n",
      "        [0.8011, 0.6627, 0.7073]])\n",
      "torch.float32\n",
      "torch.Size([2, 3])\n"
     ]
    }
   ],
   "source": [
    "x = torch.rand(2, 3, dtype=torch.float32) #float32 means 32-bit floating point \n",
    "print(x)\n",
    "print(x.dtype)\n",
    "print(x.size())  # "
   ]
  },
  {
   "cell_type": "code",
   "execution_count": 29,
   "id": "31b5f29b",
   "metadata": {},
   "outputs": [
    {
     "name": "stdout",
     "output_type": "stream",
     "text": [
      "tensor([[0.0567, 0.5290, 0.7510],\n",
      "        [0.3881, 0.1367, 0.1421]])\n",
      "tensor([[0.2775, 0.8939, 0.6649],\n",
      "        [0.8018, 0.7095, 0.9365]])\n",
      "tensor([[0.3342, 1.4230, 1.4159],\n",
      "        [1.1898, 0.8463, 1.0787]])\n",
      "tensor([[0.3342, 1.4230, 1.4159],\n",
      "        [1.1898, 0.8463, 1.0787]])\n"
     ]
    }
   ],
   "source": [
    "x = torch.rand(2, 3)\n",
    "y = torch.rand(2, 3)\n",
    "print(x)\n",
    "print(y)\n",
    "z = x + y\n",
    "z = torch.add(x, y)  # another way to add\n",
    "print(z)\n",
    "\n",
    "y.add_(x)  # in-place addition\n",
    "print(y)\n",
    "\n"
   ]
  },
  {
   "cell_type": "code",
   "execution_count": 31,
   "id": "2ddf5210",
   "metadata": {},
   "outputs": [
    {
     "name": "stdout",
     "output_type": "stream",
     "text": [
      "tensor([[0.6009, 0.5836, 0.2057],\n",
      "        [0.7135, 0.7679, 0.7264]])\n",
      "tensor([[0.5071, 0.5680, 0.3539],\n",
      "        [0.8802, 0.8063, 0.4964]])\n",
      "tensor([[ 0.0937,  0.0156, -0.1482],\n",
      "        [-0.1667, -0.0383,  0.2300]])\n"
     ]
    }
   ],
   "source": [
    "x = torch.rand(2, 3)\n",
    "y = torch.rand(2, 3)\n",
    "print(x)\n",
    "print(y)\n",
    "\n",
    "z = x - y\n",
    "z = torch.sub(x, y)  # another way to subtract\n",
    "print(z)"
   ]
  },
  {
   "cell_type": "code",
   "execution_count": 34,
   "id": "76b70d16",
   "metadata": {},
   "outputs": [
    {
     "name": "stdout",
     "output_type": "stream",
     "text": [
      "tensor([[0.3688, 0.5687, 0.7467],\n",
      "        [0.8782, 0.7238, 0.3538]])\n",
      "tensor([[0.9292, 0.2955, 0.1230],\n",
      "        [0.8448, 0.0522, 0.9622]])\n",
      "tensor([[0.3427, 0.1681, 0.0918],\n",
      "        [0.7419, 0.0378, 0.3404]])\n"
     ]
    }
   ],
   "source": [
    "x = torch.rand(2, 3)\n",
    "y = torch.rand(2, 3)\n",
    "print(x)\n",
    "print(y)\n",
    "\n",
    "z = x * y\n",
    "z = torch.mul(x, y)  # another way to multiply\n",
    "print(z)"
   ]
  },
  {
   "cell_type": "code",
   "execution_count": 35,
   "id": "5b4bca2d",
   "metadata": {},
   "outputs": [
    {
     "name": "stdout",
     "output_type": "stream",
     "text": [
      "tensor([[0.8528, 0.3256, 0.2454],\n",
      "        [0.9096, 0.4857, 0.7393]])\n",
      "tensor([[0.9189, 0.2365, 0.5246],\n",
      "        [0.7221, 0.4166, 0.3947]])\n",
      "tensor([[0.9281, 1.3763, 0.4679],\n",
      "        [1.2597, 1.1659, 1.8734]])\n"
     ]
    }
   ],
   "source": [
    "x = torch.rand(2, 3)\n",
    "y = torch.rand(2, 3)\n",
    "print(x)\n",
    "print(y)\n",
    "\n",
    "z = x * y\n",
    "z = torch.div(x, y)\n",
    "print(z)"
   ]
  },
  {
   "cell_type": "code",
   "execution_count": 38,
   "id": "9967bf05",
   "metadata": {},
   "outputs": [
    {
     "name": "stdout",
     "output_type": "stream",
     "text": [
      "tensor([[0.5962, 0.4470, 0.9666],\n",
      "        [0.4227, 0.6564, 0.9335]])\n",
      "tensor([0.4470, 0.6564])\n",
      "tensor([0.4227, 0.6564, 0.9335])\n",
      "0.6563655734062195\n"
     ]
    }
   ],
   "source": [
    "x = torch.rand(2, 3)\n",
    "\n",
    "print(x)\n",
    "print(x[:, 1])  # all rows, column 1\n",
    "print(x[1, :])  # row 1, all columns\n",
    "print(x[1, 1].item())  # get the value as a standard Python number\n"
   ]
  },
  {
   "cell_type": "code",
   "execution_count": null,
   "id": "0373cab4",
   "metadata": {},
   "outputs": [],
   "source": []
  }
 ],
 "metadata": {
  "kernelspec": {
   "display_name": ".venv",
   "language": "python",
   "name": "python3"
  },
  "language_info": {
   "codemirror_mode": {
    "name": "ipython",
    "version": 3
   },
   "file_extension": ".py",
   "mimetype": "text/x-python",
   "name": "python",
   "nbconvert_exporter": "python",
   "pygments_lexer": "ipython3",
   "version": "3.13.7"
  }
 },
 "nbformat": 4,
 "nbformat_minor": 5
}
