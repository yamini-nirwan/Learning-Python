{
 "cells": [
  {
   "cell_type": "markdown",
   "id": "02324a41",
   "metadata": {},
   "source": [
    "Type Bool and Comparisons\n",
    "#Bool"
   ]
  },
  {
   "cell_type": "code",
   "execution_count": 1,
   "id": "11a407b7",
   "metadata": {},
   "outputs": [
    {
     "name": "stdout",
     "output_type": "stream",
     "text": [
      "Variable   Type    Data/Info\n",
      "----------------------------\n",
      "a          bool    True\n",
      "b          bool    True\n",
      "c          bool    False\n"
     ]
    }
   ],
   "source": [
    "a = True\n",
    "b = True\n",
    "c = False\n",
    "%whos"
   ]
  },
  {
   "cell_type": "code",
   "execution_count": null,
   "id": "cbfd4ec6",
   "metadata": {},
   "outputs": [
    {
     "name": "stdout",
     "output_type": "stream",
     "text": [
      "True\n",
      "False\n",
      "False\n"
     ]
    }
   ],
   "source": [
    "print (a and b) #True and True is True #False and True is False\n",
    "print (a and c)\n",
    "print (c and a)\n"
   ]
  },
  {
   "cell_type": "code",
   "execution_count": null,
   "id": "05f9ba1b",
   "metadata": {},
   "outputs": [
    {
     "name": "stdout",
     "output_type": "stream",
     "text": [
      "True\n"
     ]
    }
   ],
   "source": [
    "d = a or c #if any of them is True, the result is True\n",
    "print(d)\n"
   ]
  },
  {
   "cell_type": "code",
   "execution_count": 34,
   "id": "b7b1717d",
   "metadata": {},
   "outputs": [
    {
     "data": {
      "text/plain": [
       "False"
      ]
     },
     "execution_count": 34,
     "metadata": {},
     "output_type": "execute_result"
    }
   ],
   "source": [
    "not(b)\n"
   ]
  },
  {
   "cell_type": "code",
   "execution_count": 36,
   "id": "e70296d3",
   "metadata": {},
   "outputs": [
    {
     "name": "stdout",
     "output_type": "stream",
     "text": [
      "<class 'bool'>\n",
      "True\n"
     ]
    }
   ],
   "source": [
    "c = 2<3\n",
    "print (type(c))\n",
    "print (c)"
   ]
  },
  {
   "cell_type": "code",
   "execution_count": 40,
   "id": "010ffabb",
   "metadata": {},
   "outputs": [
    {
     "name": "stdout",
     "output_type": "stream",
     "text": [
      "False\n"
     ]
    }
   ],
   "source": [
    "d = 3==4\n",
    "print(d) \n"
   ]
  },
  {
   "cell_type": "code",
   "execution_count": 41,
   "id": "579a4eaa",
   "metadata": {},
   "outputs": [
    {
     "data": {
      "text/plain": [
       "True"
      ]
     },
     "execution_count": 41,
     "metadata": {},
     "output_type": "execute_result"
    }
   ],
   "source": [
    "3==3.0"
   ]
  },
  {
   "cell_type": "code",
   "execution_count": null,
   "id": "822c0590",
   "metadata": {},
   "outputs": [
    {
     "name": "stdout",
     "output_type": "stream",
     "text": [
      "False\n"
     ]
    }
   ],
   "source": [
    "print ((not(2!=3) and True) or (False and True))\n",
    "#False and True is False\n",
    "#False or False is False"
   ]
  },
  {
   "cell_type": "code",
   "execution_count": null,
   "id": "57973f63",
   "metadata": {},
   "outputs": [
    {
     "name": "stdout",
     "output_type": "stream",
     "text": [
      "5\n",
      "4.557\n"
     ]
    }
   ],
   "source": [
    "#round() rounds the number to the nearest integer\n",
    "print (round(4.6))\n",
    "print (round (4.556789, 3))"
   ]
  },
  {
   "cell_type": "code",
   "execution_count": null,
   "id": "eeda43d3",
   "metadata": {},
   "outputs": [
    {
     "data": {
      "text/plain": [
       "(5, 2)"
      ]
     },
     "execution_count": 46,
     "metadata": {},
     "output_type": "execute_result"
    }
   ],
   "source": [
    "#divmod(x,y) gives the quotient and the remainder in a tuple\n",
    "divmod(27, 5)"
   ]
  },
  {
   "cell_type": "code",
   "execution_count": 57,
   "id": "b7c0f065",
   "metadata": {},
   "outputs": [
    {
     "data": {
      "text/plain": [
       "True"
      ]
     },
     "execution_count": 57,
     "metadata": {},
     "output_type": "execute_result"
    }
   ],
   "source": [
    "#isinstance() returns TRue, if the first argument is an instance of the second argument in a tuple\n",
    "isinstance(3, int)\n"
   ]
  },
  {
   "cell_type": "code",
   "execution_count": 58,
   "id": "ded64630",
   "metadata": {},
   "outputs": [
    {
     "name": "stdout",
     "output_type": "stream",
     "text": [
      "True\n",
      "False\n",
      "True\n"
     ]
    }
   ],
   "source": [
    "print(isinstance(1.0, (int,float))) #checking if 1.0 is an instance of int or float\n",
    "print(isinstance(2+3j, (int,float,str))) #checking if 2+3j is an instance of int, float or str\n",
    "print(isinstance(2+3j, (int,float,str, complex)))"
   ]
  },
  {
   "cell_type": "code",
   "execution_count": null,
   "id": "fc1cf286",
   "metadata": {},
   "outputs": [
    {
     "data": {
      "text/plain": [
       "8"
      ]
     },
     "execution_count": 59,
     "metadata": {},
     "output_type": "execute_result"
    }
   ],
   "source": [
    "#pow(x,y) raises x to the power of y\n",
    "pow (2,3)\n"
   ]
  },
  {
   "cell_type": "code",
   "execution_count": 4,
   "id": "2a4c729a",
   "metadata": {},
   "outputs": [
    {
     "name": "stdout",
     "output_type": "stream",
     "text": [
      "<class 'int'>\n"
     ]
    }
   ],
   "source": [
    "#input() a = input(\"Enter something\")\n",
    "x = input(\"Enter a number: \")\n",
    "type(x)\n",
    "x = int(x) \n",
    "print (type(x)) # Convert input to integer"
   ]
  },
  {
   "cell_type": "code",
   "execution_count": 5,
   "id": "c79384d6",
   "metadata": {},
   "outputs": [
    {
     "name": "stdout",
     "output_type": "stream",
     "text": [
      "I am outside the if condition\n"
     ]
    }
   ],
   "source": [
    "a = int (input())\n",
    "b = int (input())\n",
    "if a>b:\n",
    "    print(a)\n",
    "print(\"I am outside the if condition\")    "
   ]
  },
  {
   "cell_type": "code",
   "execution_count": 8,
   "id": "aee13fa3",
   "metadata": {},
   "outputs": [
    {
     "name": "stdout",
     "output_type": "stream",
     "text": [
      "Greater\n"
     ]
    }
   ],
   "source": [
    "a = 40\n",
    "b = 20\n",
    "if a==b:\n",
    "    x = \"Equal\"\n",
    "elif a>b:\n",
    "    x = \"Greater\"\n",
    "else:\n",
    "    x = \"Smaller\" \n",
    "print(x)        "
   ]
  },
  {
   "cell_type": "code",
   "execution_count": 10,
   "id": "dbb3de5a",
   "metadata": {},
   "outputs": [
    {
     "name": "stdout",
     "output_type": "stream",
     "text": [
      ">10\n",
      "zero\n",
      "<-10\n",
      ">10\n",
      ">10\n",
      "<-10\n"
     ]
    }
   ],
   "source": [
    "#Nestedif\n",
    "L1= [10, 12, 0, -30, 40, 80, -45]\n",
    "for x in L1:\n",
    "    if x > 0:\n",
    "        if x > 10:\n",
    "            print(\">10\")\n",
    "    elif x < 0:\n",
    "        if x < -10:\n",
    "            print(\"<-10\")    \n",
    "    else:\n",
    "        print(\"zero\")          "
   ]
  },
  {
   "cell_type": "code",
   "execution_count": 24,
   "id": "8880c231",
   "metadata": {},
   "outputs": [
    {
     "name": "stdout",
     "output_type": "stream",
     "text": [
      "10\n",
      "Even\n",
      "12\n",
      "Even\n",
      "0\n",
      "Even\n",
      "-30\n",
      "Even\n",
      "40\n",
      "Even\n",
      "80\n",
      "Even\n",
      "-45\n",
      "Odd\n"
     ]
    }
   ],
   "source": [
    "\"\"\"\n",
    "Multiline comment can be written like this\n",
    "\"\"\"\n",
    "L1= [10, 12, 0, -30, 40, 80, -45]\n",
    "for x in L1:\n",
    "    y = round (x)\n",
    "    if x > 0:\n",
    "        if y>x:\n",
    "            intPortion = y - 1 #to return the integer value before the decimal point before it was rounded\n",
    "        else:\n",
    "            intPortion = y\n",
    "    else:\n",
    "        if x>y:\n",
    "            intPortion = y + 1 #to return the integer value before the decimal point before it was rounded\n",
    "        else:\n",
    "            intPortion = y\n",
    "    print(intPortion)        \n",
    "    #to check even or odd\n",
    "    if intPortion % 2 == 0:\n",
    "        print(\"Even\")\n",
    "    else:\n",
    "        print(\"Odd\")\n"
   ]
  },
  {
   "cell_type": "code",
   "execution_count": 30,
   "id": "1dfcc71d",
   "metadata": {},
   "outputs": [
    {
     "name": "stdout",
     "output_type": "stream",
     "text": [
      "1 1\n",
      "2 4\n",
      "3 9\n",
      "4 16\n",
      "5 25\n",
      "6 36\n",
      "7 49\n",
      "LoopDone\n"
     ]
    }
   ],
   "source": [
    "#to print values from 1 to n and their squares\n",
    "n = 8\n",
    "i = 1\n",
    "while i < n:\n",
    "    print (i,i**2)\n",
    "    i +=1 #i=i+1\n",
    "print (\"LoopDone\")\n",
    "\n"
   ]
  },
  {
   "cell_type": "code",
   "execution_count": 20,
   "id": "6c094abb",
   "metadata": {},
   "outputs": [
    {
     "name": "stdout",
     "output_type": "stream",
     "text": [
      "divisible by 9\n",
      "Done\n"
     ]
    },
    {
     "data": {
      "text/plain": [
       "'\\nwhile <condition>: runs the loop as long as the condition is True. When the condition becomes False, the loop stops.\\nwhile True: creates an infinite loop that runs forever unless you use a break statement inside the loop to exit.\\n'"
      ]
     },
     "execution_count": 20,
     "metadata": {},
     "output_type": "execute_result"
    }
   ],
   "source": [
    "#to print even values\n",
    "n = 10\n",
    "i = 1\n",
    "while True:\n",
    "    if i%9 == 0:\n",
    "        print (\"divisible by 9\")\n",
    "        break #exits the loop prints  \"Done\"\n",
    "    else:\n",
    "        pass #does nothing, just continues the loop\n",
    "        \n",
    "    i +=1\n",
    "print (\"Done\")\n",
    "\"\"\"\n",
    "while <condition>: runs the loop as long as the condition is True. When the condition becomes False, the loop stops.\n",
    "while True: creates an infinite loop that runs forever unless you use a break statement inside the loop to exit.\n",
    "\"\"\""
   ]
  },
  {
   "cell_type": "code",
   "execution_count": 26,
   "id": "f32b9b13",
   "metadata": {},
   "outputs": [
    {
     "name": "stdout",
     "output_type": "stream",
     "text": [
      "inside loop\n",
      "inside loop\n",
      "inside loop\n",
      "inside loop\n",
      "inside loop\n",
      "inside loop\n",
      "inside loop\n",
      "inside loop\n",
      "something\n",
      "Done\n"
     ]
    }
   ],
   "source": [
    "n = 10\n",
    "i = 1\n",
    "while True:\n",
    "    if i%9 != 0:\n",
    "        print (\"inside loop\")\n",
    "        i += 1\n",
    "        continue  # Skips the rest of the loop and goes to the next iteration\n",
    "    print (\"something\")\n",
    "    break\n",
    "print (\"Done\") \n"
   ]
  },
  {
   "cell_type": "markdown",
   "id": "065d3d22",
   "metadata": {},
   "source": [
    "Range Function"
   ]
  },
  {
   "cell_type": "code",
   "execution_count": 17,
   "id": "4a9ad773",
   "metadata": {},
   "outputs": [
    {
     "name": "stdout",
     "output_type": "stream",
     "text": [
      "1\n",
      "2\n",
      "3\n",
      "4\n",
      "5\n",
      "6\n",
      "7\n",
      "8\n",
      "9\n",
      "10\n",
      "11\n",
      "12\n",
      "13\n",
      "14\n",
      "15\n",
      "[0, 1, 4, 9, 16, 25, 36, 49, 64, 81, 100, 121, 144, 169, 196]\n"
     ]
    }
   ],
   "source": [
    "L = []\n",
    "for i in range(15): #range() defines a sequence of numbers from 0 to the specified number ()\n",
    "    print(i+1)\n",
    "    L.append(i**2)\n",
    "print(L)"
   ]
  },
  {
   "cell_type": "code",
   "execution_count": 15,
   "id": "04d17efc",
   "metadata": {},
   "outputs": [
    {
     "name": "stdout",
     "output_type": "stream",
     "text": [
      "0\n",
      "2\n",
      "4\n",
      "6\n",
      "8\n",
      "[0, 4, 16, 36, 64]\n"
     ]
    }
   ],
   "source": [
    "L = []\n",
    "for i in range(0,10,2): #range(a, b, c) defines a sequence from a to b jumping by c e.g. 0 then 2 then 4 etc.\n",
    "    print(i)\n",
    "    L.append(i**2)\n",
    "print(L)"
   ]
  },
  {
   "cell_type": "markdown",
   "id": "7f689026",
   "metadata": {},
   "source": [
    "Else in for Loops"
   ]
  },
  {
   "cell_type": "code",
   "execution_count": 19,
   "id": "45475fec",
   "metadata": {},
   "outputs": [
    {
     "name": "stdout",
     "output_type": "stream",
     "text": [
      "apple\n",
      "4.9\n",
      "cherry\n",
      "Loop terminates with success\n"
     ]
    }
   ],
   "source": [
    "S = {\"apple\", 4.9, \"cherry\"} #set is similar to a list but defined by a curly brace {}\n",
    "for x in S:\n",
    "    print(x)\n",
    "else:\n",
    "    print(\"Loop terminates with success\")\n",
    "    #else will always run, unless \"break\" is used in the for loop"
   ]
  },
  {
   "cell_type": "code",
   "execution_count": null,
   "id": "329d0ecc",
   "metadata": {},
   "outputs": [
    {
     "name": "stdout",
     "output_type": "stream",
     "text": [
      "apple\n",
      "4.9\n",
      "cherry\n"
     ]
    }
   ],
   "source": [
    "S = {\"apple\", 4.9, \"cherry\"}\n",
    "i=1\n",
    "for x in S:\n",
    "    print(x)\n",
    "    i+=1\n",
    "    if i==4:\n",
    "        break\n",
    "    else:\n",
    "        pass\n",
    "else:\n",
    "    print(\"Loop terminates with success\") #else is not necessary, can avoid in the beginning"
   ]
  },
  {
   "cell_type": "code",
   "execution_count": null,
   "id": "f8b95042",
   "metadata": {},
   "outputs": [
    {
     "name": "stdout",
     "output_type": "stream",
     "text": [
      "A 10\n",
      "B -19\n",
      "C abc\n"
     ]
    }
   ],
   "source": [
    "#D[x] means D is a key and x is the value associated with that key in a dictionary\n",
    "D={\"A\":10, \"B\":-19,\"C\":\"abc\"} #key and values can be defined by semicolons e.g. here 10 is the value for key A\n",
    "for x in D:\n",
    "    print(x, D[x])\n"
   ]
  },
  {
   "cell_type": "code",
   "execution_count": null,
   "id": "f2353bd5",
   "metadata": {},
   "outputs": [
    {
     "name": "stdout",
     "output_type": "stream",
     "text": [
      "-5\n"
     ]
    }
   ],
   "source": [
    "#Find the  minimum value in a list\n",
    "L = [1,2,4,-5,7,9,3,2]\n",
    "m=L[0]\n",
    "for i in L:\n",
    "    if i<m:\n",
    "        m=i\n",
    "print(m)"
   ]
  },
  {
   "cell_type": "code",
   "execution_count": null,
   "id": "8d7fe2e2",
   "metadata": {},
   "outputs": [
    {
     "name": "stdout",
     "output_type": "stream",
     "text": [
      "[-5, 1, 2, 2, 3, 4, 7, 9]\n"
     ]
    }
   ],
   "source": [
    "#sorting the list from min to max\n",
    "L = [1,2,4,-5,7,9,3,2]\n",
    "for j in range (len(L)):\n",
    "    m=L[j]\n",
    "    idx = j\n",
    "    c=j\n",
    "    for i in range(j, len(L)):\n",
    "        if L[i]<m: \n",
    "            m=L[i] \n",
    "            idx = c\n",
    "        c += 1\n",
    "    tmp = L[j]\n",
    "    L[j] = m #swap the first element with the minimum value\n",
    "    L[idx] = tmp #swap the minimum value with the first element\n",
    "print(L)"
   ]
  },
  {
   "cell_type": "markdown",
   "id": "4b41862e",
   "metadata": {},
   "source": [
    "Functions\n",
    "defining the function \n",
    " def printSuccess()"
   ]
  },
  {
   "cell_type": "code",
   "execution_count": 12,
   "id": "ae0b8273",
   "metadata": {},
   "outputs": [],
   "source": [
    "def printSuccess(): \n",
    "    \"\"\"This function is just printing a message\n",
    "    \"\"\"\n",
    "    print(\"I am done\")\n",
    "    print(\"send me another task\")\n"
   ]
  },
  {
   "cell_type": "code",
   "execution_count": null,
   "id": "7451d7f0",
   "metadata": {},
   "outputs": [
    {
     "name": "stdout",
     "output_type": "stream",
     "text": [
      "I am done\n",
      "send me another task\n"
     ]
    }
   ],
   "source": [
    "printSuccess()"
   ]
  },
  {
   "cell_type": "code",
   "execution_count": 13,
   "id": "c10b2a2c",
   "metadata": {},
   "outputs": [
    {
     "name": "stdout",
     "output_type": "stream",
     "text": [
      "Help on function printSuccess in module __main__:\n",
      "\n",
      "printSuccess()\n",
      "    This function is just printing a message\n",
      "\n"
     ]
    }
   ],
   "source": [
    "help(printSuccess)"
   ]
  },
  {
   "cell_type": "code",
   "execution_count": 2,
   "id": "5843d331",
   "metadata": {},
   "outputs": [],
   "source": [
    "def Message(msg): #msg is just a variable\n",
    "    \"\"\"\n",
    "    This function prints the message supplied by the user \n",
    "    or prints that msg is not in the form of string\n",
    "    \"\"\"\n",
    "    if isinstance(msg,str):\n",
    "        print(msg) \n",
    "    else:\n",
    "        print(\"Your input argument is not a string\")\n",
    "        print(\"Supplied type:\", type(msg))\n"
   ]
  },
  {
   "cell_type": "code",
   "execution_count": 3,
   "id": "1d04ac02",
   "metadata": {},
   "outputs": [
    {
     "name": "stdout",
     "output_type": "stream",
     "text": [
      "Help on function Message in module __main__:\n",
      "\n",
      "Message(msg)\n",
      "    This function prints the message supplied by the user\n",
      "    or prints that msg is not in the form of string\n",
      "\n"
     ]
    }
   ],
   "source": [
    "help(Message)"
   ]
  },
  {
   "cell_type": "code",
   "execution_count": null,
   "id": "f8a6dc89",
   "metadata": {},
   "outputs": [],
   "source": []
  },
  {
   "cell_type": "code",
   "execution_count": 6,
   "id": "93519de9",
   "metadata": {},
   "outputs": [
    {
     "name": "stdout",
     "output_type": "stream",
     "text": [
      "Your input argument is not a string\n",
      "Supplied type: <class 'int'>\n"
     ]
    }
   ],
   "source": [
    "Message(56)"
   ]
  },
  {
   "cell_type": "code",
   "execution_count": 11,
   "id": "7b07a8d7",
   "metadata": {},
   "outputs": [],
   "source": [
    "def mypow(a,b):\n",
    "    \"\"\"This function raises a to the power of b\"\"\" \n",
    "    c = a**b\n",
    "    print(c)"
   ]
  },
  {
   "cell_type": "code",
   "execution_count": 12,
   "id": "fc4a2e98",
   "metadata": {},
   "outputs": [
    {
     "name": "stdout",
     "output_type": "stream",
     "text": [
      "25\n"
     ]
    }
   ],
   "source": [
    "mypow(5,2)"
   ]
  },
  {
   "cell_type": "code",
   "execution_count": 7,
   "id": "f3da0776",
   "metadata": {},
   "outputs": [],
   "source": [
    "def checktype(a,b,c):\n",
    "    if isinstance(a, (int,float)) and isinstance(b, (int,float)) and isinstance(c, (int,float)):\n",
    "        print((a+b+c)**2)\n",
    "    else:\n",
    "        print(\"Error: the input type is not the expected type\")"
   ]
  },
  {
   "cell_type": "code",
   "execution_count": null,
   "id": "5aa6d139",
   "metadata": {},
   "outputs": [
    {
     "name": "stdout",
     "output_type": "stream",
     "text": [
      "36\n"
     ]
    }
   ],
   "source": [
    "checktype(1,2,3) #only 3 integer or float values are expected, less than 2 or more than 3 will not work"
   ]
  },
  {
   "cell_type": "code",
   "execution_count": 9,
   "id": "08708361",
   "metadata": {},
   "outputs": [
    {
     "name": "stdout",
     "output_type": "stream",
     "text": [
      "Error: the input type is not the expected type\n"
     ]
    }
   ],
   "source": [
    "checktype(1,2,\"k\")"
   ]
  },
  {
   "cell_type": "code",
   "execution_count": 13,
   "id": "8e20282c",
   "metadata": {},
   "outputs": [],
   "source": [
    "def f(a,b,c):\n",
    "    print(\"A is :\", a)\n",
    "    print(\"B is :\", b)\n",
    "    print(\"C is :\", c)"
   ]
  },
  {
   "cell_type": "code",
   "execution_count": 14,
   "id": "e56cd8f4",
   "metadata": {},
   "outputs": [
    {
     "name": "stdout",
     "output_type": "stream",
     "text": [
      "A is : 3\n",
      "B is : game\n",
      "C is : 2\n"
     ]
    }
   ],
   "source": [
    "f(3, \"game\", 2)"
   ]
  },
  {
   "cell_type": "code",
   "execution_count": 21,
   "id": "83294fd4",
   "metadata": {},
   "outputs": [
    {
     "name": "stdout",
     "output_type": "stream",
     "text": [
      "A is : 3\n",
      "B is : game\n",
      "C is : 2\n"
     ]
    }
   ],
   "source": [
    "f(c=2, b=\"game\", a=3)\n"
   ]
  },
  {
   "cell_type": "markdown",
   "id": "599337cc",
   "metadata": {},
   "source": [
    "Functions(variables inside)"
   ]
  },
  {
   "cell_type": "code",
   "execution_count": 28,
   "id": "d5ac689b",
   "metadata": {},
   "outputs": [],
   "source": [
    "def add(x,y):\n",
    "    c=x+y\n",
    "    return c"
   ]
  },
  {
   "cell_type": "code",
   "execution_count": 29,
   "id": "ef43eaee",
   "metadata": {},
   "outputs": [
    {
     "data": {
      "text/plain": [
       "12"
      ]
     },
     "execution_count": 29,
     "metadata": {},
     "output_type": "execute_result"
    }
   ],
   "source": [
    "add(5,7)"
   ]
  },
  {
   "cell_type": "code",
   "execution_count": 48,
   "id": "7b613676",
   "metadata": {},
   "outputs": [],
   "source": [
    "def g():\n",
    "    variablesOutsidetheFunction = 5\n",
    "    return variablesOutsidetheFunction\n",
    "#print(variablesOutsidetheFunction)"
   ]
  },
  {
   "cell_type": "code",
   "execution_count": 49,
   "id": "355e4045",
   "metadata": {},
   "outputs": [
    {
     "name": "stdout",
     "output_type": "stream",
     "text": [
      "5\n"
     ]
    }
   ],
   "source": [
    "print(g())"
   ]
  },
  {
   "cell_type": "code",
   "execution_count": 59,
   "id": "07af5177",
   "metadata": {},
   "outputs": [
    {
     "name": "stdout",
     "output_type": "stream",
     "text": [
      "<class 'NoneType'>\n"
     ]
    }
   ],
   "source": [
    "print(type(g())) \n",
    "#type of the function means the type of the return value of the function\n"
   ]
  },
  {
   "cell_type": "code",
   "execution_count": 54,
   "id": "4ea52e8c",
   "metadata": {},
   "outputs": [],
   "source": [
    "def g():\n",
    "    variablesOutsidetheFunction = 5"
   ]
  },
  {
   "cell_type": "code",
   "execution_count": 60,
   "id": "d07128db",
   "metadata": {},
   "outputs": [
    {
     "name": "stdout",
     "output_type": "stream",
     "text": [
      "None\n",
      "<class 'NoneType'>\n"
     ]
    }
   ],
   "source": [
    "print(g())   #if there is no return statement the output will be None and the type will be NoneType\n",
    "print(type(g()))"
   ]
  },
  {
   "cell_type": "code",
   "execution_count": null,
   "id": "53d33b56",
   "metadata": {},
   "outputs": [],
   "source": [
    "def g():\n",
    "    variablesOutsidetheFunction = 5\n",
    "    return "
   ]
  },
  {
   "cell_type": "code",
   "execution_count": 62,
   "id": "d5fda3a4",
   "metadata": {},
   "outputs": [
    {
     "name": "stdout",
     "output_type": "stream",
     "text": [
      "None\n"
     ]
    }
   ],
   "source": [
    "print (g()) #if there is just a return statement without anything to be returned, the output will be None"
   ]
  },
  {
   "cell_type": "code",
   "execution_count": 42,
   "id": "be85b4b3",
   "metadata": {},
   "outputs": [],
   "source": [
    "def h():\n",
    "    print(\"A\")\n",
    "    a=3\n",
    "    b=5\n",
    "    c=a+b\n",
    "    print(\"something\")\n",
    "    return c #exits the function right away just like a break statement in the loop\n",
    "    print(\"B\")\n",
    "    print(\"C\")"
   ]
  },
  {
   "cell_type": "code",
   "execution_count": 65,
   "id": "fc337a62",
   "metadata": {},
   "outputs": [
    {
     "name": "stdout",
     "output_type": "stream",
     "text": [
      "A\n",
      "something\n",
      "<class 'int'>\n"
     ]
    }
   ],
   "source": [
    "print(type(h())) \n",
    "#print(type(h())) prints both the output from inside the function and the type of the returned value. "
   ]
  },
  {
   "cell_type": "code",
   "execution_count": null,
   "id": "59c0d45f",
   "metadata": {},
   "outputs": [
    {
     "data": {
      "text/plain": [
       "(5, 7, 'something')"
      ]
     },
     "execution_count": 71,
     "metadata": {},
     "output_type": "execute_result"
    }
   ],
   "source": [
    "def r():\n",
    "    a=5\n",
    "    b=7\n",
    "    d=\"something\"\n",
    "    return a,b,d"
   ]
  },
  {
   "cell_type": "code",
   "execution_count": 73,
   "id": "5a2a7369",
   "metadata": {},
   "outputs": [
    {
     "data": {
      "text/plain": [
       "(5, 7, 'something')"
      ]
     },
     "execution_count": 73,
     "metadata": {},
     "output_type": "execute_result"
    }
   ],
   "source": [
    "r()"
   ]
  },
  {
   "cell_type": "code",
   "execution_count": 72,
   "id": "b8518832",
   "metadata": {},
   "outputs": [
    {
     "name": "stdout",
     "output_type": "stream",
     "text": [
      "5 7 something\n"
     ]
    }
   ],
   "source": [
    "x,y,z = r()\n",
    "print(x,y,z)"
   ]
  },
  {
   "cell_type": "markdown",
   "id": "c63b022b",
   "metadata": {},
   "source": [
    "Functions(variable number of input arguments)\n",
    " def function(*arg)"
   ]
  },
  {
   "cell_type": "code",
   "execution_count": 93,
   "id": "04017a63",
   "metadata": {},
   "outputs": [],
   "source": [
    "def Adduniversal(*args):  #*args allows to pass a variable number of arguments to the function like a list\n",
    "    #each element in args is indexed to 0,1.... e.g. args[0], args[1]\n",
    "    s=0\n",
    "    for i in range(len(args)):\n",
    "        s+=args[i] #s = s + args[i]\n",
    "    return s"
   ]
  },
  {
   "cell_type": "markdown",
   "id": "1008870a",
   "metadata": {},
   "source": [
    "range(len(args)) is used to generate a sequence of indices for the args tuple.\n",
    "\n",
    "Detailed explanation:\n",
    "\n",
    "args is a tuple containing all the arguments passed to the function.\n",
    "len(args) gives the number of arguments.\n",
    "range(len(args)) creates a sequence of numbers starting from 0 up to (but not including) len(args).\n",
    "For example, if args = (1, 2, 3), then len(args) is 3, and range(3) produces 0, 1, 2.\n",
    "What do we use it for?\n",
    "\n",
    "We use range(len(args)) when we want to loop over the indices of args, so we can access each element by its index (args[i]).\n",
    "This is useful if you need the index for some reason (for example, if you want to know the position of each argument)."
   ]
  },
  {
   "cell_type": "code",
   "execution_count": 94,
   "id": "13f3199d",
   "metadata": {},
   "outputs": [
    {
     "name": "stdout",
     "output_type": "stream",
     "text": [
      "15\n"
     ]
    }
   ],
   "source": [
    "print(Adduniversal(1,2,3,4,5)) "
   ]
  },
  {
   "cell_type": "code",
   "execution_count": 115,
   "id": "f184cd51",
   "metadata": {},
   "outputs": [],
   "source": [
    "#Another way of writing the above code\n",
    "def Addvalues(*args):\n",
    "    s = 0\n",
    "    for value in args:\n",
    "        s += value\n",
    "    return s"
   ]
  },
  {
   "cell_type": "code",
   "execution_count": 116,
   "id": "e584a77e",
   "metadata": {},
   "outputs": [
    {
     "name": "stdout",
     "output_type": "stream",
     "text": [
      "9\n"
     ]
    }
   ],
   "source": [
    "print(Addvalues(6,1,2))"
   ]
  },
  {
   "cell_type": "code",
   "execution_count": 84,
   "id": "12f048f7",
   "metadata": {},
   "outputs": [],
   "source": [
    "def VarsandValues(**args):  #**args conatins list of all key-value pairs\n",
    "    for x in args:\n",
    "        print(\"Variable Name is:\", x, \"Value is:\", args[x])"
   ]
  },
  {
   "cell_type": "code",
   "execution_count": 81,
   "id": "1293f4a3",
   "metadata": {},
   "outputs": [
    {
     "name": "stdout",
     "output_type": "stream",
     "text": [
      "Variable Name is: a Value is: 1\n",
      "Variable Name is: b Value is: 2\n",
      "Variable Name is: c Value is: 3\n",
      "Variable Name is: d Value is: 4\n",
      "Variable Name is: e Value is: 5\n"
     ]
    }
   ],
   "source": [
    "VarsandValues(a=1, b=2, c=3, d=4, e=5)  #passing key-value pairs to the function"
   ]
  },
  {
   "cell_type": "markdown",
   "id": "4c20ea76",
   "metadata": {},
   "source": [
    "Function(Defalut Values)\n",
    "def f(sum=0):\n",
    "    print (sum)"
   ]
  },
  {
   "cell_type": "code",
   "execution_count": 104,
   "id": "eaa900b1",
   "metadata": {},
   "outputs": [],
   "source": [
    "def gg(s=0): #default value of s is assigned 0\n",
    "    print(s)"
   ]
  },
  {
   "cell_type": "code",
   "execution_count": 106,
   "id": "4e9bb68b",
   "metadata": {},
   "outputs": [
    {
     "name": "stdout",
     "output_type": "stream",
     "text": [
      "0\n",
      "56\n"
     ]
    }
   ],
   "source": [
    "gg()\n",
    "gg(56)"
   ]
  },
  {
   "cell_type": "code",
   "execution_count": 108,
   "id": "da11761f",
   "metadata": {},
   "outputs": [
    {
     "name": "stdout",
     "output_type": "stream",
     "text": [
      "[-9, 2, 3]\n"
     ]
    }
   ],
   "source": [
    "L= [1,2,3]\n",
    "L2= L\n",
    "L2[0]= -9\n",
    "print(L)\n"
   ]
  },
  {
   "cell_type": "code",
   "execution_count": 110,
   "id": "0e6cb430",
   "metadata": {},
   "outputs": [],
   "source": [
    "def ff(L=[1,2]):\n",
    "    for i in L:\n",
    "        print(i)"
   ]
  },
  {
   "cell_type": "code",
   "execution_count": null,
   "id": "879b611d",
   "metadata": {},
   "outputs": [
    {
     "name": "stdout",
     "output_type": "stream",
     "text": [
      "1\n",
      "2\n"
     ]
    }
   ],
   "source": [
    "L2=[12,3,4]\n",
    "ff() #default values will be printed"
   ]
  },
  {
   "cell_type": "code",
   "execution_count": null,
   "id": "df36de8a",
   "metadata": {},
   "outputs": [
    {
     "name": "stdout",
     "output_type": "stream",
     "text": [
      "12\n",
      "3\n",
      "4\n"
     ]
    }
   ],
   "source": [
    "ff(L2) "
   ]
  },
  {
   "cell_type": "markdown",
   "id": "43055b72",
   "metadata": {},
   "source": [
    "Modules \n",
    "\n",
    "Modules in Python are files containing Python code (functions, variables, classes, etc.) that you can import and use in your own programs.\n",
    "They help organize code into separate files for better structure and reusability.\n",
    "\n",
    "How to use modules:\n",
    "\n",
    "You can import built-in modules (like math, os, random) or your own custom modules.\n",
    "\n",
    "import sys\n",
    "sys.path.append('D:/mymodules/')\n",
    "import myfuncs as f\n",
    "f.printMe('hellow')\n",
    "\n"
   ]
  },
  {
   "cell_type": "code",
   "execution_count": 163,
   "id": "e53791f7",
   "metadata": {},
   "outputs": [],
   "source": [
    "import sys\n",
    "sys.path.append('D:/Pyfiles')\n",
    "\n"
   ]
  },
  {
   "cell_type": "code",
   "execution_count": 140,
   "id": "8613fb7f",
   "metadata": {},
   "outputs": [],
   "source": [
    "import Universal_functions as myfs #the name of the files was lengthy so it's renamed as myfs"
   ]
  },
  {
   "cell_type": "code",
   "execution_count": 156,
   "id": "a905a7b9",
   "metadata": {},
   "outputs": [],
   "source": [
    "#Use the functions stored in the file \"myfs\"\n"
   ]
  },
  {
   "cell_type": "code",
   "execution_count": 150,
   "id": "aac11029",
   "metadata": {},
   "outputs": [
    {
     "name": "stdout",
     "output_type": "stream",
     "text": [
      "15\n"
     ]
    }
   ],
   "source": [
    "#Implementing the function and assigning to a new variable\n",
    "c = myfs.addAllNumerics(2,3,4,6)\n",
    "print(c)"
   ]
  },
  {
   "cell_type": "code",
   "execution_count": null,
   "id": "f49f8fbb",
   "metadata": {},
   "outputs": [],
   "source": [
    "#if I need just one function from that file, I can call the function\n",
    "from Universal_functions import addAllNumerics"
   ]
  },
  {
   "cell_type": "code",
   "execution_count": 153,
   "id": "e5a0c252",
   "metadata": {},
   "outputs": [
    {
     "name": "stdout",
     "output_type": "stream",
     "text": [
      "17\n"
     ]
    }
   ],
   "source": [
    "d = addAllNumerics(2,6,9)\n",
    "print(d)"
   ]
  },
  {
   "cell_type": "code",
   "execution_count": 155,
   "id": "7769d7e6",
   "metadata": {},
   "outputs": [
    {
     "data": {
      "text/plain": [
       "'Python'"
      ]
     },
     "execution_count": 155,
     "metadata": {},
     "output_type": "execute_result"
    }
   ],
   "source": [
    "myfs.MyName #Calling the variables"
   ]
  },
  {
   "cell_type": "code",
   "execution_count": null,
   "id": "84dcfde5",
   "metadata": {},
   "outputs": [],
   "source": []
  }
 ],
 "metadata": {
  "kernelspec": {
   "display_name": ".venv",
   "language": "python",
   "name": "python3"
  },
  "language_info": {
   "codemirror_mode": {
    "name": "ipython",
    "version": 3
   },
   "file_extension": ".py",
   "mimetype": "text/x-python",
   "name": "python",
   "nbconvert_exporter": "python",
   "pygments_lexer": "ipython3",
   "version": "3.13.0"
  }
 },
 "nbformat": 4,
 "nbformat_minor": 5
}
