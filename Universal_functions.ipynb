{
 "cells": [
  {
   "cell_type": "code",
   "execution_count": 2,
   "id": "359b3f26",
   "metadata": {},
   "outputs": [],
   "source": [
    "def checkNonNumeric(*args):\n",
    "    retValue=True\n",
    "    for x in args:\n",
    "        if not (isinstance(x,(int,float))):\n",
    "            return False\n",
    "    return True\n",
    "\n",
    "def addAllNumerics(*args):\n",
    "    s=0\n",
    "    for x in args:\n",
    "        s+=x\n",
    "    return s\n",
    "\n",
    "MyName= \"Python\"\n"
   ]
  }
 ],
 "metadata": {
  "kernelspec": {
   "display_name": ".venv",
   "language": "python",
   "name": "python3"
  },
  "language_info": {
   "codemirror_mode": {
    "name": "ipython",
    "version": 3
   },
   "file_extension": ".py",
   "mimetype": "text/x-python",
   "name": "python",
   "nbconvert_exporter": "python",
   "pygments_lexer": "ipython3",
   "version": "3.13.0"
  }
 },
 "nbformat": 4,
 "nbformat_minor": 5
}
