{
 "cells": [
  {
   "cell_type": "markdown",
   "id": "df2752c9",
   "metadata": {},
   "source": [
    "Numpy\n",
    "In NumPy, an array is the core data structure used to store and manipulate numerical data efficiently.\n",
    "A NumPy array (called ndarray) is:\n",
    "\n",
    "- A grid of values of the same data type\n",
    "\n",
    "- Indexed by a tuple of nonnegative integers (like rows & columns for 2D arrays)\n",
    "\n",
    "- Stored contiguously in memory, which makes it much faster than Python lists for numerical operations\n",
    "\n",
    "Advantages Over Python Lists\n",
    "- Faster computations (uses C under the hood)\n",
    "\n",
    "- Vectorized operations (no need for loops)\n",
    "\n",
    "- Supports multi-dimensional data (1D, 2D, 3D arrays)\n",
    "\n",
    "- Rich mathematical functions (sum, mean, dot products, etc.)"
   ]
  },
  {
   "cell_type": "code",
   "execution_count": 1,
   "id": "5c3eacfe",
   "metadata": {},
   "outputs": [],
   "source": [
    "import numpy as np"
   ]
  },
  {
   "cell_type": "code",
   "execution_count": null,
   "id": "4644d227",
   "metadata": {},
   "outputs": [],
   "source": [
    "a = np.array([1,2,3,5,7], dtype = int) #note: np array should store the same datatype\n",
    "matrixB = np.array((2,3,5), dtype = float) #note:array can be installed as list, set etc."
   ]
  },
  {
   "cell_type": "code",
   "execution_count": 3,
   "id": "8eabddc6",
   "metadata": {},
   "outputs": [
    {
     "name": "stdout",
     "output_type": "stream",
     "text": [
      "[1 2 3 5 7]\n"
     ]
    }
   ],
   "source": [
    "print(a)"
   ]
  },
  {
   "cell_type": "code",
   "execution_count": 4,
   "id": "2ba67662",
   "metadata": {},
   "outputs": [
    {
     "data": {
      "text/plain": [
       "numpy.ndarray"
      ]
     },
     "execution_count": 4,
     "metadata": {},
     "output_type": "execute_result"
    }
   ],
   "source": [
    "type(a)"
   ]
  },
  {
   "cell_type": "code",
   "execution_count": 7,
   "id": "30743c79",
   "metadata": {},
   "outputs": [
    {
     "data": {
      "text/plain": [
       "dtype('int64')"
      ]
     },
     "execution_count": 7,
     "metadata": {},
     "output_type": "execute_result"
    }
   ],
   "source": [
    "a.dtype"
   ]
  },
  {
   "cell_type": "code",
   "execution_count": null,
   "id": "3cc6fd96",
   "metadata": {},
   "outputs": [
    {
     "data": {
      "text/plain": [
       "dtype('float64')"
      ]
     },
     "execution_count": 8,
     "metadata": {},
     "output_type": "execute_result"
    }
   ],
   "source": [
    "matrixB.dtype"
   ]
  },
  {
   "cell_type": "markdown",
   "id": "e64bf6c1",
   "metadata": {},
   "source": [
    "Numpy(Dimensions)"
   ]
  },
  {
   "cell_type": "code",
   "execution_count": 11,
   "id": "67792e8b",
   "metadata": {},
   "outputs": [
    {
     "name": "stdout",
     "output_type": "stream",
     "text": [
      "[1 2 3 4]\n"
     ]
    }
   ],
   "source": [
    "# 1D Array (Vector)\n",
    "arr1 = np.array([1, 2, 3, 4])\n",
    "print(arr1)        "
   ]
  },
  {
   "cell_type": "code",
   "execution_count": 14,
   "id": "1a73532c",
   "metadata": {},
   "outputs": [
    {
     "name": "stdout",
     "output_type": "stream",
     "text": [
      "[[1 2 3]\n",
      " [3 4 8]]\n"
     ]
    }
   ],
   "source": [
    "# 2D Array (Matrix)\n",
    "arr2 = np.array([[1, 2, 3], [3, 4, 8]])\n",
    "print(arr2)"
   ]
  },
  {
   "cell_type": "code",
   "execution_count": null,
   "id": "804e9fe2",
   "metadata": {},
   "outputs": [
    {
     "name": "stdout",
     "output_type": "stream",
     "text": [
      "(2, 3)\n",
      "2\n",
      "int64\n",
      "6\n"
     ]
    }
   ],
   "source": [
    "print(arr2.shape) # output: rows, columns\n",
    "print(arr2.ndim) #basically how many rows (or 1D arrays inside)\n",
    "print(arr2.dtype)\n",
    "print(arr2.size) #total elements"
   ]
  },
  {
   "cell_type": "code",
   "execution_count": null,
   "id": "5c3a8291",
   "metadata": {},
   "outputs": [
    {
     "data": {
      "text/plain": [
       "np.int64(8)"
      ]
     },
     "execution_count": 22,
     "metadata": {},
     "output_type": "execute_result"
    }
   ],
   "source": [
    "arr2[1,2] # that means pick the array 2 and index 2 in arr2"
   ]
  },
  {
   "cell_type": "code",
   "execution_count": 32,
   "id": "3750b6d9",
   "metadata": {},
   "outputs": [
    {
     "data": {
      "text/plain": [
       "2"
      ]
     },
     "execution_count": 32,
     "metadata": {},
     "output_type": "execute_result"
    }
   ],
   "source": [
    "arr3 = np.array([[1,2,5,4], [5,6,8,4]])\n",
    "arr3.ndim\n"
   ]
  },
  {
   "cell_type": "code",
   "execution_count": 29,
   "id": "041bc544",
   "metadata": {},
   "outputs": [],
   "source": [
    "arr4 = np.array([[1,2,3], [2,4,5]]) #array can be multidimensional only if the arrays inside have the same number of elements"
   ]
  },
  {
   "cell_type": "code",
   "execution_count": 39,
   "id": "7c479b16",
   "metadata": {},
   "outputs": [
    {
     "data": {
      "text/plain": [
       "2"
      ]
     },
     "execution_count": 39,
     "metadata": {},
     "output_type": "execute_result"
    }
   ],
   "source": [
    "arr4.ndim"
   ]
  },
  {
   "cell_type": "code",
   "execution_count": 40,
   "id": "7f41e6a0",
   "metadata": {},
   "outputs": [
    {
     "data": {
      "text/plain": [
       "np.int64(5)"
      ]
     },
     "execution_count": 40,
     "metadata": {},
     "output_type": "execute_result"
    }
   ],
   "source": [
    "arr4[1,2]"
   ]
  },
  {
   "cell_type": "code",
   "execution_count": null,
   "id": "135297cf",
   "metadata": {},
   "outputs": [
    {
     "data": {
      "text/plain": [
       "2"
      ]
     },
     "execution_count": 45,
     "metadata": {},
     "output_type": "execute_result"
    }
   ],
   "source": [
    "arr5 = np.array([[1,2,3], [2,4,5], [-1,4,8]]) #since there are 3 rows but 1 column, so this is also 2 dim\n",
    "arr5.ndim"
   ]
  },
  {
   "cell_type": "code",
   "execution_count": 53,
   "id": "78729fb1",
   "metadata": {},
   "outputs": [
    {
     "data": {
      "text/plain": [
       "3"
      ]
     },
     "execution_count": 53,
     "metadata": {},
     "output_type": "execute_result"
    }
   ],
   "source": [
    "arr6 = np.array([[[1, 2, 4], [3, 4, 8]],[[5, 6, 8], [7, 8, 9]]])# 2 rows and 2 columns, hence 3 dim\n",
    "arr6.ndim\n",
    "\n",
    "#Note: array of two 2 dim array is a 3 dim array\n",
    "      #array of two 3 dim array is a 4 dim array"
   ]
  },
  {
   "cell_type": "code",
   "execution_count": null,
   "id": "018b62e9",
   "metadata": {},
   "outputs": [
    {
     "data": {
      "text/plain": [
       "np.int64(6)"
      ]
     },
     "execution_count": 48,
     "metadata": {},
     "output_type": "execute_result"
    }
   ],
   "source": [
    "arr6[1,0,1]  "
   ]
  },
  {
   "cell_type": "code",
   "execution_count": 49,
   "id": "057c3a20",
   "metadata": {},
   "outputs": [
    {
     "data": {
      "text/plain": [
       "numpy.ndarray"
      ]
     },
     "execution_count": 49,
     "metadata": {},
     "output_type": "execute_result"
    }
   ],
   "source": [
    "type(arr6)"
   ]
  },
  {
   "cell_type": "code",
   "execution_count": null,
   "id": "0132df7e",
   "metadata": {},
   "outputs": [
    {
     "data": {
      "text/plain": [
       "1"
      ]
     },
     "execution_count": 51,
     "metadata": {},
     "output_type": "execute_result"
    }
   ],
   "source": [
    "matrixA = np.array([2])\n",
    "matrixA.ndim "
   ]
  },
  {
   "cell_type": "code",
   "execution_count": 52,
   "id": "8a4652d8",
   "metadata": {},
   "outputs": [
    {
     "data": {
      "text/plain": [
       "0"
      ]
     },
     "execution_count": 52,
     "metadata": {},
     "output_type": "execute_result"
    }
   ],
   "source": [
    "B = np.array(3)\n",
    "B.ndim"
   ]
  },
  {
   "cell_type": "markdown",
   "id": "55ae36d7",
   "metadata": {},
   "source": [
    "Numpy (Shape)"
   ]
  },
  {
   "cell_type": "code",
   "execution_count": null,
   "id": "1b583970",
   "metadata": {},
   "outputs": [
    {
     "data": {
      "text/plain": [
       "(2, 2, 3)"
      ]
     },
     "execution_count": 55,
     "metadata": {},
     "output_type": "execute_result"
    }
   ],
   "source": [
    "arr6.shape #rows, columns, number of elements in each"
   ]
  },
  {
   "cell_type": "code",
   "execution_count": 62,
   "id": "fcc3e532",
   "metadata": {},
   "outputs": [
    {
     "data": {
      "text/plain": [
       "2"
      ]
     },
     "execution_count": 62,
     "metadata": {},
     "output_type": "execute_result"
    }
   ],
   "source": [
    "arr6.shape[0] #in 3d array, number of 2 dimensional array"
   ]
  },
  {
   "cell_type": "code",
   "execution_count": 63,
   "id": "e5150c0f",
   "metadata": {},
   "outputs": [
    {
     "data": {
      "text/plain": [
       "2"
      ]
     },
     "execution_count": 63,
     "metadata": {},
     "output_type": "execute_result"
    }
   ],
   "source": [
    "arr6.shape[1] #in each 2d array, number of 1d array"
   ]
  },
  {
   "cell_type": "code",
   "execution_count": 64,
   "id": "d8188fa9",
   "metadata": {},
   "outputs": [
    {
     "data": {
      "text/plain": [
       "3"
      ]
     },
     "execution_count": 64,
     "metadata": {},
     "output_type": "execute_result"
    }
   ],
   "source": [
    "arr6.shape[2] #in each 1d array, number of elements"
   ]
  },
  {
   "cell_type": "code",
   "execution_count": 66,
   "id": "5e5264b9",
   "metadata": {},
   "outputs": [
    {
     "data": {
      "text/plain": [
       "12"
      ]
     },
     "execution_count": 66,
     "metadata": {},
     "output_type": "execute_result"
    }
   ],
   "source": [
    "arr6.size #total number of elements"
   ]
  },
  {
   "cell_type": "code",
   "execution_count": 67,
   "id": "5b542a74",
   "metadata": {},
   "outputs": [
    {
     "data": {
      "text/plain": [
       "96"
      ]
     },
     "execution_count": 67,
     "metadata": {},
     "output_type": "execute_result"
    }
   ],
   "source": [
    "arr6.nbytes"
   ]
  },
  {
   "cell_type": "markdown",
   "id": "66782c79",
   "metadata": {},
   "source": [
    "Numpy (np.arange, reshape, random)"
   ]
  },
  {
   "cell_type": "code",
   "execution_count": null,
   "id": "92bf7378",
   "metadata": {},
   "outputs": [
    {
     "name": "stdout",
     "output_type": "stream",
     "text": [
      "[ 0  1  2  3  4  5  6  7  8  9 10 11 12 13 14 15 16 17 18 19 20 21 22 23\n",
      " 24 25 26 27 28 29 30 31 32 33 34 35 36 37 38 39 40 41 42 43 44 45 46 47\n",
      " 48 49 50 51 52 53 54 55 56 57 58 59 60 61 62 63 64 65 66 67 68 69 70 71\n",
      " 72 73 74 75 76 77 78 79 80 81 82 83 84 85 86 87 88 89 90 91 92 93 94 95\n",
      " 96 97 98 99]\n"
     ]
    }
   ],
   "source": [
    "arr7 = np.arange(100) #arrange numbers till 100\n",
    "print(arr7)"
   ]
  },
  {
   "cell_type": "code",
   "execution_count": null,
   "id": "439357d6",
   "metadata": {},
   "outputs": [
    {
     "name": "stdout",
     "output_type": "stream",
     "text": [
      "[20 23 26 29 32 35 38 41 44 47 50 53 56 59 62 65 68 71 74 77 80 83 86 89\n",
      " 92 95 98]\n"
     ]
    }
   ],
   "source": [
    "arr7 = np.arange(20, 100, 3)\n",
    "print(arr7) #arrange numbers from 20 till 100 skipping 2"
   ]
  },
  {
   "cell_type": "markdown",
   "id": "2600684a",
   "metadata": {},
   "source": [
    "NOTE: range() function doesn\" create a list of numbers, it is used as an iterator in a loop\n",
    "In order to create a list, it needs to be defined as print(list(range(0,10)))"
   ]
  },
  {
   "cell_type": "code",
   "execution_count": 73,
   "id": "f0313355",
   "metadata": {},
   "outputs": [
    {
     "name": "stdout",
     "output_type": "stream",
     "text": [
      "range(0, 10)\n"
     ]
    }
   ],
   "source": [
    "print(range(0,10))"
   ]
  },
  {
   "cell_type": "code",
   "execution_count": 74,
   "id": "6159a6e1",
   "metadata": {},
   "outputs": [
    {
     "name": "stdout",
     "output_type": "stream",
     "text": [
      "[0, 1, 2, 3, 4, 5, 6, 7, 8, 9]\n"
     ]
    }
   ],
   "source": [
    "print(list(range(0,10)))"
   ]
  },
  {
   "cell_type": "markdown",
   "id": "7dbf4737",
   "metadata": {},
   "source": [
    "Random"
   ]
  },
  {
   "cell_type": "code",
   "execution_count": null,
   "id": "4d6b6a13",
   "metadata": {},
   "outputs": [
    {
     "name": "stdout",
     "output_type": "stream",
     "text": [
      "[5 4 9 6 1 2 8 3 0 7]\n"
     ]
    }
   ],
   "source": [
    "arr8 = np.random.permutation(np.arange(10)) #creates a random shuffled list from 0 to 10\n",
    "print(arr8)"
   ]
  },
  {
   "cell_type": "code",
   "execution_count": 89,
   "id": "e540f0f3",
   "metadata": {},
   "outputs": [],
   "source": [
    "v = np.random.randint(20, 300) #generates a random integer between the defined range"
   ]
  },
  {
   "cell_type": "code",
   "execution_count": 90,
   "id": "b3954ae6",
   "metadata": {},
   "outputs": [
    {
     "data": {
      "text/plain": [
       "int"
      ]
     },
     "execution_count": 90,
     "metadata": {},
     "output_type": "execute_result"
    }
   ],
   "source": [
    "type(v)"
   ]
  },
  {
   "cell_type": "code",
   "execution_count": null,
   "id": "a54bdcbb",
   "metadata": {},
   "outputs": [],
   "source": [
    "matrixA = np.random.rand(10)"
   ]
  },
  {
   "cell_type": "code",
   "execution_count": null,
   "id": "5eade0f4",
   "metadata": {},
   "outputs": [
    {
     "data": {
      "text/plain": [
       "array([0.84656368, 0.71587237, 0.03818873, 0.45316292, 0.15510696,\n",
       "       0.98110125, 0.5076189 , 0.16797304, 0.05335899, 0.88265953])"
      ]
     },
     "execution_count": 95,
     "metadata": {},
     "output_type": "execute_result"
    }
   ],
   "source": [
    "matrixA #the value of A can be any random value number until 10"
   ]
  },
  {
   "cell_type": "code",
   "execution_count": null,
   "id": "29086d1c",
   "metadata": {},
   "outputs": [],
   "source": [
    "C = np.random.rand(2,3) #generates a random 2d array"
   ]
  },
  {
   "cell_type": "code",
   "execution_count": 100,
   "id": "8b68479c",
   "metadata": {},
   "outputs": [
    {
     "data": {
      "text/plain": [
       "array([[0.53127778, 0.01222553, 0.61045612],\n",
       "       [0.90848401, 0.44887756, 0.14146133]])"
      ]
     },
     "execution_count": 100,
     "metadata": {},
     "output_type": "execute_result"
    }
   ],
   "source": [
    "C"
   ]
  },
  {
   "cell_type": "code",
   "execution_count": 102,
   "id": "b953b89f",
   "metadata": {},
   "outputs": [
    {
     "data": {
      "text/plain": [
       "2"
      ]
     },
     "execution_count": 102,
     "metadata": {},
     "output_type": "execute_result"
    }
   ],
   "source": [
    "C.ndim"
   ]
  },
  {
   "cell_type": "code",
   "execution_count": 162,
   "id": "e51a7b4d",
   "metadata": {},
   "outputs": [
    {
     "data": {
      "text/plain": [
       "4"
      ]
     },
     "execution_count": 162,
     "metadata": {},
     "output_type": "execute_result"
    }
   ],
   "source": [
    "C = np.random.rand(2,3,4,2) #generates a random 4d array containing values from 1 to 10\n",
    "C.ndim"
   ]
  },
  {
   "cell_type": "code",
   "execution_count": 161,
   "id": "a9a500bb",
   "metadata": {},
   "outputs": [
    {
     "data": {
      "text/plain": [
       "array([[[[0.5157694 , 0.70460045],\n",
       "         [0.70962462, 0.49846849],\n",
       "         [0.41466609, 0.46779694],\n",
       "         [0.31242392, 0.89533384]],\n",
       "\n",
       "        [[0.95377272, 0.50629872],\n",
       "         [0.63628032, 0.73672871],\n",
       "         [0.04739615, 0.99096497],\n",
       "         [0.65612771, 0.40404578]],\n",
       "\n",
       "        [[0.38829602, 0.54165162],\n",
       "         [0.52927511, 0.02543303],\n",
       "         [0.29024633, 0.72220916],\n",
       "         [0.4875089 , 0.36108722]]],\n",
       "\n",
       "\n",
       "       [[[0.54319523, 0.10204529],\n",
       "         [0.36755915, 0.18758804],\n",
       "         [0.37947581, 0.79493898],\n",
       "         [0.80736279, 0.90945094]],\n",
       "\n",
       "        [[0.50825203, 0.14037717],\n",
       "         [0.42136309, 0.29537235],\n",
       "         [0.63607306, 0.02922278],\n",
       "         [0.23475967, 0.94439326]],\n",
       "\n",
       "        [[0.64696335, 0.63579118],\n",
       "         [0.77886245, 0.29852111],\n",
       "         [0.52714871, 0.1546415 ],\n",
       "         [0.09541296, 0.15039314]]]])"
      ]
     },
     "execution_count": 161,
     "metadata": {},
     "output_type": "execute_result"
    }
   ],
   "source": [
    "C"
   ]
  },
  {
   "cell_type": "code",
   "execution_count": null,
   "id": "5674e081",
   "metadata": {},
   "outputs": [],
   "source": [
    "D = np.arange(100).reshape(4,25)  #100 values are arranged in a (4,25) matrix"
   ]
  },
  {
   "cell_type": "code",
   "execution_count": 107,
   "id": "f39347a2",
   "metadata": {},
   "outputs": [
    {
     "data": {
      "text/plain": [
       "(4, 25)"
      ]
     },
     "execution_count": 107,
     "metadata": {},
     "output_type": "execute_result"
    }
   ],
   "source": [
    "D.shape #shows the matrix shape(rows, columns)"
   ]
  },
  {
   "cell_type": "code",
   "execution_count": 109,
   "id": "a702aed1",
   "metadata": {},
   "outputs": [
    {
     "data": {
      "text/plain": [
       "(4, 5, 5)"
      ]
     },
     "execution_count": 109,
     "metadata": {},
     "output_type": "execute_result"
    }
   ],
   "source": [
    "D = np.arange(100).reshape(4,5,5)\n",
    "D.shape"
   ]
  },
  {
   "cell_type": "markdown",
   "id": "94588aa8",
   "metadata": {},
   "source": [
    "Numpy (Slicing)"
   ]
  },
  {
   "cell_type": "code",
   "execution_count": 124,
   "id": "eab169c6",
   "metadata": {},
   "outputs": [
    {
     "data": {
      "text/plain": [
       "array([1, 3, 7])"
      ]
     },
     "execution_count": 124,
     "metadata": {},
     "output_type": "execute_result"
    }
   ],
   "source": [
    "a[1:5] #index 1 till 5 but not 5\n",
    "a[:5] #index 0 till 5 but not 5\n",
    "a[:5] #index 0 till 5 but not 5\n",
    "a[2:] #index 2 till end including last element\n",
    "a[::-1] #from end till start (reverse the array)\n",
    "a[::2] #from start till end every other element"
   ]
  },
  {
   "cell_type": "code",
   "execution_count": null,
   "id": "6205b01c",
   "metadata": {},
   "outputs": [
    {
     "name": "stdout",
     "output_type": "stream",
     "text": [
      "[3 4 5 6 7 8 9]\n"
     ]
    }
   ],
   "source": [
    "matrixA = np.arange(100)\n",
    "matrixB = matrixA[3:10]\n",
    "print(matrixB)"
   ]
  },
  {
   "cell_type": "code",
   "execution_count": null,
   "id": "410b9e25",
   "metadata": {},
   "outputs": [],
   "source": [
    "matrixB[0] = -1200"
   ]
  },
  {
   "cell_type": "code",
   "execution_count": null,
   "id": "bdedd6ee",
   "metadata": {},
   "outputs": [
    {
     "data": {
      "text/plain": [
       "array([-1200,     4,     5,     6,     7,     8,     9])"
      ]
     },
     "execution_count": 131,
     "metadata": {},
     "output_type": "execute_result"
    }
   ],
   "source": [
    "matrixB"
   ]
  },
  {
   "cell_type": "code",
   "execution_count": null,
   "id": "516c5aca",
   "metadata": {},
   "outputs": [
    {
     "data": {
      "text/plain": [
       "array([    0,     1,     2, -1200,     4,     5,     6,     7,     8,\n",
       "           9,    10,    11,    12,    13,    14,    15,    16,    17,\n",
       "          18,    19,    20,    21,    22,    23,    24,    25,    26,\n",
       "          27,    28,    29,    30,    31,    32,    33,    34,    35,\n",
       "          36,    37,    38,    39,    40,    41,    42,    43,    44,\n",
       "          45,    46,    47,    48,    49,    50,    51,    52,    53,\n",
       "          54,    55,    56,    57,    58,    59,    60,    61,    62,\n",
       "          63,    64,    65,    66,    67,    68,    69,    70,    71,\n",
       "          72,    73,    74,    75,    76,    77,    78,    79,    80,\n",
       "          81,    82,    83,    84,    85,    86,    87,    88,    89,\n",
       "          90,    91,    92,    93,    94,    95,    96,    97,    98,\n",
       "          99])"
      ]
     },
     "execution_count": 132,
     "metadata": {},
     "output_type": "execute_result"
    }
   ],
   "source": [
    "matrixA #the change is affected in both A and b, same memmory is accessed"
   ]
  },
  {
   "cell_type": "code",
   "execution_count": null,
   "id": "7dc295d0",
   "metadata": {},
   "outputs": [],
   "source": [
    "matrixB = matrixA[3:10].copy() #this way the changes in b will not affect A anymore"
   ]
  },
  {
   "cell_type": "code",
   "execution_count": null,
   "id": "0c6f7768",
   "metadata": {},
   "outputs": [
    {
     "data": {
      "text/plain": [
       "array([ 0,  5, 10, 15, 20, 25, 30, 35, 40, 45, 50, 55, 60, 65, 70, 75, 80,\n",
       "       85, 90, 95])"
      ]
     },
     "execution_count": 135,
     "metadata": {},
     "output_type": "execute_result"
    }
   ],
   "source": [
    "matrixA[::5]"
   ]
  },
  {
   "cell_type": "code",
   "execution_count": null,
   "id": "0867a8fb",
   "metadata": {},
   "outputs": [
    {
     "data": {
      "text/plain": [
       "array([99, 94, 89, 84, 79, 74, 69, 64, 59, 54, 49, 44, 39, 34, 29, 24, 19,\n",
       "       14,  9,  4])"
      ]
     },
     "execution_count": 136,
     "metadata": {},
     "output_type": "execute_result"
    }
   ],
   "source": [
    "matrixA[::-5]"
   ]
  },
  {
   "cell_type": "code",
   "execution_count": null,
   "id": "4cc17ab4",
   "metadata": {},
   "outputs": [
    {
     "data": {
      "text/plain": [
       "array([   99,    98,    97,    96,    95,    94,    93,    92,    91,\n",
       "          90,    89,    88,    87,    86,    85,    84,    83,    82,\n",
       "          81,    80,    79,    78,    77,    76,    75,    74,    73,\n",
       "          72,    71,    70,    69,    68,    67,    66,    65,    64,\n",
       "          63,    62,    61,    60,    59,    58,    57,    56,    55,\n",
       "          54,    53,    52,    51,    50,    49,    48,    47,    46,\n",
       "          45,    44,    43,    42,    41,    40,    39,    38,    37,\n",
       "          36,    35,    34,    33,    32,    31,    30,    29,    28,\n",
       "          27,    26,    25,    24,    23,    22,    21,    20,    19,\n",
       "          18,    17,    16,    15,    14,    13,    12,    11,    10,\n",
       "           9,     8,     7,     6,     5,     4, -1200,     2,     1,\n",
       "           0])"
      ]
     },
     "execution_count": 137,
     "metadata": {},
     "output_type": "execute_result"
    }
   ],
   "source": [
    "matrixA[::-1]"
   ]
  },
  {
   "cell_type": "code",
   "execution_count": null,
   "id": "43a98da0",
   "metadata": {},
   "outputs": [],
   "source": [
    "#find out the indice of the element in numpy array\n",
    "elementIndex = np.argwhere(matrixA == -1200)[0][0] #index of the element -1200 will be returned"
   ]
  },
  {
   "cell_type": "code",
   "execution_count": 148,
   "id": "2c2f5bd7",
   "metadata": {},
   "outputs": [
    {
     "data": {
      "text/plain": [
       "np.int64(3)"
      ]
     },
     "execution_count": 148,
     "metadata": {},
     "output_type": "execute_result"
    }
   ],
   "source": [
    "elementIndex"
   ]
  },
  {
   "cell_type": "code",
   "execution_count": null,
   "id": "51e68b9d",
   "metadata": {},
   "outputs": [],
   "source": [
    "matrixA[elementIndex] = 3 #substiuting the element at that index with 3"
   ]
  },
  {
   "cell_type": "code",
   "execution_count": null,
   "id": "2592c6a4",
   "metadata": {},
   "outputs": [
    {
     "data": {
      "text/plain": [
       "array([ 0,  1,  2,  3,  4,  5,  6,  7,  8,  9, 10, 11, 12, 13, 14, 15, 16,\n",
       "       17, 18, 19, 20, 21, 22, 23, 24, 25, 26, 27, 28, 29, 30, 31, 32, 33,\n",
       "       34, 35, 36, 37, 38, 39, 40, 41, 42, 43, 44, 45, 46, 47, 48, 49, 50,\n",
       "       51, 52, 53, 54, 55, 56, 57, 58, 59, 60, 61, 62, 63, 64, 65, 66, 67,\n",
       "       68, 69, 70, 71, 72, 73, 74, 75, 76, 77, 78, 79, 80, 81, 82, 83, 84,\n",
       "       85, 86, 87, 88, 89, 90, 91, 92, 93, 94, 95, 96, 97, 98, 99])"
      ]
     },
     "execution_count": 152,
     "metadata": {},
     "output_type": "execute_result"
    }
   ],
   "source": [
    "matrixA"
   ]
  },
  {
   "cell_type": "code",
   "execution_count": 179,
   "id": "1a2fb878",
   "metadata": {},
   "outputs": [],
   "source": [
    "#np.random.rand  generates random values from 1 to 10\n",
    "matrixA = np.round(10*np.random.rand(5, 4)) #matrix generated of 5 rows, 4 columns mulitplied by 10 and rounded off"
   ]
  },
  {
   "cell_type": "code",
   "execution_count": 191,
   "id": "52ec0efb",
   "metadata": {},
   "outputs": [
    {
     "data": {
      "text/plain": [
       "array([[ 9.,  1.,  3.,  6.],\n",
       "       [ 6.,  2.,  4.,  0.],\n",
       "       [10.,  2.,  6.,  1.],\n",
       "       [ 4., 10.,  6.,  7.],\n",
       "       [ 8.,  2.,  7.,  9.]])"
      ]
     },
     "execution_count": 191,
     "metadata": {},
     "output_type": "execute_result"
    }
   ],
   "source": [
    "matrixA #rows indices starting from 0,1,2 etc..\n",
    "        #column indices starting from 0,1,2 etc."
   ]
  },
  {
   "cell_type": "code",
   "execution_count": 181,
   "id": "b72f8a2f",
   "metadata": {},
   "outputs": [
    {
     "data": {
      "text/plain": [
       "np.float64(4.0)"
      ]
     },
     "execution_count": 181,
     "metadata": {},
     "output_type": "execute_result"
    }
   ],
   "source": [
    "#row 1 has index 0, column 1 has index 0\n",
    "#this means row 2, column 3\n",
    "matrixA[1,2] "
   ]
  },
  {
   "cell_type": "code",
   "execution_count": 183,
   "id": "50e7bad3",
   "metadata": {},
   "outputs": [
    {
     "data": {
      "text/plain": [
       "array([6., 2., 4., 0.])"
      ]
     },
     "execution_count": 183,
     "metadata": {},
     "output_type": "execute_result"
    }
   ],
   "source": [
    "matrixA[1, :] #to access the whole 2nd row"
   ]
  },
  {
   "cell_type": "code",
   "execution_count": 187,
   "id": "f356259f",
   "metadata": {},
   "outputs": [
    {
     "data": {
      "text/plain": [
       "array([ 1.,  2.,  2., 10.,  2.])"
      ]
     },
     "execution_count": 187,
     "metadata": {},
     "output_type": "execute_result"
    }
   ],
   "source": [
    "matrixA[:, 1] #to access the whole 2nd column"
   ]
  },
  {
   "cell_type": "code",
   "execution_count": 190,
   "id": "463c1187",
   "metadata": {},
   "outputs": [
    {
     "data": {
      "text/plain": [
       "array([[4., 0.],\n",
       "       [6., 1.]])"
      ]
     },
     "execution_count": 190,
     "metadata": {},
     "output_type": "execute_result"
    }
   ],
   "source": [
    "matrixA[1:3, 2:4] #picks up rows from indices 1 to 3, not including 3 and columns with indices(2:4)"
   ]
  },
  {
   "cell_type": "code",
   "execution_count": 192,
   "id": "54e6f27d",
   "metadata": {},
   "outputs": [
    {
     "data": {
      "text/plain": [
       "array([[ 9.,  6., 10.,  4.,  8.],\n",
       "       [ 1.,  2.,  2., 10.,  2.],\n",
       "       [ 3.,  4.,  6.,  6.,  7.],\n",
       "       [ 6.,  0.,  1.,  7.,  9.]])"
      ]
     },
     "execution_count": 192,
     "metadata": {},
     "output_type": "execute_result"
    }
   ],
   "source": [
    "matrixA.T"
   ]
  },
  {
   "cell_type": "code",
   "execution_count": 193,
   "id": "b979236e",
   "metadata": {},
   "outputs": [],
   "source": [
    "import numpy.linalg as la"
   ]
  },
  {
   "cell_type": "code",
   "execution_count": 194,
   "id": "c33fe010",
   "metadata": {},
   "outputs": [
    {
     "data": {
      "text/plain": [
       "array([[ -29.17592581,  -15.62814994,   33.32483284],\n",
       "       [-314.73440787, -203.28200299,  390.81196812],\n",
       "       [ 252.1472002 ,  160.97693789, -309.99872552]])"
      ]
     },
     "execution_count": 194,
     "metadata": {},
     "output_type": "execute_result"
    }
   ],
   "source": [
    "la.inv(np.random.rand(3,3))"
   ]
  },
  {
   "cell_type": "code",
   "execution_count": 199,
   "id": "ac85c7f1",
   "metadata": {},
   "outputs": [
    {
     "data": {
      "text/plain": [
       "array([[ 4.,  1.,  3.,  0.],\n",
       "       [ 6.,  2.,  4.,  1.],\n",
       "       [ 8.,  2.,  6.,  6.],\n",
       "       [ 9.,  2.,  6.,  7.],\n",
       "       [10., 10.,  7.,  9.]])"
      ]
     },
     "execution_count": 199,
     "metadata": {},
     "output_type": "execute_result"
    }
   ],
   "source": [
    "matrixA.sort(axis=0) #sorting all columns individually\n",
    "matrixA"
   ]
  },
  {
   "cell_type": "code",
   "execution_count": 205,
   "id": "bede4d87",
   "metadata": {},
   "outputs": [
    {
     "data": {
      "text/plain": [
       "array([[ 0.,  1.,  3.,  4.],\n",
       "       [ 1.,  2.,  4.,  6.],\n",
       "       [ 2.,  6.,  6.,  8.],\n",
       "       [ 2.,  6.,  7.,  9.],\n",
       "       [ 7.,  9., 10., 10.]])"
      ]
     },
     "execution_count": 205,
     "metadata": {},
     "output_type": "execute_result"
    }
   ],
   "source": [
    "matrixA.sort(axis=1) #every row individually is sorted\n",
    "matrixA\n"
   ]
  },
  {
   "cell_type": "code",
   "execution_count": 206,
   "id": "1f063aad",
   "metadata": {},
   "outputs": [],
   "source": [
    "#Depending on the dimensionality of the array, axis = 0,1,2,..., the array can be sorted"
   ]
  },
  {
   "cell_type": "markdown",
   "id": "625a252d",
   "metadata": {},
   "source": [
    "Numpy(More Indexing)"
   ]
  },
  {
   "cell_type": "code",
   "execution_count": null,
   "id": "1f60880c",
   "metadata": {},
   "outputs": [
    {
     "data": {
      "text/plain": [
       "array([3, 5, 6])"
      ]
     },
     "execution_count": 211,
     "metadata": {},
     "output_type": "execute_result"
    }
   ],
   "source": [
    "matrixA = np.arange(100)\n",
    "matrixB = matrixA[[3,5,6]] #copied 3th, 4th and 5th element from matrixA and added to matrixB\n",
    "matrixB\n",
    "\n"
   ]
  },
  {
   "cell_type": "code",
   "execution_count": null,
   "id": "4e3696f1",
   "metadata": {},
   "outputs": [
    {
     "data": {
      "text/plain": [
       "array([-4,  5,  6])"
      ]
     },
     "execution_count": 215,
     "metadata": {},
     "output_type": "execute_result"
    }
   ],
   "source": [
    "matrixB[0] = -4 #this change will happen only in matrixB not in matrixA\n",
    "matrixB\n",
    "\n",
    "#note: slicing will change both the parent matrix and the new matrix # matrixB = matrixA[3:10]"
   ]
  },
  {
   "cell_type": "code",
   "execution_count": 216,
   "id": "b91936d2",
   "metadata": {},
   "outputs": [
    {
     "data": {
      "text/plain": [
       "array([ 0,  1,  2,  3,  4,  5,  6,  7,  8,  9, 10, 11, 12, 13, 14, 15, 16,\n",
       "       17, 18, 19, 20, 21, 22, 23, 24, 25, 26, 27, 28, 29, 30, 31, 32, 33,\n",
       "       34, 35, 36, 37, 38, 39, 40, 41, 42, 43, 44, 45, 46, 47, 48, 49, 50,\n",
       "       51, 52, 53, 54, 55, 56, 57, 58, 59, 60, 61, 62, 63, 64, 65, 66, 67,\n",
       "       68, 69, 70, 71, 72, 73, 74, 75, 76, 77, 78, 79, 80, 81, 82, 83, 84,\n",
       "       85, 86, 87, 88, 89, 90, 91, 92, 93, 94, 95, 96, 97, 98, 99])"
      ]
     },
     "execution_count": 216,
     "metadata": {},
     "output_type": "execute_result"
    }
   ],
   "source": [
    "matrixA"
   ]
  },
  {
   "cell_type": "code",
   "execution_count": 221,
   "id": "dfa1030f",
   "metadata": {},
   "outputs": [
    {
     "data": {
      "text/plain": [
       "array([31, 32, 33, 34, 35, 36, 37, 38, 39])"
      ]
     },
     "execution_count": 221,
     "metadata": {},
     "output_type": "execute_result"
    }
   ],
   "source": [
    "matrixB = matrixA[(matrixA<40) & (matrixA>30)]\n",
    "matrixB\n"
   ]
  },
  {
   "cell_type": "code",
   "execution_count": 223,
   "id": "b1454720",
   "metadata": {},
   "outputs": [
    {
     "data": {
      "text/plain": [
       "'note: symbols used for arrays and true-false are different\\n        Arrays      True or False\\n           &           and\\n           |            or\\n           ~           not\\n'"
      ]
     },
     "execution_count": 223,
     "metadata": {},
     "output_type": "execute_result"
    }
   ],
   "source": [
    "\"\"\"note: symbols used for arrays and true-false are different\n",
    "        Arrays      True or False\n",
    "           &           and\n",
    "           |            or\n",
    "           ~           not\n",
    "\"\"\""
   ]
  },
  {
   "cell_type": "markdown",
   "id": "b5165c48",
   "metadata": {},
   "source": [
    "Numpy(Broadcasting)"
   ]
  },
  {
   "cell_type": "code",
   "execution_count": null,
   "id": "87388379",
   "metadata": {},
   "outputs": [],
   "source": [
    "\"\"\"np.hstack\n",
    "   np.vstack\n",
    "   np.sort\"\"\""
   ]
  },
  {
   "cell_type": "code",
   "execution_count": 3,
   "id": "9fb2c897",
   "metadata": {},
   "outputs": [
    {
     "data": {
      "text/plain": [
       "array([[ 9., 10.,  8.],\n",
       "       [ 2.,  0.,  8.]])"
      ]
     },
     "execution_count": 3,
     "metadata": {},
     "output_type": "execute_result"
    }
   ],
   "source": [
    "import numpy as np\n",
    "matrixA = np.round(10*np.random.rand(2,3))\n",
    "matrixA\n"
   ]
  },
  {
   "cell_type": "code",
   "execution_count": 4,
   "id": "a5435384",
   "metadata": {},
   "outputs": [
    {
     "data": {
      "text/plain": [
       "array([[12., 13., 11.],\n",
       "       [ 5.,  3., 11.]])"
      ]
     },
     "execution_count": 4,
     "metadata": {},
     "output_type": "execute_result"
    }
   ],
   "source": [
    "matrixA+3"
   ]
  },
  {
   "cell_type": "code",
   "execution_count": 6,
   "id": "a0ded30b",
   "metadata": {},
   "outputs": [
    {
     "data": {
      "text/plain": [
       "array([[ 9., 10.,  8.],\n",
       "       [ 3.,  1.,  9.]])"
      ]
     },
     "execution_count": 6,
     "metadata": {},
     "output_type": "execute_result"
    }
   ],
   "source": [
    "matrixA+(np.arange(2).reshape(2,1)) #every column of matrixA adds to the column of new generated matrix"
   ]
  },
  {
   "cell_type": "code",
   "execution_count": 7,
   "id": "092289f3",
   "metadata": {},
   "outputs": [
    {
     "data": {
      "text/plain": [
       "array([[ 9., 10.,  8.],\n",
       "       [ 2.,  0.,  8.]])"
      ]
     },
     "execution_count": 7,
     "metadata": {},
     "output_type": "execute_result"
    }
   ],
   "source": [
    "matrixA"
   ]
  },
  {
   "cell_type": "code",
   "execution_count": 9,
   "id": "422dfa2e",
   "metadata": {},
   "outputs": [
    {
     "data": {
      "text/plain": [
       "array([[6., 4.],\n",
       "       [2., 7.]])"
      ]
     },
     "execution_count": 9,
     "metadata": {},
     "output_type": "execute_result"
    }
   ],
   "source": [
    "matrixB = np.round(10*np.random.rand(2,2))\n",
    "matrixB\n"
   ]
  },
  {
   "cell_type": "code",
   "execution_count": null,
   "id": "6e78160d",
   "metadata": {},
   "outputs": [
    {
     "data": {
      "text/plain": [
       "array([[ 9., 10.,  8.,  6.,  4.],\n",
       "       [ 2.,  0.,  8.,  2.,  7.]])"
      ]
     },
     "execution_count": 12,
     "metadata": {},
     "output_type": "execute_result"
    }
   ],
   "source": [
    "matrixC = np.hstack((matrixA, matrixB))\n",
    "# to stack these matrices together, they are written as tuples inside the hstack function\n",
    "matrixC"
   ]
  },
  {
   "cell_type": "code",
   "execution_count": 34,
   "id": "03276388",
   "metadata": {},
   "outputs": [
    {
     "data": {
      "text/plain": [
       "array([3, 9, 7, 1, 6, 5, 8, 2, 4, 0])"
      ]
     },
     "execution_count": 34,
     "metadata": {},
     "output_type": "execute_result"
    }
   ],
   "source": [
    "matrixD = np.random.permutation (np.arange(10))\n",
    "matrixD"
   ]
  },
  {
   "cell_type": "code",
   "execution_count": null,
   "id": "2ec0693b",
   "metadata": {},
   "outputs": [
    {
     "data": {
      "text/plain": [
       "array([0, 1, 2, 3, 4, 5, 6, 7, 8, 9])"
      ]
     },
     "execution_count": 35,
     "metadata": {},
     "output_type": "execute_result"
    }
   ],
   "source": [
    "matrixD.sort() #sorted in ascending order\n",
    "matrixD"
   ]
  },
  {
   "cell_type": "code",
   "execution_count": 36,
   "id": "bf542f9a",
   "metadata": {},
   "outputs": [
    {
     "data": {
      "text/plain": [
       "array([0, 1, 2, 3, 4, 5, 6, 7, 8, 9])"
      ]
     },
     "execution_count": 36,
     "metadata": {},
     "output_type": "execute_result"
    }
   ],
   "source": [
    "np.sort(matrixD) #sorted in ascending order (another way)"
   ]
  },
  {
   "cell_type": "code",
   "execution_count": 39,
   "id": "b8fcc047",
   "metadata": {},
   "outputs": [
    {
     "data": {
      "text/plain": [
       "array([9, 8, 7, 6, 5, 4, 3, 2, 1, 0])"
      ]
     },
     "execution_count": 39,
     "metadata": {},
     "output_type": "execute_result"
    }
   ],
   "source": [
    "matrixD = matrixD[::-1] #sorted in descending order\n",
    "matrixD"
   ]
  },
  {
   "cell_type": "code",
   "execution_count": null,
   "id": "deafc88b",
   "metadata": {},
   "outputs": [],
   "source": [
    "matrixE = np.array([\"apple\", \"grapes\", \"banana\", \"mango\"])"
   ]
  },
  {
   "cell_type": "code",
   "execution_count": null,
   "id": "dff874ae",
   "metadata": {},
   "outputs": [
    {
     "data": {
      "text/plain": [
       "array(['apple', 'banana', 'grapes', 'mango'], dtype='<U6')"
      ]
     },
     "execution_count": 41,
     "metadata": {},
     "output_type": "execute_result"
    }
   ],
   "source": [
    "matrixE.sort() \n",
    "#note: strings can also be sorted in numpy as per the alphabetical order\n",
    "matrixE"
   ]
  },
  {
   "cell_type": "markdown",
   "id": "bc9db834",
   "metadata": {},
   "source": [
    "Numpy(Speed: ufuncs)"
   ]
  },
  {
   "cell_type": "code",
   "execution_count": null,
   "id": "7a6dc8a4",
   "metadata": {},
   "outputs": [
    {
     "name": "stdout",
     "output_type": "stream",
     "text": [
      "18.4 ms ± 2.41 ms per loop (mean ± std. dev. of 7 runs, 10 loops each)\n",
      "CPU times: total: 0 ns\n",
      "Wall time: 216 μs\n"
     ]
    },
    {
     "data": {
      "text/plain": [
       "np.float64(50020.486395195345)"
      ]
     },
     "execution_count": 44,
     "metadata": {},
     "output_type": "execute_result"
    }
   ],
   "source": [
    "matrixF = np.random.rand(100000)\n",
    "%timeit sum(matrixF)\n",
    "%time np.sum(matrixF)  #Universal function is much faster"
   ]
  },
  {
   "cell_type": "code",
   "execution_count": 45,
   "id": "fd4cb9d7",
   "metadata": {},
   "outputs": [],
   "source": [
    "def mySum(G):\n",
    "    sum = 0\n",
    "    for x in G:\n",
    "        sum += x\n",
    "    return sum"
   ]
  },
  {
   "cell_type": "code",
   "execution_count": 49,
   "id": "76d099bc",
   "metadata": {},
   "outputs": [
    {
     "name": "stdout",
     "output_type": "stream",
     "text": [
      "13.9 ms ± 352 μs per loop (mean ± std. dev. of 7 runs, 10 loops each)\n"
     ]
    }
   ],
   "source": [
    "%timeit mySum(matrixF)"
   ]
  }
 ],
 "metadata": {
  "kernelspec": {
   "display_name": ".venv",
   "language": "python",
   "name": "python3"
  },
  "language_info": {
   "codemirror_mode": {
    "name": "ipython",
    "version": 3
   },
   "file_extension": ".py",
   "mimetype": "text/x-python",
   "name": "python",
   "nbconvert_exporter": "python",
   "pygments_lexer": "ipython3",
   "version": "3.13.5"
  }
 },
 "nbformat": 4,
 "nbformat_minor": 5
}
