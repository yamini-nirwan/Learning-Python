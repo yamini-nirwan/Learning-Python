{
 "cells": [
  {
   "cell_type": "markdown",
   "id": "df2752c9",
   "metadata": {},
   "source": [
    "Numpy\n",
    "In NumPy, an array is the core data structure used to store and manipulate numerical data efficiently.\n",
    "A NumPy array (called ndarray) is:\n",
    "\n",
    "- A grid of values of the same data type\n",
    "\n",
    "- Indexed by a tuple of nonnegative integers (like rows & columns for 2D arrays)\n",
    "\n",
    "- Stored contiguously in memory, which makes it much faster than Python lists for numerical operations\n",
    "\n",
    "Advantages Over Python Lists\n",
    "- Faster computations (uses C under the hood)\n",
    "\n",
    "- Vectorized operations (no need for loops)\n",
    "\n",
    "- Supports multi-dimensional data (1D, 2D, 3D arrays)\n",
    "\n",
    "- Rich mathematical functions (sum, mean, dot products, etc.)"
   ]
  },
  {
   "cell_type": "code",
   "execution_count": 1,
   "id": "5c3eacfe",
   "metadata": {},
   "outputs": [],
   "source": [
    "import numpy as np"
   ]
  },
  {
   "cell_type": "code",
   "execution_count": 2,
   "id": "4644d227",
   "metadata": {},
   "outputs": [],
   "source": [
    "a = np.array([1,2,3,5,7], dtype = int) #note: np array should store the same datatype\n",
    "matrixB = np.array((2,3,5), dtype = float) #note:array can be installed as list, set etc."
   ]
  },
  {
   "cell_type": "code",
   "execution_count": 3,
   "id": "8eabddc6",
   "metadata": {},
   "outputs": [
    {
     "name": "stdout",
     "output_type": "stream",
     "text": [
      "[1 2 3 5 7]\n"
     ]
    }
   ],
   "source": [
    "print(a)"
   ]
  },
  {
   "cell_type": "code",
   "execution_count": 4,
   "id": "2ba67662",
   "metadata": {},
   "outputs": [
    {
     "data": {
      "text/plain": [
       "numpy.ndarray"
      ]
     },
     "execution_count": 4,
     "metadata": {},
     "output_type": "execute_result"
    }
   ],
   "source": [
    "type(a)"
   ]
  },
  {
   "cell_type": "code",
   "execution_count": 5,
   "id": "30743c79",
   "metadata": {},
   "outputs": [
    {
     "data": {
      "text/plain": [
       "dtype('int64')"
      ]
     },
     "execution_count": 5,
     "metadata": {},
     "output_type": "execute_result"
    }
   ],
   "source": [
    "a.dtype"
   ]
  },
  {
   "cell_type": "code",
   "execution_count": 6,
   "id": "3cc6fd96",
   "metadata": {},
   "outputs": [
    {
     "data": {
      "text/plain": [
       "dtype('float64')"
      ]
     },
     "execution_count": 6,
     "metadata": {},
     "output_type": "execute_result"
    }
   ],
   "source": [
    "matrixB.dtype"
   ]
  },
  {
   "cell_type": "markdown",
   "id": "e64bf6c1",
   "metadata": {},
   "source": [
    "Numpy(Dimensions)"
   ]
  },
  {
   "cell_type": "code",
   "execution_count": 7,
   "id": "67792e8b",
   "metadata": {},
   "outputs": [
    {
     "name": "stdout",
     "output_type": "stream",
     "text": [
      "[1 2 3 4]\n"
     ]
    }
   ],
   "source": [
    "# 1D Array (Vector)\n",
    "arr1 = np.array([1, 2, 3, 4])\n",
    "print(arr1)        "
   ]
  },
  {
   "cell_type": "code",
   "execution_count": 8,
   "id": "1a73532c",
   "metadata": {},
   "outputs": [
    {
     "name": "stdout",
     "output_type": "stream",
     "text": [
      "[[1 2 3]\n",
      " [3 4 8]]\n"
     ]
    }
   ],
   "source": [
    "# 2D Array (Matrix)\n",
    "arr2 = np.array([[1, 2, 3], [3, 4, 8]])\n",
    "print(arr2)"
   ]
  },
  {
   "cell_type": "code",
   "execution_count": 9,
   "id": "804e9fe2",
   "metadata": {},
   "outputs": [
    {
     "name": "stdout",
     "output_type": "stream",
     "text": [
      "(2, 3)\n",
      "2\n",
      "int64\n",
      "6\n"
     ]
    }
   ],
   "source": [
    "print(arr2.shape) # output: rows, columns\n",
    "print(arr2.ndim) #basically how many rows (or 1D arrays inside)\n",
    "print(arr2.dtype)\n",
    "print(arr2.size) #total elements"
   ]
  },
  {
   "cell_type": "code",
   "execution_count": 10,
   "id": "5c3a8291",
   "metadata": {},
   "outputs": [
    {
     "data": {
      "text/plain": [
       "np.int64(8)"
      ]
     },
     "execution_count": 10,
     "metadata": {},
     "output_type": "execute_result"
    }
   ],
   "source": [
    "arr2[1,2] # that means pick the array 2 and index 2 in arr2"
   ]
  },
  {
   "cell_type": "code",
   "execution_count": 11,
   "id": "3750b6d9",
   "metadata": {},
   "outputs": [
    {
     "data": {
      "text/plain": [
       "2"
      ]
     },
     "execution_count": 11,
     "metadata": {},
     "output_type": "execute_result"
    }
   ],
   "source": [
    "arr3 = np.array([[1,2,5,4], [5,6,8,4]])\n",
    "arr3.ndim\n"
   ]
  },
  {
   "cell_type": "code",
   "execution_count": 12,
   "id": "041bc544",
   "metadata": {},
   "outputs": [],
   "source": [
    "arr4 = np.array([[1,2,3], [2,4,5]]) #array can be multidimensional only if the arrays inside have the same number of elements"
   ]
  },
  {
   "cell_type": "code",
   "execution_count": 13,
   "id": "7c479b16",
   "metadata": {},
   "outputs": [
    {
     "data": {
      "text/plain": [
       "2"
      ]
     },
     "execution_count": 13,
     "metadata": {},
     "output_type": "execute_result"
    }
   ],
   "source": [
    "arr4.ndim"
   ]
  },
  {
   "cell_type": "code",
   "execution_count": 14,
   "id": "7f41e6a0",
   "metadata": {},
   "outputs": [
    {
     "data": {
      "text/plain": [
       "np.int64(5)"
      ]
     },
     "execution_count": 14,
     "metadata": {},
     "output_type": "execute_result"
    }
   ],
   "source": [
    "arr4[1,2]"
   ]
  },
  {
   "cell_type": "code",
   "execution_count": 15,
   "id": "135297cf",
   "metadata": {},
   "outputs": [
    {
     "data": {
      "text/plain": [
       "2"
      ]
     },
     "execution_count": 15,
     "metadata": {},
     "output_type": "execute_result"
    }
   ],
   "source": [
    "arr5 = np.array([[1,2,3], [2,4,5], [-1,4,8]]) #since there are 3 rows but 1 column, so this is also 2 dim\n",
    "arr5.ndim"
   ]
  },
  {
   "cell_type": "code",
   "execution_count": 16,
   "id": "78729fb1",
   "metadata": {},
   "outputs": [
    {
     "data": {
      "text/plain": [
       "3"
      ]
     },
     "execution_count": 16,
     "metadata": {},
     "output_type": "execute_result"
    }
   ],
   "source": [
    "arr6 = np.array([[[1, 2, 4], [3, 4, 8]],[[5, 6, 8], [7, 8, 9]]])# 2 rows and 2 columns, hence 3 dim\n",
    "arr6.ndim\n",
    "\n",
    "#Note: array of two 2 dim array is a 3 dim array\n",
    "      #array of two 3 dim array is a 4 dim array"
   ]
  },
  {
   "cell_type": "code",
   "execution_count": 17,
   "id": "018b62e9",
   "metadata": {},
   "outputs": [
    {
     "data": {
      "text/plain": [
       "np.int64(6)"
      ]
     },
     "execution_count": 17,
     "metadata": {},
     "output_type": "execute_result"
    }
   ],
   "source": [
    "arr6[1,0,1]  "
   ]
  },
  {
   "cell_type": "code",
   "execution_count": 18,
   "id": "057c3a20",
   "metadata": {},
   "outputs": [
    {
     "data": {
      "text/plain": [
       "numpy.ndarray"
      ]
     },
     "execution_count": 18,
     "metadata": {},
     "output_type": "execute_result"
    }
   ],
   "source": [
    "type(arr6)"
   ]
  },
  {
   "cell_type": "code",
   "execution_count": 19,
   "id": "0132df7e",
   "metadata": {},
   "outputs": [
    {
     "data": {
      "text/plain": [
       "1"
      ]
     },
     "execution_count": 19,
     "metadata": {},
     "output_type": "execute_result"
    }
   ],
   "source": [
    "matrixA = np.array([2])\n",
    "matrixA.ndim "
   ]
  },
  {
   "cell_type": "code",
   "execution_count": 20,
   "id": "8a4652d8",
   "metadata": {},
   "outputs": [
    {
     "data": {
      "text/plain": [
       "0"
      ]
     },
     "execution_count": 20,
     "metadata": {},
     "output_type": "execute_result"
    }
   ],
   "source": [
    "B = np.array(3)\n",
    "B.ndim"
   ]
  },
  {
   "cell_type": "markdown",
   "id": "55ae36d7",
   "metadata": {},
   "source": [
    "Numpy (Shape)"
   ]
  },
  {
   "cell_type": "code",
   "execution_count": 21,
   "id": "1b583970",
   "metadata": {},
   "outputs": [
    {
     "data": {
      "text/plain": [
       "(2, 2, 3)"
      ]
     },
     "execution_count": 21,
     "metadata": {},
     "output_type": "execute_result"
    }
   ],
   "source": [
    "arr6.shape #rows, columns, number of elements in each"
   ]
  },
  {
   "cell_type": "code",
   "execution_count": 22,
   "id": "fcc3e532",
   "metadata": {},
   "outputs": [
    {
     "data": {
      "text/plain": [
       "2"
      ]
     },
     "execution_count": 22,
     "metadata": {},
     "output_type": "execute_result"
    }
   ],
   "source": [
    "arr6.shape[0] #in 3d array, number of 2 dimensional array"
   ]
  },
  {
   "cell_type": "code",
   "execution_count": 23,
   "id": "e5150c0f",
   "metadata": {},
   "outputs": [
    {
     "data": {
      "text/plain": [
       "2"
      ]
     },
     "execution_count": 23,
     "metadata": {},
     "output_type": "execute_result"
    }
   ],
   "source": [
    "arr6.shape[1] #in each 2d array, number of 1d array"
   ]
  },
  {
   "cell_type": "code",
   "execution_count": 24,
   "id": "d8188fa9",
   "metadata": {},
   "outputs": [
    {
     "data": {
      "text/plain": [
       "3"
      ]
     },
     "execution_count": 24,
     "metadata": {},
     "output_type": "execute_result"
    }
   ],
   "source": [
    "arr6.shape[2] #in each 1d array, number of elements"
   ]
  },
  {
   "cell_type": "code",
   "execution_count": 25,
   "id": "5e5264b9",
   "metadata": {},
   "outputs": [
    {
     "data": {
      "text/plain": [
       "12"
      ]
     },
     "execution_count": 25,
     "metadata": {},
     "output_type": "execute_result"
    }
   ],
   "source": [
    "arr6.size #total number of elements"
   ]
  },
  {
   "cell_type": "code",
   "execution_count": 26,
   "id": "5b542a74",
   "metadata": {},
   "outputs": [
    {
     "data": {
      "text/plain": [
       "96"
      ]
     },
     "execution_count": 26,
     "metadata": {},
     "output_type": "execute_result"
    }
   ],
   "source": [
    "arr6.nbytes"
   ]
  },
  {
   "cell_type": "markdown",
   "id": "66782c79",
   "metadata": {},
   "source": [
    "Numpy (np.arange, reshape, random)"
   ]
  },
  {
   "cell_type": "code",
   "execution_count": 27,
   "id": "92bf7378",
   "metadata": {},
   "outputs": [
    {
     "name": "stdout",
     "output_type": "stream",
     "text": [
      "[ 0  1  2  3  4  5  6  7  8  9 10 11 12 13 14 15 16 17 18 19 20 21 22 23\n",
      " 24 25 26 27 28 29 30 31 32 33 34 35 36 37 38 39 40 41 42 43 44 45 46 47\n",
      " 48 49 50 51 52 53 54 55 56 57 58 59 60 61 62 63 64 65 66 67 68 69 70 71\n",
      " 72 73 74 75 76 77 78 79 80 81 82 83 84 85 86 87 88 89 90 91 92 93 94 95\n",
      " 96 97 98 99]\n"
     ]
    }
   ],
   "source": [
    "arr7 = np.arange(100) #arrange numbers till 100\n",
    "print(arr7)"
   ]
  },
  {
   "cell_type": "code",
   "execution_count": 28,
   "id": "439357d6",
   "metadata": {},
   "outputs": [
    {
     "name": "stdout",
     "output_type": "stream",
     "text": [
      "[20 23 26 29 32 35 38 41 44 47 50 53 56 59 62 65 68 71 74 77 80 83 86 89\n",
      " 92 95 98]\n"
     ]
    }
   ],
   "source": [
    "arr7 = np.arange(20, 100, 3)\n",
    "print(arr7) #arrange numbers from 20 till 100 skipping 2"
   ]
  },
  {
   "cell_type": "markdown",
   "id": "2600684a",
   "metadata": {},
   "source": [
    "NOTE: range() function doesn\" create a list of numbers, it is used as an iterator in a loop\n",
    "In order to create a list, it needs to be defined as print(list(range(0,10)))"
   ]
  },
  {
   "cell_type": "code",
   "execution_count": 29,
   "id": "f0313355",
   "metadata": {},
   "outputs": [
    {
     "name": "stdout",
     "output_type": "stream",
     "text": [
      "range(0, 10)\n"
     ]
    }
   ],
   "source": [
    "print(range(0,10))"
   ]
  },
  {
   "cell_type": "code",
   "execution_count": 30,
   "id": "6159a6e1",
   "metadata": {},
   "outputs": [
    {
     "name": "stdout",
     "output_type": "stream",
     "text": [
      "[0, 1, 2, 3, 4, 5, 6, 7, 8, 9]\n"
     ]
    }
   ],
   "source": [
    "print(list(range(0,10)))"
   ]
  },
  {
   "cell_type": "markdown",
   "id": "7dbf4737",
   "metadata": {},
   "source": [
    "Random"
   ]
  },
  {
   "cell_type": "code",
   "execution_count": 31,
   "id": "4d6b6a13",
   "metadata": {},
   "outputs": [
    {
     "name": "stdout",
     "output_type": "stream",
     "text": [
      "[0 5 3 6 2 8 9 1 4 7]\n"
     ]
    }
   ],
   "source": [
    "arr8 = np.random.permutation(np.arange(10)) #creates a random shuffled list from 0 to 10\n",
    "print(arr8)"
   ]
  },
  {
   "cell_type": "code",
   "execution_count": 32,
   "id": "e540f0f3",
   "metadata": {},
   "outputs": [],
   "source": [
    "v = np.random.randint(20, 300) #generates a random integer between the defined range"
   ]
  },
  {
   "cell_type": "code",
   "execution_count": 33,
   "id": "b3954ae6",
   "metadata": {},
   "outputs": [
    {
     "data": {
      "text/plain": [
       "int"
      ]
     },
     "execution_count": 33,
     "metadata": {},
     "output_type": "execute_result"
    }
   ],
   "source": [
    "type(v)"
   ]
  },
  {
   "cell_type": "code",
   "execution_count": 34,
   "id": "a54bdcbb",
   "metadata": {},
   "outputs": [],
   "source": [
    "matrixA = np.random.rand(10)"
   ]
  },
  {
   "cell_type": "code",
   "execution_count": 35,
   "id": "5eade0f4",
   "metadata": {},
   "outputs": [
    {
     "data": {
      "text/plain": [
       "array([0.75242438, 0.78973994, 0.33507014, 0.7073797 , 0.58137162,\n",
       "       0.91588697, 0.85087246, 0.01470799, 0.65487362, 0.86190879])"
      ]
     },
     "execution_count": 35,
     "metadata": {},
     "output_type": "execute_result"
    }
   ],
   "source": [
    "matrixA #the value of A can be any random value number until 10"
   ]
  },
  {
   "cell_type": "code",
   "execution_count": 36,
   "id": "29086d1c",
   "metadata": {},
   "outputs": [],
   "source": [
    "C = np.random.rand(2,3) #generates a random 2d array"
   ]
  },
  {
   "cell_type": "code",
   "execution_count": 37,
   "id": "8b68479c",
   "metadata": {},
   "outputs": [
    {
     "data": {
      "text/plain": [
       "array([[0.75382806, 0.49964989, 0.36693898],\n",
       "       [0.52602165, 0.26473254, 0.0387357 ]])"
      ]
     },
     "execution_count": 37,
     "metadata": {},
     "output_type": "execute_result"
    }
   ],
   "source": [
    "C"
   ]
  },
  {
   "cell_type": "code",
   "execution_count": 38,
   "id": "b953b89f",
   "metadata": {},
   "outputs": [
    {
     "data": {
      "text/plain": [
       "2"
      ]
     },
     "execution_count": 38,
     "metadata": {},
     "output_type": "execute_result"
    }
   ],
   "source": [
    "C.ndim"
   ]
  },
  {
   "cell_type": "code",
   "execution_count": 39,
   "id": "e51a7b4d",
   "metadata": {},
   "outputs": [
    {
     "data": {
      "text/plain": [
       "4"
      ]
     },
     "execution_count": 39,
     "metadata": {},
     "output_type": "execute_result"
    }
   ],
   "source": [
    "C = np.random.rand(2,3,4,2) #generates a random 4d array containing values from 1 to 10\n",
    "C.ndim"
   ]
  },
  {
   "cell_type": "code",
   "execution_count": 40,
   "id": "a9a500bb",
   "metadata": {},
   "outputs": [
    {
     "data": {
      "text/plain": [
       "array([[[[0.58149311, 0.03119456],\n",
       "         [0.77973105, 0.67308256],\n",
       "         [0.65432758, 0.16630104],\n",
       "         [0.15433535, 0.19588349]],\n",
       "\n",
       "        [[0.62620065, 0.88721771],\n",
       "         [0.71267708, 0.41117269],\n",
       "         [0.0066222 , 0.72459713],\n",
       "         [0.65913731, 0.1876588 ]],\n",
       "\n",
       "        [[0.2860056 , 0.6700325 ],\n",
       "         [0.92791301, 0.56631422],\n",
       "         [0.88267766, 0.65334855],\n",
       "         [0.06655277, 0.22440501]]],\n",
       "\n",
       "\n",
       "       [[[0.78543196, 0.5620145 ],\n",
       "         [0.65896034, 0.05175869],\n",
       "         [0.14021515, 0.56226224],\n",
       "         [0.23491994, 0.33115279]],\n",
       "\n",
       "        [[0.67370047, 0.22562522],\n",
       "         [0.15869751, 0.35121372],\n",
       "         [0.79070582, 0.28852211],\n",
       "         [0.15745933, 0.24232854]],\n",
       "\n",
       "        [[0.53413763, 0.21835623],\n",
       "         [0.80493404, 0.13586249],\n",
       "         [0.82347161, 0.28180207],\n",
       "         [0.21133121, 0.18943686]]]])"
      ]
     },
     "execution_count": 40,
     "metadata": {},
     "output_type": "execute_result"
    }
   ],
   "source": [
    "C"
   ]
  },
  {
   "cell_type": "code",
   "execution_count": 41,
   "id": "5674e081",
   "metadata": {},
   "outputs": [],
   "source": [
    "D = np.arange(100).reshape(4,25)  #100 values are arranged in a (4,25) matrix"
   ]
  },
  {
   "cell_type": "code",
   "execution_count": 42,
   "id": "f39347a2",
   "metadata": {},
   "outputs": [
    {
     "data": {
      "text/plain": [
       "(4, 25)"
      ]
     },
     "execution_count": 42,
     "metadata": {},
     "output_type": "execute_result"
    }
   ],
   "source": [
    "D.shape #shows the matrix shape(rows, columns)"
   ]
  },
  {
   "cell_type": "code",
   "execution_count": 43,
   "id": "a702aed1",
   "metadata": {},
   "outputs": [
    {
     "data": {
      "text/plain": [
       "(4, 5, 5)"
      ]
     },
     "execution_count": 43,
     "metadata": {},
     "output_type": "execute_result"
    }
   ],
   "source": [
    "D = np.arange(100).reshape(4,5,5)\n",
    "D.shape"
   ]
  },
  {
   "cell_type": "markdown",
   "id": "94588aa8",
   "metadata": {},
   "source": [
    "Numpy (Slicing)"
   ]
  },
  {
   "cell_type": "code",
   "execution_count": 44,
   "id": "eab169c6",
   "metadata": {},
   "outputs": [
    {
     "data": {
      "text/plain": [
       "array([1, 3, 7])"
      ]
     },
     "execution_count": 44,
     "metadata": {},
     "output_type": "execute_result"
    }
   ],
   "source": [
    "a[1:5] #index 1 till 5 but not 5\n",
    "a[:5] #index 0 till 5 but not 5\n",
    "a[:5] #index 0 till 5 but not 5\n",
    "a[2:] #index 2 till end including last element\n",
    "a[::-1] #from end till start (reverse the array)\n",
    "a[::2] #from start till end every other element"
   ]
  },
  {
   "cell_type": "code",
   "execution_count": 45,
   "id": "6205b01c",
   "metadata": {},
   "outputs": [
    {
     "name": "stdout",
     "output_type": "stream",
     "text": [
      "[3 4 5 6 7 8 9]\n"
     ]
    }
   ],
   "source": [
    "matrixA = np.arange(100)\n",
    "matrixB = matrixA[3:10]\n",
    "print(matrixB)"
   ]
  },
  {
   "cell_type": "code",
   "execution_count": 46,
   "id": "410b9e25",
   "metadata": {},
   "outputs": [],
   "source": [
    "matrixB[0] = -1200"
   ]
  },
  {
   "cell_type": "code",
   "execution_count": 47,
   "id": "bdedd6ee",
   "metadata": {},
   "outputs": [
    {
     "data": {
      "text/plain": [
       "array([-1200,     4,     5,     6,     7,     8,     9])"
      ]
     },
     "execution_count": 47,
     "metadata": {},
     "output_type": "execute_result"
    }
   ],
   "source": [
    "matrixB"
   ]
  },
  {
   "cell_type": "code",
   "execution_count": 48,
   "id": "516c5aca",
   "metadata": {},
   "outputs": [
    {
     "data": {
      "text/plain": [
       "array([    0,     1,     2, -1200,     4,     5,     6,     7,     8,\n",
       "           9,    10,    11,    12,    13,    14,    15,    16,    17,\n",
       "          18,    19,    20,    21,    22,    23,    24,    25,    26,\n",
       "          27,    28,    29,    30,    31,    32,    33,    34,    35,\n",
       "          36,    37,    38,    39,    40,    41,    42,    43,    44,\n",
       "          45,    46,    47,    48,    49,    50,    51,    52,    53,\n",
       "          54,    55,    56,    57,    58,    59,    60,    61,    62,\n",
       "          63,    64,    65,    66,    67,    68,    69,    70,    71,\n",
       "          72,    73,    74,    75,    76,    77,    78,    79,    80,\n",
       "          81,    82,    83,    84,    85,    86,    87,    88,    89,\n",
       "          90,    91,    92,    93,    94,    95,    96,    97,    98,\n",
       "          99])"
      ]
     },
     "execution_count": 48,
     "metadata": {},
     "output_type": "execute_result"
    }
   ],
   "source": [
    "matrixA #the change is affected in both A and b, same memmory is accessed"
   ]
  },
  {
   "cell_type": "code",
   "execution_count": 49,
   "id": "7dc295d0",
   "metadata": {},
   "outputs": [],
   "source": [
    "matrixB = matrixA[3:10].copy() #this way the changes in b will not affect A anymore"
   ]
  },
  {
   "cell_type": "code",
   "execution_count": 50,
   "id": "0c6f7768",
   "metadata": {},
   "outputs": [
    {
     "data": {
      "text/plain": [
       "array([ 0,  5, 10, 15, 20, 25, 30, 35, 40, 45, 50, 55, 60, 65, 70, 75, 80,\n",
       "       85, 90, 95])"
      ]
     },
     "execution_count": 50,
     "metadata": {},
     "output_type": "execute_result"
    }
   ],
   "source": [
    "matrixA[::5]"
   ]
  },
  {
   "cell_type": "code",
   "execution_count": 51,
   "id": "0867a8fb",
   "metadata": {},
   "outputs": [
    {
     "data": {
      "text/plain": [
       "array([99, 94, 89, 84, 79, 74, 69, 64, 59, 54, 49, 44, 39, 34, 29, 24, 19,\n",
       "       14,  9,  4])"
      ]
     },
     "execution_count": 51,
     "metadata": {},
     "output_type": "execute_result"
    }
   ],
   "source": [
    "matrixA[::-5]"
   ]
  },
  {
   "cell_type": "code",
   "execution_count": 52,
   "id": "4cc17ab4",
   "metadata": {},
   "outputs": [
    {
     "data": {
      "text/plain": [
       "array([   99,    98,    97,    96,    95,    94,    93,    92,    91,\n",
       "          90,    89,    88,    87,    86,    85,    84,    83,    82,\n",
       "          81,    80,    79,    78,    77,    76,    75,    74,    73,\n",
       "          72,    71,    70,    69,    68,    67,    66,    65,    64,\n",
       "          63,    62,    61,    60,    59,    58,    57,    56,    55,\n",
       "          54,    53,    52,    51,    50,    49,    48,    47,    46,\n",
       "          45,    44,    43,    42,    41,    40,    39,    38,    37,\n",
       "          36,    35,    34,    33,    32,    31,    30,    29,    28,\n",
       "          27,    26,    25,    24,    23,    22,    21,    20,    19,\n",
       "          18,    17,    16,    15,    14,    13,    12,    11,    10,\n",
       "           9,     8,     7,     6,     5,     4, -1200,     2,     1,\n",
       "           0])"
      ]
     },
     "execution_count": 52,
     "metadata": {},
     "output_type": "execute_result"
    }
   ],
   "source": [
    "matrixA[::-1]"
   ]
  },
  {
   "cell_type": "code",
   "execution_count": 53,
   "id": "43a98da0",
   "metadata": {},
   "outputs": [],
   "source": [
    "#find out the indice of the element in numpy array\n",
    "elementIndex = np.argwhere(matrixA == -1200)[0][0] #index of the element -1200 will be returned"
   ]
  },
  {
   "cell_type": "code",
   "execution_count": 54,
   "id": "2c2f5bd7",
   "metadata": {},
   "outputs": [
    {
     "data": {
      "text/plain": [
       "np.int64(3)"
      ]
     },
     "execution_count": 54,
     "metadata": {},
     "output_type": "execute_result"
    }
   ],
   "source": [
    "elementIndex"
   ]
  },
  {
   "cell_type": "code",
   "execution_count": 55,
   "id": "51e68b9d",
   "metadata": {},
   "outputs": [],
   "source": [
    "matrixA[elementIndex] = 3 #substiuting the element at that index with 3"
   ]
  },
  {
   "cell_type": "code",
   "execution_count": 56,
   "id": "2592c6a4",
   "metadata": {},
   "outputs": [
    {
     "data": {
      "text/plain": [
       "array([ 0,  1,  2,  3,  4,  5,  6,  7,  8,  9, 10, 11, 12, 13, 14, 15, 16,\n",
       "       17, 18, 19, 20, 21, 22, 23, 24, 25, 26, 27, 28, 29, 30, 31, 32, 33,\n",
       "       34, 35, 36, 37, 38, 39, 40, 41, 42, 43, 44, 45, 46, 47, 48, 49, 50,\n",
       "       51, 52, 53, 54, 55, 56, 57, 58, 59, 60, 61, 62, 63, 64, 65, 66, 67,\n",
       "       68, 69, 70, 71, 72, 73, 74, 75, 76, 77, 78, 79, 80, 81, 82, 83, 84,\n",
       "       85, 86, 87, 88, 89, 90, 91, 92, 93, 94, 95, 96, 97, 98, 99])"
      ]
     },
     "execution_count": 56,
     "metadata": {},
     "output_type": "execute_result"
    }
   ],
   "source": [
    "matrixA"
   ]
  },
  {
   "cell_type": "code",
   "execution_count": 57,
   "id": "1a2fb878",
   "metadata": {},
   "outputs": [],
   "source": [
    "#np.random.rand  generates random values from 1 to 10\n",
    "matrixA = np.round(10*np.random.rand(5, 4)) #matrix generated of 5 rows, 4 columns mulitplied by 10 and rounded off"
   ]
  },
  {
   "cell_type": "code",
   "execution_count": 58,
   "id": "52ec0efb",
   "metadata": {},
   "outputs": [
    {
     "data": {
      "text/plain": [
       "array([[10.,  8.,  3., 10.],\n",
       "       [ 8.,  1.,  9.,  5.],\n",
       "       [ 4.,  1.,  9.,  4.],\n",
       "       [ 8.,  6.,  1.,  3.],\n",
       "       [ 6.,  5.,  8.,  7.]])"
      ]
     },
     "execution_count": 58,
     "metadata": {},
     "output_type": "execute_result"
    }
   ],
   "source": [
    "matrixA #rows indices starting from 0,1,2 etc..\n",
    "        #column indices starting from 0,1,2 etc."
   ]
  },
  {
   "cell_type": "code",
   "execution_count": 59,
   "id": "b72f8a2f",
   "metadata": {},
   "outputs": [
    {
     "data": {
      "text/plain": [
       "np.float64(9.0)"
      ]
     },
     "execution_count": 59,
     "metadata": {},
     "output_type": "execute_result"
    }
   ],
   "source": [
    "#row 1 has index 0, column 1 has index 0\n",
    "#this means row 2, column 3\n",
    "matrixA[1,2] "
   ]
  },
  {
   "cell_type": "code",
   "execution_count": 60,
   "id": "50e7bad3",
   "metadata": {},
   "outputs": [
    {
     "data": {
      "text/plain": [
       "array([8., 1., 9., 5.])"
      ]
     },
     "execution_count": 60,
     "metadata": {},
     "output_type": "execute_result"
    }
   ],
   "source": [
    "matrixA[1, :] #to access the whole 2nd row"
   ]
  },
  {
   "cell_type": "code",
   "execution_count": 61,
   "id": "f356259f",
   "metadata": {},
   "outputs": [
    {
     "data": {
      "text/plain": [
       "array([8., 1., 1., 6., 5.])"
      ]
     },
     "execution_count": 61,
     "metadata": {},
     "output_type": "execute_result"
    }
   ],
   "source": [
    "matrixA[:, 1] #to access the whole 2nd column"
   ]
  },
  {
   "cell_type": "code",
   "execution_count": 62,
   "id": "463c1187",
   "metadata": {},
   "outputs": [
    {
     "data": {
      "text/plain": [
       "array([[9., 5.],\n",
       "       [9., 4.]])"
      ]
     },
     "execution_count": 62,
     "metadata": {},
     "output_type": "execute_result"
    }
   ],
   "source": [
    "matrixA[1:3, 2:4] #picks up rows from indices 1 to 3, not including 3 and columns with indices(2:4)"
   ]
  },
  {
   "cell_type": "code",
   "execution_count": 63,
   "id": "54e6f27d",
   "metadata": {},
   "outputs": [
    {
     "data": {
      "text/plain": [
       "array([[10.,  8.,  4.,  8.,  6.],\n",
       "       [ 8.,  1.,  1.,  6.,  5.],\n",
       "       [ 3.,  9.,  9.,  1.,  8.],\n",
       "       [10.,  5.,  4.,  3.,  7.]])"
      ]
     },
     "execution_count": 63,
     "metadata": {},
     "output_type": "execute_result"
    }
   ],
   "source": [
    "matrixA.T"
   ]
  },
  {
   "cell_type": "code",
   "execution_count": 64,
   "id": "b979236e",
   "metadata": {},
   "outputs": [],
   "source": [
    "import numpy.linalg as la"
   ]
  },
  {
   "cell_type": "code",
   "execution_count": 65,
   "id": "c33fe010",
   "metadata": {},
   "outputs": [
    {
     "data": {
      "text/plain": [
       "array([[  1.14747528,  -2.24615676,   5.63104318],\n",
       "       [  4.42816751,  -5.55881812,   8.82575029],\n",
       "       [ -3.96267167,   6.9932704 , -11.60232104]])"
      ]
     },
     "execution_count": 65,
     "metadata": {},
     "output_type": "execute_result"
    }
   ],
   "source": [
    "la.inv(np.random.rand(3,3))"
   ]
  },
  {
   "cell_type": "code",
   "execution_count": 66,
   "id": "ac85c7f1",
   "metadata": {},
   "outputs": [
    {
     "data": {
      "text/plain": [
       "array([[ 4.,  1.,  1.,  3.],\n",
       "       [ 6.,  1.,  3.,  4.],\n",
       "       [ 8.,  5.,  8.,  5.],\n",
       "       [ 8.,  6.,  9.,  7.],\n",
       "       [10.,  8.,  9., 10.]])"
      ]
     },
     "execution_count": 66,
     "metadata": {},
     "output_type": "execute_result"
    }
   ],
   "source": [
    "matrixA.sort(axis=0) #sorting all columns individually\n",
    "matrixA"
   ]
  },
  {
   "cell_type": "code",
   "execution_count": 67,
   "id": "bede4d87",
   "metadata": {},
   "outputs": [
    {
     "data": {
      "text/plain": [
       "array([[ 1.,  1.,  3.,  4.],\n",
       "       [ 1.,  3.,  4.,  6.],\n",
       "       [ 5.,  5.,  8.,  8.],\n",
       "       [ 6.,  7.,  8.,  9.],\n",
       "       [ 8.,  9., 10., 10.]])"
      ]
     },
     "execution_count": 67,
     "metadata": {},
     "output_type": "execute_result"
    }
   ],
   "source": [
    "matrixA.sort(axis=1) #every row individually is sorted\n",
    "matrixA\n"
   ]
  },
  {
   "cell_type": "code",
   "execution_count": 68,
   "id": "1f063aad",
   "metadata": {},
   "outputs": [],
   "source": [
    "#Depending on the dimensionality of the array, axis = 0,1,2,..., the array can be sorted"
   ]
  },
  {
   "cell_type": "markdown",
   "id": "625a252d",
   "metadata": {},
   "source": [
    "Numpy(More Indexing)"
   ]
  },
  {
   "cell_type": "code",
   "execution_count": 69,
   "id": "1f60880c",
   "metadata": {},
   "outputs": [
    {
     "data": {
      "text/plain": [
       "array([3, 5, 6])"
      ]
     },
     "execution_count": 69,
     "metadata": {},
     "output_type": "execute_result"
    }
   ],
   "source": [
    "matrixA = np.arange(100)\n",
    "matrixB = matrixA[[3,5,6]] #copied 3th, 4th and 5th element from matrixA and added to matrixB\n",
    "matrixB\n",
    "\n"
   ]
  },
  {
   "cell_type": "code",
   "execution_count": 70,
   "id": "4e3696f1",
   "metadata": {},
   "outputs": [
    {
     "data": {
      "text/plain": [
       "array([-4,  5,  6])"
      ]
     },
     "execution_count": 70,
     "metadata": {},
     "output_type": "execute_result"
    }
   ],
   "source": [
    "matrixB[0] = -4 #this change will happen only in matrixB not in matrixA\n",
    "matrixB\n",
    "\n",
    "#note: slicing will change both the parent matrix and the new matrix # matrixB = matrixA[3:10]"
   ]
  },
  {
   "cell_type": "code",
   "execution_count": 71,
   "id": "b91936d2",
   "metadata": {},
   "outputs": [
    {
     "data": {
      "text/plain": [
       "array([ 0,  1,  2,  3,  4,  5,  6,  7,  8,  9, 10, 11, 12, 13, 14, 15, 16,\n",
       "       17, 18, 19, 20, 21, 22, 23, 24, 25, 26, 27, 28, 29, 30, 31, 32, 33,\n",
       "       34, 35, 36, 37, 38, 39, 40, 41, 42, 43, 44, 45, 46, 47, 48, 49, 50,\n",
       "       51, 52, 53, 54, 55, 56, 57, 58, 59, 60, 61, 62, 63, 64, 65, 66, 67,\n",
       "       68, 69, 70, 71, 72, 73, 74, 75, 76, 77, 78, 79, 80, 81, 82, 83, 84,\n",
       "       85, 86, 87, 88, 89, 90, 91, 92, 93, 94, 95, 96, 97, 98, 99])"
      ]
     },
     "execution_count": 71,
     "metadata": {},
     "output_type": "execute_result"
    }
   ],
   "source": [
    "matrixA"
   ]
  },
  {
   "cell_type": "code",
   "execution_count": 72,
   "id": "dfa1030f",
   "metadata": {},
   "outputs": [
    {
     "data": {
      "text/plain": [
       "array([31, 32, 33, 34, 35, 36, 37, 38, 39])"
      ]
     },
     "execution_count": 72,
     "metadata": {},
     "output_type": "execute_result"
    }
   ],
   "source": [
    "matrixB = matrixA[(matrixA<40) & (matrixA>30)]\n",
    "matrixB\n"
   ]
  },
  {
   "cell_type": "code",
   "execution_count": 73,
   "id": "b1454720",
   "metadata": {},
   "outputs": [
    {
     "data": {
      "text/plain": [
       "'note: symbols used for arrays and true-false are different\\n        Arrays      True or False\\n           &           and\\n           |            or\\n           ~           not\\n'"
      ]
     },
     "execution_count": 73,
     "metadata": {},
     "output_type": "execute_result"
    }
   ],
   "source": [
    "\"\"\"note: symbols used for arrays and true-false are different\n",
    "        Arrays      True or False\n",
    "           &           and\n",
    "           |            or\n",
    "           ~           not\n",
    "\"\"\""
   ]
  },
  {
   "cell_type": "markdown",
   "id": "b5165c48",
   "metadata": {},
   "source": [
    "Numpy(Broadcasting)"
   ]
  },
  {
   "cell_type": "code",
   "execution_count": 74,
   "id": "87388379",
   "metadata": {},
   "outputs": [
    {
     "data": {
      "text/plain": [
       "'np.hstack\\n   np.vstack\\n   np.sort'"
      ]
     },
     "execution_count": 74,
     "metadata": {},
     "output_type": "execute_result"
    }
   ],
   "source": [
    "\"\"\"np.hstack\n",
    "   np.vstack\n",
    "   np.sort\"\"\""
   ]
  },
  {
   "cell_type": "code",
   "execution_count": 75,
   "id": "9fb2c897",
   "metadata": {},
   "outputs": [
    {
     "data": {
      "text/plain": [
       "array([[6., 7., 7.],\n",
       "       [7., 5., 5.]])"
      ]
     },
     "execution_count": 75,
     "metadata": {},
     "output_type": "execute_result"
    }
   ],
   "source": [
    "import numpy as np\n",
    "matrixA = np.round(10*np.random.rand(2,3))\n",
    "matrixA\n"
   ]
  },
  {
   "cell_type": "code",
   "execution_count": 76,
   "id": "a5435384",
   "metadata": {},
   "outputs": [
    {
     "data": {
      "text/plain": [
       "array([[ 9., 10., 10.],\n",
       "       [10.,  8.,  8.]])"
      ]
     },
     "execution_count": 76,
     "metadata": {},
     "output_type": "execute_result"
    }
   ],
   "source": [
    "matrixA+3"
   ]
  },
  {
   "cell_type": "code",
   "execution_count": 77,
   "id": "a0ded30b",
   "metadata": {},
   "outputs": [
    {
     "data": {
      "text/plain": [
       "array([[6., 7., 7.],\n",
       "       [8., 6., 6.]])"
      ]
     },
     "execution_count": 77,
     "metadata": {},
     "output_type": "execute_result"
    }
   ],
   "source": [
    "matrixA+(np.arange(2).reshape(2,1)) #every column of matrixA adds to the column of new generated matrix"
   ]
  },
  {
   "cell_type": "code",
   "execution_count": 78,
   "id": "092289f3",
   "metadata": {},
   "outputs": [
    {
     "data": {
      "text/plain": [
       "array([[6., 7., 7.],\n",
       "       [7., 5., 5.]])"
      ]
     },
     "execution_count": 78,
     "metadata": {},
     "output_type": "execute_result"
    }
   ],
   "source": [
    "matrixA"
   ]
  },
  {
   "cell_type": "code",
   "execution_count": 79,
   "id": "422dfa2e",
   "metadata": {},
   "outputs": [
    {
     "data": {
      "text/plain": [
       "array([[7., 5.],\n",
       "       [6., 6.]])"
      ]
     },
     "execution_count": 79,
     "metadata": {},
     "output_type": "execute_result"
    }
   ],
   "source": [
    "matrixB = np.round(10*np.random.rand(2,2))\n",
    "matrixB\n"
   ]
  },
  {
   "cell_type": "code",
   "execution_count": 80,
   "id": "6e78160d",
   "metadata": {},
   "outputs": [
    {
     "data": {
      "text/plain": [
       "array([[6., 7., 7., 7., 5.],\n",
       "       [7., 5., 5., 6., 6.]])"
      ]
     },
     "execution_count": 80,
     "metadata": {},
     "output_type": "execute_result"
    }
   ],
   "source": [
    "matrixC = np.hstack((matrixA, matrixB))\n",
    "# to stack these matrices together, they are written as tuples inside the hstack function\n",
    "matrixC"
   ]
  },
  {
   "cell_type": "code",
   "execution_count": 81,
   "id": "03276388",
   "metadata": {},
   "outputs": [
    {
     "data": {
      "text/plain": [
       "array([2, 1, 3, 4, 6, 5, 0, 8, 9, 7])"
      ]
     },
     "execution_count": 81,
     "metadata": {},
     "output_type": "execute_result"
    }
   ],
   "source": [
    "matrixD = np.random.permutation (np.arange(10))\n",
    "matrixD"
   ]
  },
  {
   "cell_type": "code",
   "execution_count": 82,
   "id": "2ec0693b",
   "metadata": {},
   "outputs": [
    {
     "data": {
      "text/plain": [
       "array([0, 1, 2, 3, 4, 5, 6, 7, 8, 9])"
      ]
     },
     "execution_count": 82,
     "metadata": {},
     "output_type": "execute_result"
    }
   ],
   "source": [
    "matrixD.sort() #sorted in ascending order\n",
    "matrixD"
   ]
  },
  {
   "cell_type": "code",
   "execution_count": 83,
   "id": "bf542f9a",
   "metadata": {},
   "outputs": [
    {
     "data": {
      "text/plain": [
       "array([0, 1, 2, 3, 4, 5, 6, 7, 8, 9])"
      ]
     },
     "execution_count": 83,
     "metadata": {},
     "output_type": "execute_result"
    }
   ],
   "source": [
    "np.sort(matrixD) #sorted in ascending order (another way)"
   ]
  },
  {
   "cell_type": "code",
   "execution_count": 84,
   "id": "b8fcc047",
   "metadata": {},
   "outputs": [
    {
     "data": {
      "text/plain": [
       "array([9, 8, 7, 6, 5, 4, 3, 2, 1, 0])"
      ]
     },
     "execution_count": 84,
     "metadata": {},
     "output_type": "execute_result"
    }
   ],
   "source": [
    "matrixD = matrixD[::-1] #sorted in descending order\n",
    "matrixD"
   ]
  },
  {
   "cell_type": "code",
   "execution_count": 85,
   "id": "deafc88b",
   "metadata": {},
   "outputs": [],
   "source": [
    "matrixE = np.array([\"apple\", \"grapes\", \"banana\", \"mango\"])"
   ]
  },
  {
   "cell_type": "code",
   "execution_count": 86,
   "id": "dff874ae",
   "metadata": {},
   "outputs": [
    {
     "data": {
      "text/plain": [
       "array(['apple', 'banana', 'grapes', 'mango'], dtype='<U6')"
      ]
     },
     "execution_count": 86,
     "metadata": {},
     "output_type": "execute_result"
    }
   ],
   "source": [
    "matrixE.sort() \n",
    "#note: strings can also be sorted in numpy as per the alphabetical order\n",
    "matrixE"
   ]
  },
  {
   "cell_type": "markdown",
   "id": "bc9db834",
   "metadata": {},
   "source": [
    "Numpy(Speed: ufuncs)"
   ]
  },
  {
   "cell_type": "code",
   "execution_count": 87,
   "id": "7a6dc8a4",
   "metadata": {},
   "outputs": [
    {
     "name": "stdout",
     "output_type": "stream",
     "text": [
      "4.34 ms ± 202 μs per loop (mean ± std. dev. of 7 runs, 100 loops each)\n",
      "CPU times: total: 0 ns\n",
      "Wall time: 407 μs\n"
     ]
    },
    {
     "data": {
      "text/plain": [
       "np.float64(49960.899264324)"
      ]
     },
     "execution_count": 87,
     "metadata": {},
     "output_type": "execute_result"
    }
   ],
   "source": [
    "matrixF = np.random.rand(100000)\n",
    "%timeit sum(matrixF)\n",
    "%time np.sum(matrixF)  #Universal function is much faster"
   ]
  },
  {
   "cell_type": "code",
   "execution_count": 88,
   "id": "fd4cb9d7",
   "metadata": {},
   "outputs": [],
   "source": [
    "def mySum(G):\n",
    "    sum = 0\n",
    "    for x in G:\n",
    "        sum += x\n",
    "    return sum"
   ]
  },
  {
   "cell_type": "code",
   "execution_count": 89,
   "id": "76d099bc",
   "metadata": {},
   "outputs": [
    {
     "name": "stdout",
     "output_type": "stream",
     "text": [
      "5.41 ms ± 69.6 μs per loop (mean ± std. dev. of 7 runs, 100 loops each)\n"
     ]
    }
   ],
   "source": [
    "%timeit mySum(matrixF)"
   ]
  }
 ],
 "metadata": {
  "kernelspec": {
   "display_name": ".venv",
   "language": "python",
   "name": "python3"
  },
  "language_info": {
   "codemirror_mode": {
    "name": "ipython",
    "version": 3
   },
   "file_extension": ".py",
   "mimetype": "text/x-python",
   "name": "python",
   "nbconvert_exporter": "python",
   "pygments_lexer": "ipython3",
   "version": "3.13.9"
  }
 },
 "nbformat": 4,
 "nbformat_minor": 5
}
