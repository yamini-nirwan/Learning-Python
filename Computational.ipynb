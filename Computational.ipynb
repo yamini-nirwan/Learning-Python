{
 "cells": [
  {
   "cell_type": "code",
   "execution_count": null,
   "id": "fe8b6edd",
   "metadata": {},
   "outputs": [],
   "source": [
    "#Tuples consists of a number of values separated by commas and snclosed in parantheses\n"
   ]
  },
  {
   "cell_type": "code",
   "execution_count": null,
   "id": "0d4839a3",
   "metadata": {},
   "outputs": [],
   "source": [
    "tup1 = ( \"physics\", \"chemistry\", \"maths\", \"english\", \"biology\" );\n",
    "tup2 =  (1, 2, 3, 4, 5);\n",
    "tup3 = \"a\", \"b\", \"c\", \"d\", \"e\";\n",
    "tup4 = ()\n",
    "tup5 = (50,);"
   ]
  },
  {
   "cell_type": "code",
   "execution_count": null,
   "id": "4377732a",
   "metadata": {},
   "outputs": [
    {
     "name": "stdout",
     "output_type": "stream",
     "text": [
      "physics\n",
      "(1, 2)\n"
     ]
    }
   ],
   "source": [
    "print(tup1 [0])\n",
    "print(tup2 [0:2])"
   ]
  },
  {
   "cell_type": "code",
   "execution_count": null,
   "id": "8d4037e6",
   "metadata": {},
   "outputs": [],
   "source": [
    "import sys"
   ]
  },
  {
   "cell_type": "code",
   "execution_count": null,
   "id": "95823825",
   "metadata": {},
   "outputs": [
    {
     "name": "stdout",
     "output_type": "stream",
     "text": [
      "['__breakpointhook__', '__displayhook__', '__doc__', '__excepthook__', '__interactivehook__', '__loader__', '__name__', '__package__', '__spec__', '__stderr__', '__stdin__', '__stdout__', '__unraisablehook__', '_base_executable', '_baserepl', '_clear_internal_caches', '_clear_type_cache', '_current_exceptions', '_current_frames', '_debugmallocstats', '_enablelegacywindowsfsencoding', '_framework', '_get_cpu_count_config', '_getframe', '_getframemodulename', '_git', '_home', '_is_gil_enabled', '_is_interned', '_setprofileallthreads', '_settraceallthreads', '_stdlib_dir', '_vpath', '_xoptions', 'activate_stack_trampoline', 'addaudithook', 'api_version', 'argv', 'audit', 'base_exec_prefix', 'base_prefix', 'breakpointhook', 'builtin_module_names', 'byteorder', 'call_tracing', 'copyright', 'deactivate_stack_trampoline', 'displayhook', 'dllhandle', 'dont_write_bytecode', 'exc_info', 'excepthook', 'exception', 'exec_prefix', 'executable', 'exit', 'flags', 'float_info', 'float_repr_style', 'get_asyncgen_hooks', 'get_coroutine_origin_tracking_depth', 'get_int_max_str_digits', 'getallocatedblocks', 'getdefaultencoding', 'getfilesystemencodeerrors', 'getfilesystemencoding', 'getprofile', 'getrecursionlimit', 'getrefcount', 'getsizeof', 'getswitchinterval', 'gettrace', 'getunicodeinternedsize', 'getwindowsversion', 'hash_info', 'hexversion', 'implementation', 'int_info', 'intern', 'is_finalizing', 'is_stack_trampoline_active', 'maxsize', 'maxunicode', 'meta_path', 'modules', 'monitoring', 'orig_argv', 'path', 'path_hooks', 'path_importer_cache', 'platform', 'platlibdir', 'prefix', 'ps1', 'ps2', 'ps3', 'pycache_prefix', 'set_asyncgen_hooks', 'set_coroutine_origin_tracking_depth', 'set_int_max_str_digits', 'setprofile', 'setrecursionlimit', 'setswitchinterval', 'settrace', 'stderr', 'stdin', 'stdlib_module_names', 'stdout', 'thread_info', 'unraisablehook', 'version', 'version_info', 'warnoptions', 'winver']\n"
     ]
    }
   ],
   "source": [
    "print (dir (sys))"
   ]
  },
  {
   "cell_type": "code",
   "execution_count": null,
   "id": "6d8cf04e",
   "metadata": {},
   "outputs": [
    {
     "name": "stdout",
     "output_type": "stream",
     "text": [
      "Help on built-in function getsizeof in module sys:\n",
      "\n",
      "getsizeof(...)\n",
      "    getsizeof(object [, default]) -> int\n",
      "\n",
      "    Return the size of object in bytes.\n",
      "\n",
      "None\n"
     ]
    }
   ],
   "source": [
    "print (help(sys.getsizeof ))"
   ]
  },
  {
   "cell_type": "code",
   "execution_count": null,
   "id": "38e6a588",
   "metadata": {},
   "outputs": [
    {
     "name": "stdout",
     "output_type": "stream",
     "text": [
      "List size is 104\n",
      "Tuple size is 80\n"
     ]
    }
   ],
   "source": [
    "List = [\"apple\", 2, 3, 4, 5]\n",
    "Tuple = (\"apple\", 2, 3, 4, 5)\n",
    "print (\"List size is\", sys.getsizeof(List))\n",
    "print (\"Tuple size is\", sys.getsizeof(Tuple))"
   ]
  },
  {
   "cell_type": "code",
   "execution_count": null,
   "id": "5e103e07",
   "metadata": {},
   "outputs": [
    {
     "data": {
      "text/plain": [
       "False"
      ]
     },
     "execution_count": 17,
     "metadata": {},
     "output_type": "execute_result"
    }
   ],
   "source": [
    "#Tuple multiplication\n",
    "(\"Hi\")*5\n",
    "len((1, 2, 4, 5))\n",
    "#checking if 3 is in the tuple\n",
    "3 in (())"
   ]
  },
  {
   "cell_type": "code",
   "execution_count": null,
   "id": "d41407f1",
   "metadata": {},
   "outputs": [
    {
     "name": "stdout",
     "output_type": "stream",
     "text": [
      "418.40000000000003\n",
      "-313.8\n",
      "-209.20000000000002\n",
      "104.60000000000001\n",
      "209.20000000000002\n",
      "313.8\n",
      "418.40000000000003\n"
     ]
    }
   ],
   "source": [
    "#for Loops in Python\n",
    "Energy = [ 100,  -75, -50, 25, 50, 75, 100 ] #kcal\n",
    "for i in Energy: #varibales i and kj are defined\n",
    "    kj = i * 4.184\n",
    "    print(kj)\n",
    "    "
   ]
  },
  {
   "cell_type": "code",
   "execution_count": null,
   "id": "3e37698e",
   "metadata": {},
   "outputs": [],
   "source": [
    "Energy_KJ = [] #denined an empty list to put the above values in a list\n",
    "for i in Energy:\n",
    "    KJ = i * 4.184\n",
    "    Energy_KJ.append(KJ) #append the values in the list"
   ]
  },
  {
   "cell_type": "code",
   "execution_count": null,
   "id": "19722977",
   "metadata": {},
   "outputs": [
    {
     "data": {
      "text/plain": [
       "[418.40000000000003,\n",
       " -313.8,\n",
       " -209.20000000000002,\n",
       " 104.60000000000001,\n",
       " 209.20000000000002,\n",
       " 313.8,\n",
       " 418.40000000000003]"
      ]
     },
     "execution_count": 21,
     "metadata": {},
     "output_type": "execute_result"
    }
   ],
   "source": [
    "Energy_KJ "
   ]
  },
  {
   "cell_type": "markdown",
   "id": "8e6ee832",
   "metadata": {},
   "source": [
    "Making choices: logic Statements\n",
    " 1. using if in for Loops\n",
    " 2. Logic Operators\n",
    "    equal to ==\n",
    "    not equal to !=\n",
    "    greater than >\n",
    "    less than <\n",
    "    greater than or equal to >=\n",
    "    less than or equal to <="
   ]
  },
  {
   "cell_type": "code",
   "execution_count": null,
   "id": "61f8e163",
   "metadata": {},
   "outputs": [
    {
     "name": "stdout",
     "output_type": "stream",
     "text": [
      "[-75, -50]\n",
      "[-313.8, -209.20000000000002]\n"
     ]
    }
   ],
   "source": [
    "Stable_variants = [] #denined an empty list\n",
    "for i in Energy:\n",
    "    if i < 0:\n",
    "        Stable_variants.append(i)\n",
    "print(Stable_variants)\n",
    "\n",
    "Stable_Energy_KJ = [] #denined an empty list\n",
    "for KJ in Energy_KJ:\n",
    "    if KJ < 0 or KJ == 0:\n",
    "        Stable_Energy_KJ.append(KJ)\n",
    "print(Stable_Energy_KJ)\n",
    "    "
   ]
  }
 ],
 "metadata": {
  "kernelspec": {
   "display_name": ".venv",
   "language": "python",
   "name": "python3"
  },
  "language_info": {
   "codemirror_mode": {
    "name": "ipython",
    "version": 3
   },
   "file_extension": ".py",
   "mimetype": "text/x-python",
   "name": "python",
   "nbconvert_exporter": "python",
   "pygments_lexer": "ipython3",
   "version": "3.13.0"
  }
 },
 "nbformat": 4,
 "nbformat_minor": 5
}
