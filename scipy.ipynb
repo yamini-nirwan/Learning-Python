{
 "cells": [
  {
   "cell_type": "code",
   "execution_count": 3,
   "id": "15ce93d7",
   "metadata": {},
   "outputs": [],
   "source": [
    "import numpy as np\n",
    "import matplotlib.pyplot as plt\n",
    "import scipy as sp"
   ]
  },
  {
   "cell_type": "markdown",
   "id": "a78e6ba8",
   "metadata": {},
   "source": [
    "Optimization"
   ]
  },
  {
   "cell_type": "code",
   "execution_count": 5,
   "id": "b18d5003",
   "metadata": {},
   "outputs": [],
   "source": [
    "from scipy.optimize import minimize"
   ]
  },
  {
   "cell_type": "markdown",
   "id": "d2cb9af4",
   "metadata": {},
   "source": [
    "mathematical functions like \n",
    "𝑓(𝑥) we usually define them as Python functions using def or lambda."
   ]
  },
  {
   "cell_type": "code",
   "execution_count": 9,
   "id": "08d1d491",
   "metadata": {},
   "outputs": [],
   "source": [
    "def f(x):\n",
    "    return (x-3)**2\n",
    "\n",
    "res = minimize(f, 2) # Starting guess is 2"
   ]
  },
  {
   "cell_type": "code",
   "execution_count": 10,
   "id": "f8f736d4",
   "metadata": {},
   "outputs": [
    {
     "data": {
      "text/plain": [
       "  message: Optimization terminated successfully.\n",
       "  success: True\n",
       "   status: 0\n",
       "      fun: 5.551437397369767e-17\n",
       "        x: [ 3.000e+00]\n",
       "      nit: 2\n",
       "      jac: [-4.325e-13]\n",
       " hess_inv: [[ 5.000e-01]]\n",
       "     nfev: 6\n",
       "     njev: 3"
      ]
     },
     "execution_count": 10,
     "metadata": {},
     "output_type": "execute_result"
    }
   ],
   "source": [
    "res"
   ]
  },
  {
   "cell_type": "code",
   "execution_count": 15,
   "id": "6d6d8119",
   "metadata": {},
   "outputs": [
    {
     "data": {
      "text/plain": [
       "np.float64(2.999999992549203)"
      ]
     },
     "execution_count": 15,
     "metadata": {},
     "output_type": "execute_result"
    }
   ],
   "source": [
    "res.x[0] #0th element of the array"
   ]
  },
  {
   "cell_type": "markdown",
   "id": "0c9c9b17",
   "metadata": {},
   "source": [
    "Minimize $f(x,y) = (x-1)^2 + (y-2.5)^2$ subject to\n",
    " $$ x - 2y + 2 \\geq 0$$\n",
    " $$-x + 2y + 6 \\geq 0$$\n",
    " $$-x + 2y + 2 \\geq 0$$\n",
    " $$x \\geq 0$$\n",
    " $$y\\geq 0$$\n",
    "\n",
    "-  2D functions take in vector x\n",
    "- Constraints must be specified as g(x)\n",
    "- Bounds specified as rectangular\n"
   ]
  },
  {
   "cell_type": "code",
   "execution_count": 19,
   "id": "5e0be58e",
   "metadata": {},
   "outputs": [
    {
     "data": {
      "text/plain": [
       "3.25"
      ]
     },
     "execution_count": 19,
     "metadata": {},
     "output_type": "execute_result"
    }
   ],
   "source": [
    "f = lambda x: (x[0] -1)**2 + (x[1] - 2.5)**2\n",
    "f([0,1])"
   ]
  },
  {
   "cell_type": "code",
   "execution_count": 20,
   "id": "6a70ee26",
   "metadata": {},
   "outputs": [],
   "source": [
    "#here contraints is a dictionary\n",
    "cons = ({'type': 'ineq', 'fun': lambda x:   x[0] - 2*x[1] + 2},\n",
    "               {'type': 'ineq', 'fun': lambda x:  -x[0] + 2*x[1] + 6},\n",
    "               {'type': 'ineq', 'fun': lambda x:  -x[0] + 2*x[1] + 2},\n",
    " )\n",
    "bnds = ((0, None), (0, None)) #None means unbounded that means x goes from 0 to infinity and y goes from zero to infinity\n",
    "res = minimize(f, [2,0], bounds = bnds, constraints = cons) #starting guess is [2,0]"
   ]
  },
  {
   "cell_type": "code",
   "execution_count": 21,
   "id": "4420d40a",
   "metadata": {},
   "outputs": [
    {
     "data": {
      "text/plain": [
       "     message: Optimization terminated successfully\n",
       "     success: True\n",
       "      status: 0\n",
       "         fun: 0.800000001192098\n",
       "           x: [ 1.400e+00  1.700e+00]\n",
       "         nit: 3\n",
       "         jac: [ 8.000e-01 -1.600e+00]\n",
       "        nfev: 10\n",
       "        njev: 3\n",
       " multipliers: [ 8.000e-01  0.000e+00  0.000e+00]"
      ]
     },
     "execution_count": 21,
     "metadata": {},
     "output_type": "execute_result"
    }
   ],
   "source": [
    "res"
   ]
  },
  {
   "cell_type": "code",
   "execution_count": 22,
   "id": "0df8534a",
   "metadata": {},
   "outputs": [
    {
     "data": {
      "text/plain": [
       "array([1.4, 1.7])"
      ]
     },
     "execution_count": 22,
     "metadata": {},
     "output_type": "execute_result"
    }
   ],
   "source": [
    "res.x"
   ]
  },
  {
   "cell_type": "code",
   "execution_count": 26,
   "id": "2783d053",
   "metadata": {},
   "outputs": [],
   "source": [
    "#minimize?"
   ]
  },
  {
   "cell_type": "markdown",
   "id": "0d726429",
   "metadata": {},
   "source": [
    "Interpolation"
   ]
  },
  {
   "cell_type": "markdown",
   "id": "3fc82a37",
   "metadata": {},
   "source": [
    "Suppose you have the following data (I generate it here, but perhaps you collect $x$ and $y$ by means of some experiment)\n",
    "\n",
    "Basically Interpolation means, to know what happening between the data points"
   ]
  },
  {
   "cell_type": "code",
   "execution_count": 33,
   "id": "6ffe7814",
   "metadata": {},
   "outputs": [
    {
     "data": {
      "text/plain": [
       "<matplotlib.collections.PathCollection at 0x1d482a9fa10>"
      ]
     },
     "execution_count": 33,
     "metadata": {},
     "output_type": "execute_result"
    },
    {
     "data": {
      "image/png": "[encoded data removed]",
      "text/plain": [
       "<Figure size 640x480 with 1 Axes>"
      ]
     },
     "metadata": {},
     "output_type": "display_data"
    }
   ],
   "source": [
    "x = np.linspace(0, 10, 10)\n",
    "y = x**2 * np.sin(x)\n",
    "plt.scatter(x, y)\n"
   ]
  },
  {
   "cell_type": "code",
   "execution_count": 34,
   "id": "feacdc52",
   "metadata": {},
   "outputs": [],
   "source": [
    "from scipy.interpolate import interp1d"
   ]
  },
  {
   "cell_type": "code",
   "execution_count": null,
   "id": "2d074491",
   "metadata": {},
   "outputs": [],
   "source": [
    "f = interp1d(x, y, kind = 'linear') #kind can be 'linear', 'cubic', 'quadratic' interpolation\n",
    "x_dense = np.linspace(0, 10, 100) #here it means that 100 points between 0 to 10\n",
    "y_dense = f(x_dense)"
   ]
  },
  {
   "cell_type": "code",
   "execution_count": 36,
   "id": "4d26c719",
   "metadata": {},
   "outputs": [
    {
     "data": {
      "text/plain": [
       "[<matplotlib.lines.Line2D at 0x1d484c4f390>]"
      ]
     },
     "execution_count": 36,
     "metadata": {},
     "output_type": "execute_result"
    },
    {
     "data": {
      "image/png": "[encoded data removed]",
      "text/plain": [
       "<Figure size 640x480 with 1 Axes>"
      ]
     },
     "metadata": {},
     "output_type": "display_data"
    }
   ],
   "source": [
    "plt.plot(x_dense, y_dense)"
   ]
  },
  {
   "cell_type": "code",
   "execution_count": 38,
   "id": "ec415867",
   "metadata": {},
   "outputs": [],
   "source": [
    "f = interp1d(x, y, kind = 'cubic') #kind can be 'linear', 'cubic', 'quadratic' interpolation\n",
    "x_dense = np.linspace(0, 10, 100) #here it means that 100 points between 0 to 10\n",
    "y_dense = f(x_dense)"
   ]
  },
  {
   "cell_type": "code",
   "execution_count": null,
   "id": "13984eed",
   "metadata": {},
   "outputs": [
    {
     "data": {
      "text/plain": [
       "[<matplotlib.lines.Line2D at 0x1d484d20910>]"
      ]
     },
     "execution_count": 39,
     "metadata": {},
     "output_type": "execute_result"
    },
    {
     "data": {
      "image/png": "[encoded data removed]",
      "text/plain": [
       "<Figure size 640x480 with 1 Axes>"
      ]
     },
     "metadata": {},
     "output_type": "display_data"
    }
   ],
   "source": [
    "plt.plot(x_dense, y_dense) #cubic interpolation gives the smoothest curve"
   ]
  },
  {
   "cell_type": "code",
   "execution_count": null,
   "id": "03f9444e",
   "metadata": {},
   "outputs": [],
   "source": []
  }
 ],
 "metadata": {
  "kernelspec": {
   "display_name": ".venv",
   "language": "python",
   "name": "python3"
  },
  "language_info": {
   "codemirror_mode": {
    "name": "ipython",
    "version": 3
   },
   "file_extension": ".py",
   "mimetype": "text/x-python",
   "name": "python",
   "nbconvert_exporter": "python",
   "pygments_lexer": "ipython3",
   "version": "3.13.7"
  }
 },
 "nbformat": 4,
 "nbformat_minor": 5
}
