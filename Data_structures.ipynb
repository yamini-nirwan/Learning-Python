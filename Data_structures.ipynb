{
 "cells": [
  {
   "cell_type": "markdown",
   "id": "a85c5da0",
   "metadata": {},
   "source": [
    "Data Structures"
   ]
  },
  {
   "cell_type": "code",
   "execution_count": null,
   "id": "021635ac",
   "metadata": {},
   "outputs": [
    {
     "data": {
      "text/plain": [
       "'\\nList       Ordered    changeable           duplicates\\nTuple      Ordered    unchangeable         duplicates\\nSet        Unordered  addable/removable    no duplicates\\nDictionary Unordered  changeabke           no duplicate\\n'"
      ]
     },
     "execution_count": 7,
     "metadata": {},
     "output_type": "execute_result"
    }
   ],
   "source": [
    "\"\"\"\n",
    "List       Ordered    changeable           duplicates\n",
    "Tuple      Ordered    unchangeable         duplicates\n",
    "Set        Unordered  addable/removable    no duplicates\n",
    "Dictionary Unordered  changeable           no duplicate\n",
    "\"\"\""
   ]
  },
  {
   "cell_type": "code",
   "execution_count": 8,
   "id": "70510954",
   "metadata": {},
   "outputs": [],
   "source": [
    "List1 = [1,3,4,9,\"name\"]\n",
    "Tuple1 = (1,3,4,9,\"name\",3)\n",
    "Set1 = {1,3,4,9,\"name\",3}\n",
    "Dictionary1 = {23:\"twothree\", 'B' : 43, 'C': 'ccd'}"
   ]
  },
  {
   "cell_type": "code",
   "execution_count": 9,
   "id": "14a305a7",
   "metadata": {},
   "outputs": [
    {
     "name": "stdout",
     "output_type": "stream",
     "text": [
      "The type of List1 is <class 'list'>\n",
      "The type of Tuple1 is <class 'tuple'>\n",
      "The type of Set is <class 'set'>\n",
      "The type of Dictionary1 is <class 'dict'>\n"
     ]
    }
   ],
   "source": [
    "print(\"The type of List1 is\", type(List1))\n",
    "print(\"The type of Tuple1 is\", type(Tuple1))\n",
    "print(\"The type of Set is\", type(Set1))\n",
    "print(\"The type of Dictionary1 is\", type(Dictionary1))\n"
   ]
  },
  {
   "cell_type": "code",
   "execution_count": 10,
   "id": "072936f2",
   "metadata": {},
   "outputs": [
    {
     "name": "stdout",
     "output_type": "stream",
     "text": [
      "3\n",
      "3\n",
      "True\n",
      "twothree\n"
     ]
    }
   ],
   "source": [
    "print(List1[1])\n",
    "print(Tuple1[1])\n",
    "print(3 in Set1)\n",
    "print(Dictionary1[23])"
   ]
  },
  {
   "cell_type": "code",
   "execution_count": 11,
   "id": "63bcce88",
   "metadata": {},
   "outputs": [
    {
     "data": {
      "text/plain": [
       "[1, 3, 4, 9, 'name']"
      ]
     },
     "execution_count": 11,
     "metadata": {},
     "output_type": "execute_result"
    }
   ],
   "source": [
    "List1"
   ]
  },
  {
   "cell_type": "code",
   "execution_count": 12,
   "id": "98d2c0df",
   "metadata": {},
   "outputs": [
    {
     "data": {
      "text/plain": [
       "[3, 4]"
      ]
     },
     "execution_count": 12,
     "metadata": {},
     "output_type": "execute_result"
    }
   ],
   "source": [
    "List1[1:3]"
   ]
  },
  {
   "cell_type": "code",
   "execution_count": 13,
   "id": "f19a30b3",
   "metadata": {},
   "outputs": [
    {
     "data": {
      "text/plain": [
       "['name', 9, 4, 3, 1]"
      ]
     },
     "execution_count": 13,
     "metadata": {},
     "output_type": "execute_result"
    }
   ],
   "source": [
    "List1[::-1]"
   ]
  },
  {
   "cell_type": "code",
   "execution_count": 14,
   "id": "3f4763ff",
   "metadata": {},
   "outputs": [
    {
     "data": {
      "text/plain": [
       "(1, 3, 4)"
      ]
     },
     "execution_count": 14,
     "metadata": {},
     "output_type": "execute_result"
    }
   ],
   "source": [
    "Tuple1[:3]"
   ]
  },
  {
   "cell_type": "code",
   "execution_count": 15,
   "id": "9f534001",
   "metadata": {},
   "outputs": [],
   "source": [
    "#adding elements in the list\n",
    "List1 = List1 + [\"how\", \"are\", 6]"
   ]
  },
  {
   "cell_type": "code",
   "execution_count": 16,
   "id": "3028c35e",
   "metadata": {},
   "outputs": [],
   "source": [
    "List1.append(6.8)"
   ]
  },
  {
   "cell_type": "code",
   "execution_count": 17,
   "id": "2f38f0f4",
   "metadata": {},
   "outputs": [
    {
     "data": {
      "text/plain": [
       "[1, 3, 4, 9, 'name', 'how', 'are', 6, 6.8]"
      ]
     },
     "execution_count": 17,
     "metadata": {},
     "output_type": "execute_result"
    }
   ],
   "source": [
    "List1"
   ]
  },
  {
   "cell_type": "code",
   "execution_count": 18,
   "id": "80cc047e",
   "metadata": {},
   "outputs": [
    {
     "data": {
      "text/plain": [
       "(1, 3, 4, 9, 'name', 3, 'a', 'b', 45)"
      ]
     },
     "execution_count": 18,
     "metadata": {},
     "output_type": "execute_result"
    }
   ],
   "source": [
    "Tuple2 = (\"a\", \"b\", 45)\n",
    "Tuple3 = Tuple1 + Tuple2\n",
    "Tuple3"
   ]
  },
  {
   "cell_type": "code",
   "execution_count": 19,
   "id": "921234a3",
   "metadata": {},
   "outputs": [],
   "source": [
    "Set1.update({23,\"game\",1})"
   ]
  },
  {
   "cell_type": "code",
   "execution_count": 20,
   "id": "3da95157",
   "metadata": {},
   "outputs": [
    {
     "data": {
      "text/plain": [
       "{1, 23, 3, 4, 9, 'game', 'name'}"
      ]
     },
     "execution_count": 20,
     "metadata": {},
     "output_type": "execute_result"
    }
   ],
   "source": [
    "Set1"
   ]
  },
  {
   "cell_type": "code",
   "execution_count": 21,
   "id": "60e95403",
   "metadata": {},
   "outputs": [],
   "source": [
    "#adding key-value pair to a dictionary\n",
    "Dictionary1[\"newkey\"] = \"newValue\""
   ]
  },
  {
   "cell_type": "code",
   "execution_count": 22,
   "id": "204f3aa8",
   "metadata": {},
   "outputs": [
    {
     "data": {
      "text/plain": [
       "{23: 'twothree', 'B': 43, 'C': 'ccd', 'newkey': 'newValue'}"
      ]
     },
     "execution_count": 22,
     "metadata": {},
     "output_type": "execute_result"
    }
   ],
   "source": [
    "Dictionary1"
   ]
  },
  {
   "cell_type": "code",
   "execution_count": 23,
   "id": "f38ef04a",
   "metadata": {},
   "outputs": [],
   "source": [
    "Dictionary2 = {\"fruits\":\"apple\", \"vegetables\":\"onions\"}"
   ]
  },
  {
   "cell_type": "code",
   "execution_count": 24,
   "id": "8a429e85",
   "metadata": {},
   "outputs": [
    {
     "data": {
      "text/plain": [
       "{1, 23, 3, 4, 9, 'name'}"
      ]
     },
     "execution_count": 24,
     "metadata": {},
     "output_type": "execute_result"
    }
   ],
   "source": [
    "Set1.remove(\"game\")\n",
    "Set1"
   ]
  },
  {
   "cell_type": "code",
   "execution_count": 25,
   "id": "6a39b98e",
   "metadata": {},
   "outputs": [],
   "source": [
    "del Dictionary1[\"C\"]"
   ]
  },
  {
   "cell_type": "code",
   "execution_count": 26,
   "id": "b58cfdb5",
   "metadata": {},
   "outputs": [
    {
     "data": {
      "text/plain": [
       "{23: 'twothree', 'B': 43, 'newkey': 'newValue'}"
      ]
     },
     "execution_count": 26,
     "metadata": {},
     "output_type": "execute_result"
    }
   ],
   "source": [
    "Dictionary1"
   ]
  },
  {
   "cell_type": "markdown",
   "id": "bae86d40",
   "metadata": {},
   "source": [
    "NOTE: Two dictionaries cannot be concatenated using plus operator.\n",
    "Rather can be updated using\n",
    "Dictionary1[\"newkey\"] = \"newValue\"\n"
   ]
  },
  {
   "cell_type": "code",
   "execution_count": 27,
   "id": "88c7f353",
   "metadata": {},
   "outputs": [
    {
     "data": {
      "text/plain": [
       "[1, 3, 4, 9, 'name', 'how', 'are', 6, 6.8]"
      ]
     },
     "execution_count": 27,
     "metadata": {},
     "output_type": "execute_result"
    }
   ],
   "source": [
    "List2 = List1\n",
    "List2"
   ]
  },
  {
   "cell_type": "code",
   "execution_count": 28,
   "id": "e3112472",
   "metadata": {},
   "outputs": [
    {
     "data": {
      "text/plain": [
       "[1, 3, 'four point three', 9, 'name', 'how', 'are', 6, 6.8]"
      ]
     },
     "execution_count": 28,
     "metadata": {},
     "output_type": "execute_result"
    }
   ],
   "source": [
    "List2[2] = \"four point three\"\n",
    "List2"
   ]
  },
  {
   "cell_type": "code",
   "execution_count": 29,
   "id": "14f0a8e3",
   "metadata": {},
   "outputs": [
    {
     "data": {
      "text/plain": [
       "[1, 3, 'four point three', 9, 'name', 'how', 'are', 6, 6.8]"
      ]
     },
     "execution_count": 29,
     "metadata": {},
     "output_type": "execute_result"
    }
   ],
   "source": [
    "List1 #List1 has also changed"
   ]
  },
  {
   "cell_type": "code",
   "execution_count": 30,
   "id": "1cd7c838",
   "metadata": {},
   "outputs": [],
   "source": [
    "List2 = List1.copy() #this function helps in creating a copy\n",
    "List2[2] = 4.9 #now only List2 will change without affecting List1"
   ]
  },
  {
   "cell_type": "code",
   "execution_count": 31,
   "id": "44482516",
   "metadata": {},
   "outputs": [
    {
     "data": {
      "text/plain": [
       "[1, 3, 4.9, 9, 'name', 'how', 'are', 6, 6.8]"
      ]
     },
     "execution_count": 31,
     "metadata": {},
     "output_type": "execute_result"
    }
   ],
   "source": [
    "List2"
   ]
  },
  {
   "cell_type": "code",
   "execution_count": 32,
   "id": "e7db936d",
   "metadata": {},
   "outputs": [
    {
     "data": {
      "text/plain": [
       "[1, 3, 'four point three', 9, 'name', 'how', 'are', 6, 6.8]"
      ]
     },
     "execution_count": 32,
     "metadata": {},
     "output_type": "execute_result"
    }
   ],
   "source": [
    "List1"
   ]
  },
  {
   "cell_type": "code",
   "execution_count": 33,
   "id": "357dbe26",
   "metadata": {},
   "outputs": [
    {
     "data": {
      "text/plain": [
       "['three', 'four point three', 9, 'name']"
      ]
     },
     "execution_count": 33,
     "metadata": {},
     "output_type": "execute_result"
    }
   ],
   "source": [
    "#Slicing\n",
    "List3 = List1[1:5] #List3 will be a complete new list\n",
    "List3[0]= \"three\" #won't affect List1\n",
    "List3"
   ]
  },
  {
   "cell_type": "code",
   "execution_count": 34,
   "id": "eb6a31f4",
   "metadata": {},
   "outputs": [
    {
     "data": {
      "text/plain": [
       "[1, 3, 'four point three', 9, 'name', 'how', 'are', 6, 6.8]"
      ]
     },
     "execution_count": 34,
     "metadata": {},
     "output_type": "execute_result"
    }
   ],
   "source": [
    "List1"
   ]
  },
  {
   "cell_type": "code",
   "execution_count": 35,
   "id": "374fbfc7",
   "metadata": {},
   "outputs": [
    {
     "name": "stdout",
     "output_type": "stream",
     "text": [
      "Help on built-in function pop:\n",
      "\n",
      "pop(index=-1, /) method of builtins.list instance\n",
      "    Remove and return item at index (default last).\n",
      "\n",
      "    Raises IndexError if list is empty or index is out of range.\n",
      "\n"
     ]
    }
   ],
   "source": [
    "help(List1.pop)"
   ]
  },
  {
   "cell_type": "code",
   "execution_count": 36,
   "id": "5bf614ea",
   "metadata": {},
   "outputs": [
    {
     "data": {
      "text/plain": [
       "[6.8, 6, 'are', 'how', 'name', 9, 'four point three', 3, 1]"
      ]
     },
     "execution_count": 36,
     "metadata": {},
     "output_type": "execute_result"
    }
   ],
   "source": [
    "List1.reverse()\n",
    "List1"
   ]
  },
  {
   "cell_type": "code",
   "execution_count": 37,
   "id": "c032ab03",
   "metadata": {},
   "outputs": [
    {
     "data": {
      "text/plain": [
       "dict_items([(23, 'twothree'), ('B', 43), ('newkey', 'newValue')])"
      ]
     },
     "execution_count": 37,
     "metadata": {},
     "output_type": "execute_result"
    }
   ],
   "source": [
    "Dictionary1.items()"
   ]
  },
  {
   "cell_type": "code",
   "execution_count": 38,
   "id": "bd777f9b",
   "metadata": {},
   "outputs": [],
   "source": [
    "#Incorporating Lists, Tuples Sets and dictionary in a dicitonary\n",
    "Dictionary3 = {\"A\":List1, \"B\": Tuple1, \"C\": Set1, \"D\": Dictionary1}"
   ]
  },
  {
   "cell_type": "code",
   "execution_count": 39,
   "id": "95224b6f",
   "metadata": {},
   "outputs": [
    {
     "data": {
      "text/plain": [
       "'how'"
      ]
     },
     "execution_count": 39,
     "metadata": {},
     "output_type": "execute_result"
    }
   ],
   "source": [
    "Dictionary3[\"A\"][3] #retrieves index 3 from first element of the dictionary"
   ]
  },
  {
   "cell_type": "code",
   "execution_count": 40,
   "id": "e891a8ec",
   "metadata": {},
   "outputs": [],
   "source": [
    "Dictionary4 = Dictionary3['D']\n"
   ]
  },
  {
   "cell_type": "code",
   "execution_count": 41,
   "id": "9287dfd6",
   "metadata": {},
   "outputs": [
    {
     "data": {
      "text/plain": [
       "{23: 'twothree', 'B': 43, 'newkey': 'newValue'}"
      ]
     },
     "execution_count": 41,
     "metadata": {},
     "output_type": "execute_result"
    }
   ],
   "source": [
    "Dictionary4"
   ]
  },
  {
   "cell_type": "code",
   "execution_count": 42,
   "id": "817d47ca",
   "metadata": {},
   "outputs": [
    {
     "name": "stdout",
     "output_type": "stream",
     "text": [
      "23 twothree\n",
      "B 43\n",
      "newkey newValue\n"
     ]
    }
   ],
   "source": [
    "for studentId in Dictionary4:\n",
    "    print(studentId, Dictionary4[studentId])\n"
   ]
  },
  {
   "cell_type": "code",
   "execution_count": 43,
   "id": "2b8664fd",
   "metadata": {},
   "outputs": [
    {
     "data": {
      "text/plain": [
       "dict"
      ]
     },
     "execution_count": 43,
     "metadata": {},
     "output_type": "execute_result"
    }
   ],
   "source": [
    "#List can also contain dictionary as an element as well\n",
    "List4 = [List1, Tuple1, Dictionary1, \"context\"]\n",
    "type(List4[2]) "
   ]
  },
  {
   "cell_type": "code",
   "execution_count": 44,
   "id": "26d6f525",
   "metadata": {},
   "outputs": [
    {
     "data": {
      "text/plain": [
       "[[6.8, 6, 'are', 'how', 'name', 9, 'four point three', 3, 1],\n",
       " (1, 3, 4, 9, 'name', 3),\n",
       " {23: 'twothree', 'B': 43, 'newkey': 'newValue'},\n",
       " 'context']"
      ]
     },
     "execution_count": 44,
     "metadata": {},
     "output_type": "execute_result"
    }
   ],
   "source": [
    "List4"
   ]
  },
  {
   "cell_type": "code",
   "execution_count": 45,
   "id": "35422edc",
   "metadata": {},
   "outputs": [
    {
     "data": {
      "text/plain": [
       "[0, 1, 4, 9, 16, 25, 36, 49, 64, 81]"
      ]
     },
     "execution_count": 45,
     "metadata": {},
     "output_type": "execute_result"
    }
   ],
   "source": [
    "List5 = [x**2 for x in range(10)]\n",
    "List5"
   ]
  },
  {
   "cell_type": "code",
   "execution_count": 46,
   "id": "0abe365c",
   "metadata": {},
   "outputs": [],
   "source": [
    "Set2 = {x**2 for x in range(10)}"
   ]
  },
  {
   "cell_type": "code",
   "execution_count": 47,
   "id": "aa1ce282",
   "metadata": {},
   "outputs": [
    {
     "data": {
      "text/plain": [
       "{0, 1, 4, 9, 16, 25, 36, 49, 64, 81}"
      ]
     },
     "execution_count": 47,
     "metadata": {},
     "output_type": "execute_result"
    }
   ],
   "source": [
    "Set2"
   ]
  },
  {
   "cell_type": "code",
   "execution_count": 6,
   "id": "d2484c94",
   "metadata": {},
   "outputs": [],
   "source": [
    "def getDataFromUser():\n",
    "    studentDictionary = {}\n",
    "    while True:\n",
    "        studentId = input(\"Enter StudentId: \")\n",
    "        marksList = input(\"Enter the marks by comma separated values: \")\n",
    "        addStudents = input(\"Enter yes/no for adding more students: \")\n",
    "        if studentId in studentDictionary:\n",
    "            print(studentId, \"is already inserted\")\n",
    "        else:\n",
    "            studentDictionary[studentId] = marksList.split(\",\") #split will separate the input as string input at commas\n",
    "        if addStudents.lower() == \"no\":\n",
    "            return studentDictionary"
   ]
  },
  {
   "cell_type": "code",
   "execution_count": 7,
   "id": "e31a40a3",
   "metadata": {},
   "outputs": [],
   "source": [
    "studentData = getDataFromUser()"
   ]
  },
  {
   "cell_type": "code",
   "execution_count": 8,
   "id": "2251a0dc",
   "metadata": {},
   "outputs": [
    {
     "data": {
      "text/plain": [
       "{'12': ['45', ' 36']}"
      ]
     },
     "execution_count": 8,
     "metadata": {},
     "output_type": "execute_result"
    }
   ],
   "source": [
    "studentData"
   ]
  },
  {
   "cell_type": "code",
   "execution_count": 9,
   "id": "b9ecafdb",
   "metadata": {},
   "outputs": [],
   "source": [
    "def getAverageMarks(studentDictionary):\n",
    "    averageMarks = {}\n",
    "    for studentId in studentDictionary:\n",
    "        marksList = studentDictionary[studentId]\n",
    "        sum = 0\n",
    "        for marks in marksList:\n",
    "            sum+= int(marks)\n",
    "        averageMarks[studentId] = round(sum/len(marksList), 2)\n",
    "    return averageMarks    \n",
    "\n"
   ]
  },
  {
   "cell_type": "code",
   "execution_count": 10,
   "id": "8019b73c",
   "metadata": {},
   "outputs": [],
   "source": [
    "avgMarks = getAverageMarks(studentData)"
   ]
  },
  {
   "cell_type": "code",
   "execution_count": 11,
   "id": "3d74a06d",
   "metadata": {},
   "outputs": [
    {
     "data": {
      "text/plain": [
       "{'12': 40.5}"
      ]
     },
     "execution_count": 11,
     "metadata": {},
     "output_type": "execute_result"
    }
   ],
   "source": [
    "avgMarks"
   ]
  },
  {
   "cell_type": "code",
   "execution_count": 12,
   "id": "27eeafe9",
   "metadata": {},
   "outputs": [
    {
     "name": "stdout",
     "output_type": "stream",
     "text": [
      "Student:  12 got average Marks as:  {'12': 40.5}\n"
     ]
    }
   ],
   "source": [
    "for studentId in avgMarks:\n",
    "    print(\"Student: \", studentId , \"got average Marks as: \", avgMarks)"
   ]
  }
 ],
 "metadata": {
  "kernelspec": {
   "display_name": ".venv",
   "language": "python",
   "name": "python3"
  },
  "language_info": {
   "codemirror_mode": {
    "name": "ipython",
    "version": 3
   },
   "file_extension": ".py",
   "mimetype": "text/x-python",
   "name": "python",
   "nbconvert_exporter": "python",
   "pygments_lexer": "ipython3",
   "version": "3.13.5"
  }
 },
 "nbformat": 4,
 "nbformat_minor": 5
}
